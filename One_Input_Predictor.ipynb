{
  "nbformat": 4,
  "nbformat_minor": 0,
  "metadata": {
    "colab": {
      "provenance": [],
      "collapsed_sections": [
        "DXWO5jNRLTvd",
        "Uo_KCwN4L6aY",
        "8oQk2E1cMF09",
        "4q94yGWsM_mU",
        "_KGUQH-oN9FJ",
        "T-2Ig3KtREUI",
        "pGwOL0-QTCAH",
        "89ECJBJUTeCm",
        "ipsDALgkAe1d"
      ],
      "history_visible": true,
      "machine_shape": "hm",
      "authorship_tag": "ABX9TyNFERckxGNeX2zBGRit0GJz",
      "include_colab_link": true
    },
    "kernelspec": {
      "name": "python3",
      "display_name": "Python 3"
    },
    "language_info": {
      "name": "python"
    },
    "accelerator": "GPU"
  },
  "cells": [
    {
      "cell_type": "markdown",
      "metadata": {
        "id": "view-in-github",
        "colab_type": "text"
      },
      "source": [
        "<a href=\"https://colab.research.google.com/github/ZefraAlseif/Predicting-ELectric-Load/blob/main/One_Input_Predictor.ipynb\" target=\"_parent\"><img src=\"https://colab.research.google.com/assets/colab-badge.svg\" alt=\"Open In Colab\"/></a>"
      ]
    },
    {
      "cell_type": "markdown",
      "source": [
        "# Importing Libraries"
      ],
      "metadata": {
        "id": "DXWO5jNRLTvd"
      }
    },
    {
      "cell_type": "code",
      "execution_count": null,
      "metadata": {
        "id": "J3pETF8oLMrf"
      },
      "outputs": [],
      "source": [
        "import numpy as np\n",
        "import pandas as pd\n",
        "import os\n",
        "import shutil\n",
        "import matplotlib.pyplot as plt\n",
        "#from common.utils import load_data, extract_data, download_file %matplotlib inline\n",
        "import pandas as pd\n",
        "import os\n",
        "import numpy as np\n",
        "from matplotlib import pyplot as plt\n",
        "from tensorflow import keras\n",
        "from tensorflow import keras\n",
        "from tensorflow.keras import layers\n",
        "import copy"
      ]
    },
    {
      "cell_type": "markdown",
      "source": [
        "# Import zip folder"
      ],
      "metadata": {
        "id": "Uo_KCwN4L6aY"
      }
    },
    {
      "cell_type": "code",
      "source": [
        "!wget https://mlftsfwp.blob.core.windows.net/mlftsfwp/GEFCom2014.zip"
      ],
      "metadata": {
        "colab": {
          "base_uri": "https://localhost:8080/"
        },
        "id": "yXOn1OxsL-Ee",
        "outputId": "b63138f3-4c11-44b4-a228-de42a25dda01"
      },
      "execution_count": null,
      "outputs": [
        {
          "output_type": "stream",
          "name": "stdout",
          "text": [
            "--2022-04-27 19:48:59--  https://mlftsfwp.blob.core.windows.net/mlftsfwp/GEFCom2014.zip\n",
            "Resolving mlftsfwp.blob.core.windows.net (mlftsfwp.blob.core.windows.net)... 52.239.155.196\n",
            "Connecting to mlftsfwp.blob.core.windows.net (mlftsfwp.blob.core.windows.net)|52.239.155.196|:443... connected.\n",
            "HTTP request sent, awaiting response... 200 OK\n",
            "Length: 126360077 (121M) [application/x-zip-compressed]\n",
            "Saving to: ‘GEFCom2014.zip’\n",
            "\n",
            "GEFCom2014.zip      100%[===================>] 120.51M  9.49MB/s    in 11s     \n",
            "\n",
            "2022-04-27 19:49:11 (11.2 MB/s) - ‘GEFCom2014.zip’ saved [126360077/126360077]\n",
            "\n"
          ]
        }
      ]
    },
    {
      "cell_type": "markdown",
      "source": [
        "# Unzip Folder"
      ],
      "metadata": {
        "id": "8oQk2E1cMF09"
      }
    },
    {
      "cell_type": "code",
      "source": [
        "!unzip GEFCom2014.zip"
      ],
      "metadata": {
        "colab": {
          "base_uri": "https://localhost:8080/"
        },
        "id": "h-KojbIsMQFt",
        "outputId": "386a9cf0-2937-4d58-e068-99a9aa2d688a"
      },
      "execution_count": null,
      "outputs": [
        {
          "output_type": "stream",
          "name": "stdout",
          "text": [
            "Archive:  GEFCom2014.zip\n",
            "   creating: GEFCom2014 Data/\n",
            " extracting: GEFCom2014 Data/GEFCom2014-S_V2.zip  \n",
            " extracting: GEFCom2014 Data/GEFCom2014-W_V2.zip  \n",
            "  inflating: GEFCom2014 Data/READ ME_V2.txt  \n",
            "  inflating: GEFCom2014 Data/Provisional_Leaderboard_V2.xlsx  \n",
            " extracting: GEFCom2014 Data/GEFCom2014-L_V2.zip  \n",
            " extracting: GEFCom2014 Data/GEFCom2014-E_V2.zip  \n",
            " extracting: GEFCom2014 Data/GEFCom2014-P_V2.zip  \n"
          ]
        }
      ]
    },
    {
      "cell_type": "markdown",
      "source": [
        "# Unzip 2nd Folder"
      ],
      "metadata": {
        "id": "4q94yGWsM_mU"
      }
    },
    {
      "cell_type": "code",
      "source": [
        "!mv 'GEFCom2014 Data'/GEFCom2014-E_V2.zip ./\n",
        "!unzip GEFCom2014-E_V2.zip"
      ],
      "metadata": {
        "colab": {
          "base_uri": "https://localhost:8080/"
        },
        "id": "p0NufJ0eNCKY",
        "outputId": "0a7e104c-d520-4e81-d6b8-e9d343848a9e"
      },
      "execution_count": null,
      "outputs": [
        {
          "output_type": "stream",
          "name": "stdout",
          "text": [
            "Archive:  GEFCom2014-E_V2.zip\n",
            "  inflating: GEFCom2014-E.xlsx       \n"
          ]
        }
      ]
    },
    {
      "cell_type": "markdown",
      "source": [
        "# Converting to Pandas Dataframe"
      ],
      "metadata": {
        "id": "_KGUQH-oN9FJ"
      }
    },
    {
      "cell_type": "code",
      "source": [
        "GEFDF = pd.read_excel('GEFCom2014-E.xlsx', skiprows=range(1, 17545), dtype = {'A':np.int32,})"
      ],
      "metadata": {
        "id": "8tM4QBNSOHm9"
      },
      "execution_count": null,
      "outputs": []
    },
    {
      "cell_type": "markdown",
      "source": [
        "# Writing out GEFDF to text file"
      ],
      "metadata": {
        "id": "T-2Ig3KtREUI"
      }
    },
    {
      "cell_type": "code",
      "source": [
        "GEFDF.to_csv('GEF14.csv', encoding='utf-8', index=False, header=True, columns=['Hour','load','T'])\n",
        "with open('GEF14.csv') as f:\n",
        "  lines = f.readlines()\n",
        "  last = len(lines) - 1\n",
        "  lines[last] = lines[last].replace('\\r','').replace('\\n','')\n",
        "with open('GEF14.csv', 'w') as wr:\n",
        "  wr.writelines(lines)"
      ],
      "metadata": {
        "id": "EEQ9iErfRJJa"
      },
      "execution_count": null,
      "outputs": []
    },
    {
      "cell_type": "markdown",
      "source": [
        "# Inspect the Data"
      ],
      "metadata": {
        "id": "5oPDaFjzRzbn"
      }
    },
    {
      "cell_type": "code",
      "source": [
        "fname = os.path.join(\"GEF14.csv\")\n",
        "with open(fname) as f:\n",
        "  data = f.read()\n",
        "lines = data.split(\"\\n\")\n",
        "header = lines[0].split(\",\")\n",
        "lines = lines[1:]\n",
        "print(header)\n",
        "print(len(lines))"
      ],
      "metadata": {
        "colab": {
          "base_uri": "https://localhost:8080/"
        },
        "id": "q_BpcrbJR2MH",
        "outputId": "991958c4-cca3-40e4-b516-e8d72df80c80"
      },
      "execution_count": null,
      "outputs": [
        {
          "output_type": "stream",
          "name": "stdout",
          "text": [
            "['Hour', 'load', 'T']\n",
            "78888\n"
          ]
        }
      ]
    },
    {
      "cell_type": "markdown",
      "source": [
        "# Parsing the Data"
      ],
      "metadata": {
        "id": "wt2EycvuR9vp"
      }
    },
    {
      "cell_type": "code",
      "source": [
        "eload = np.zeros((len(lines),))\n",
        "tempf = np.zeros((len(lines),))\n",
        "raw_data = np.zeros((len(lines), len(header)-2)) #chgd )-1 to )-2 to also\n",
        "# remove the HOUR column, in addition to the DATE column\n",
        "print(len(lines))\n",
        "for m in range(78888):\n",
        "  thisline = lines[m]\n",
        "  values = [float(x) for x in thisline.split(\",\")[1:]]\n",
        "  eload[m] = values[0] #Captures JUST E LOAD\n",
        "  tempf[m] = values[1] #Captures JUST TEMPF\n",
        "  raw_data[m] = values[0] #Like this, raw_data Captures JUST E LOAD\n",
        "  #raw_data[m, :] = values[:] # Like this, raw_data CAPTURES BOTH"
      ],
      "metadata": {
        "colab": {
          "base_uri": "https://localhost:8080/"
        },
        "id": "VYhw7QaBR_x8",
        "outputId": "ce4b5c93-6942-4a53-d1eb-36fbf7ff4716"
      },
      "execution_count": null,
      "outputs": [
        {
          "output_type": "stream",
          "name": "stdout",
          "text": [
            "78888\n"
          ]
        }
      ]
    },
    {
      "cell_type": "markdown",
      "source": [
        "# Plotting the Eload Timeseries"
      ],
      "metadata": {
        "id": "pGwOL0-QTCAH"
      }
    },
    {
      "cell_type": "code",
      "source": [
        "plt.plot(range(len(eload)), eload)"
      ],
      "metadata": {
        "colab": {
          "base_uri": "https://localhost:8080/"
        },
        "id": "K9th4pxgTFps",
        "outputId": "399e8e01-366a-44ea-b00e-6505bc9e42b2"
      },
      "execution_count": null,
      "outputs": [
        {
          "output_type": "execute_result",
          "data": {
            "text/plain": [
              "[<matplotlib.lines.Line2D at 0x7fc5961c5cd0>]"
            ]
          },
          "metadata": {},
          "execution_count": 9
        },
        {
          "output_type": "display_data",
          "data": {
            "text/plain": [
              "<Figure size 432x288 with 1 Axes>"
            ],
            "image/png": "[encoded data removed]"
          },
          "metadata": {
            "needs_background": "light"
          }
        }
      ]
    },
    {
      "cell_type": "code",
      "source": [
        "plt.plot(range(len(tempf)), tempf)"
      ],
      "metadata": {
        "colab": {
          "base_uri": "https://localhost:8080/"
        },
        "id": "NT5BtbNzTP-Q",
        "outputId": "658f6a76-7d1d-44a2-84c2-d9ef16abbd6b"
      },
      "execution_count": null,
      "outputs": [
        {
          "output_type": "execute_result",
          "data": {
            "text/plain": [
              "[<matplotlib.lines.Line2D at 0x7fc594726490>]"
            ]
          },
          "metadata": {},
          "execution_count": 10
        },
        {
          "output_type": "display_data",
          "data": {
            "text/plain": [
              "<Figure size 432x288 with 1 Axes>"
            ],
            "image/png": "[encoded data removed]"
          },
          "metadata": {
            "needs_background": "light"
          }
        }
      ]
    },
    {
      "cell_type": "markdown",
      "source": [
        "# Number of Samples for each split"
      ],
      "metadata": {
        "id": "hXnvq_qVTWOW"
      }
    },
    {
      "cell_type": "code",
      "source": [
        "num_train_samples = int(0.5 * len(raw_data))\n",
        "num_val_samples = int(0.25 * len(raw_data))\n",
        "num_test_samples = len(raw_data) - num_train_samples - num_val_samples\n",
        "print(\"num_train_samples:\", num_train_samples)\n",
        "print(\"num_val_samples:\", num_val_samples)\n",
        "print(\"num_test_samples:\", num_test_samples)"
      ],
      "metadata": {
        "colab": {
          "base_uri": "https://localhost:8080/"
        },
        "id": "-uEPEsnnTZfQ",
        "outputId": "967cce23-e6bd-480c-9f2d-a0e4885f19e2"
      },
      "execution_count": null,
      "outputs": [
        {
          "output_type": "stream",
          "name": "stdout",
          "text": [
            "num_train_samples: 39444\n",
            "num_val_samples: 19722\n",
            "num_test_samples: 19722\n"
          ]
        }
      ]
    },
    {
      "cell_type": "markdown",
      "source": [
        "# Preparing the Data"
      ],
      "metadata": {
        "id": "89ECJBJUTeCm"
      }
    },
    {
      "cell_type": "code",
      "source": [
        "plt.plot(range(240),eload[:240])"
      ],
      "metadata": {
        "colab": {
          "base_uri": "https://localhost:8080/"
        },
        "id": "7_ACW-dnTgRC",
        "outputId": "810ca918-32ab-4370-c00e-0a95769f9b2d"
      },
      "execution_count": null,
      "outputs": [
        {
          "output_type": "execute_result",
          "data": {
            "text/plain": [
              "[<matplotlib.lines.Line2D at 0x7fc5961e9190>]"
            ]
          },
          "metadata": {},
          "execution_count": 12
        },
        {
          "output_type": "display_data",
          "data": {
            "text/plain": [
              "<Figure size 432x288 with 1 Axes>"
            ],
            "image/png": "[encoded data removed]"
          },
          "metadata": {
            "needs_background": "light"
          }
        }
      ]
    },
    {
      "cell_type": "code",
      "source": [
        "plt.plot(range(240),tempf[:240])"
      ],
      "metadata": {
        "colab": {
          "base_uri": "https://localhost:8080/"
        },
        "id": "-eWrZlsGTjJQ",
        "outputId": "7d63c83f-b58f-4918-de5f-d18d4c7907c2"
      },
      "execution_count": null,
      "outputs": [
        {
          "output_type": "execute_result",
          "data": {
            "text/plain": [
              "[<matplotlib.lines.Line2D at 0x7fc594572910>]"
            ]
          },
          "metadata": {},
          "execution_count": 13
        },
        {
          "output_type": "display_data",
          "data": {
            "text/plain": [
              "<Figure size 432x288 with 1 Axes>"
            ],
            "image/png": "[encoded data removed]"
          },
          "metadata": {
            "needs_background": "light"
          }
        }
      ]
    },
    {
      "cell_type": "markdown",
      "source": [
        "# Normalizing the Data"
      ],
      "metadata": {
        "id": "chKhyWpYTq7m"
      }
    },
    {
      "cell_type": "code",
      "source": [
        "Copy_raw_data = copy.copy(raw_data)\n",
        "mean = Copy_raw_data[:num_train_samples].mean(axis=0)\n",
        "Copy_raw_data -= mean\n",
        "std = Copy_raw_data[:num_train_samples].std(axis=0)\n",
        "Copy_raw_data /= std\n",
        "\n",
        "print(\"Highest value of test set: \",raw_data[num_train_samples + num_val_samples:].max(axis=0))\n",
        "print(\"Smallest value of test set: \",raw_data[num_train_samples + num_val_samples:].min(axis=0))\n",
        "print(\"Full range of test set: \",raw_data[num_train_samples + num_val_samples:].max(axis=0) - raw_data[num_train_samples + num_val_samples:].min(axis=0))"
      ],
      "metadata": {
        "id": "iGGg3Z3xTuU9",
        "colab": {
          "base_uri": "https://localhost:8080/"
        },
        "outputId": "95dfac34-3bf8-4118-c51f-d7fa2927c3b6"
      },
      "execution_count": null,
      "outputs": [
        {
          "output_type": "stream",
          "name": "stdout",
          "text": [
            "Highest value of test set:  [5224.]\n",
            "Smallest value of test set:  [1979.]\n",
            "Full range of test set:  [3245.]\n"
          ]
        }
      ]
    },
    {
      "cell_type": "markdown",
      "source": [
        "# Arranging DataSets"
      ],
      "metadata": {
        "id": "tOotPmmTT0TX"
      }
    },
    {
      "cell_type": "code",
      "source": [
        "horizon = 6 # Num. of hours ahead for forecast (3 or 6)\n",
        "sampling_rate = 1\n",
        "sequence_length = 24 # For horizon = 3 (sequence length < 15) & horizon = 6 (sequence length < 36)\n",
        "delay = sampling_rate * (sequence_length + horizon - 1)\n",
        "batch_size = 128\n",
        "train_dataset = keras.utils.timeseries_dataset_from_array(\n",
        "Copy_raw_data[:-delay],\n",
        "targets=Copy_raw_data[delay:], # This would used \"Normalized Targets\"\n",
        "# targets=eload[delay:], # This would used \"Not-normalized eload targets\"\n",
        "sampling_rate=sampling_rate,\n",
        "sequence_length=sequence_length,\n",
        "shuffle=True, #changed to false JUST FOR VERIF\n",
        "batch_size= num_train_samples,\n",
        "start_index=0,\n",
        "end_index=num_train_samples)\n",
        "val_dataset = keras.utils.timeseries_dataset_from_array(\n",
        "Copy_raw_data[:-delay], # changed from raw_data to just eload not really\n",
        "targets=Copy_raw_data[delay:], # This would used \"Normalized Targets\"\n",
        "# targets=eload[delay:], # This would used \"Not-normalized eload targets\"\n",
        "sampling_rate=sampling_rate,\n",
        "sequence_length=sequence_length, \n",
        "shuffle=True,\n",
        "batch_size=num_val_samples,\n",
        "start_index=num_train_samples,\n",
        "end_index=num_train_samples + num_val_samples)\n",
        "test_dataset = keras.utils.timeseries_dataset_from_array(\n",
        "Copy_raw_data[:-delay], # changed from raw_data to just eload\n",
        "targets=Copy_raw_data[delay:], # This would used \"Normalized Targets\"\n",
        "# targets=eload[delay:], # This would used \"Not-normalized eload targets\"\n",
        "sampling_rate=sampling_rate,\n",
        "sequence_length=sequence_length,\n",
        "shuffle=False,\n",
        "batch_size=num_test_samples,\n",
        "start_index=num_train_samples + num_val_samples)"
      ],
      "metadata": {
        "id": "QTKc5GnvT4jL"
      },
      "execution_count": null,
      "outputs": []
    },
    {
      "cell_type": "markdown",
      "source": [
        "# Inspecting Output of Datasets"
      ],
      "metadata": {
        "id": "LOYn6AI8UEDh"
      }
    },
    {
      "cell_type": "code",
      "source": [
        "for samples, targets in train_dataset:\n",
        "  print(\"samples shape:\", samples.shape)\n",
        "  print(\"targets shape:\", targets.shape)\n",
        "  break "
      ],
      "metadata": {
        "colab": {
          "base_uri": "https://localhost:8080/"
        },
        "id": "rKI1g1VyUG3n",
        "outputId": "5c8db76f-1f6a-41ed-9815-3491bcf0da18"
      },
      "execution_count": null,
      "outputs": [
        {
          "output_type": "stream",
          "name": "stdout",
          "text": [
            "samples shape: (39421, 24, 1)\n",
            "targets shape: (39421, 1)\n"
          ]
        }
      ]
    },
    {
      "cell_type": "markdown",
      "source": [
        "# Training and Evaluating"
      ],
      "metadata": {
        "id": "CJQTtaF0-Wi7"
      }
    },
    {
      "cell_type": "code",
      "source": [
        "inputs = keras.Input(shape=(sequence_length, Copy_raw_data.shape[-1]))\n",
        "x = layers.GRU(50, recurrent_dropout=0.25, return_sequences=True)(inputs)\n",
        "x = layers.GRU(100, recurrent_dropout=0.15, return_sequences=True)(x)\n",
        "x = layers.LSTM(32, recurrent_dropout=0.15, return_sequences=True)(x)\n",
        "x = layers.LSTM(16, recurrent_dropout=0.25) (x)\n",
        "x = layers.Dropout (.5) (x)\n",
        "outputs = layers.Dense(1)(x)\n",
        "model = keras.Model(inputs, outputs)\n",
        "callbacks = [\n",
        "keras.callbacks.ModelCheckpoint(\"predictor.keras\",\n",
        "save_best_only=True)\n",
        "]\n",
        "\n",
        "model.compile(optimizer=keras.optimizers.RMSprop(learning_rate=5e-3), loss=\"mse\", metrics=[\"mae\"])\n",
        "history = model.fit(train_dataset,\n",
        "epochs=750,\n",
        "validation_data=val_dataset,\n",
        "callbacks=callbacks)\n",
        "model = keras.models.load_model(\"predictor.keras\")\n",
        "print(f\"Test MAE: {model.evaluate(test_dataset)[1]:.2f}\")\n",
        "\n",
        "model.summary()"
      ],
      "metadata": {
        "colab": {
          "base_uri": "https://localhost:8080/"
        },
        "id": "uBY847Ld-sNx",
        "outputId": "9c6ec2b2-5c94-4ae4-d2eb-66807aea8e73"
      },
      "execution_count": null,
      "outputs": [
        {
          "output_type": "stream",
          "name": "stdout",
          "text": [
            "WARNING:tensorflow:Layer gru will not use cuDNN kernels since it doesn't meet the criteria. It will use a generic GPU kernel as fallback when running on GPU.\n",
            "WARNING:tensorflow:Layer gru_1 will not use cuDNN kernels since it doesn't meet the criteria. It will use a generic GPU kernel as fallback when running on GPU.\n",
            "WARNING:tensorflow:Layer lstm will not use cuDNN kernels since it doesn't meet the criteria. It will use a generic GPU kernel as fallback when running on GPU.\n",
            "WARNING:tensorflow:Layer lstm_1 will not use cuDNN kernels since it doesn't meet the criteria. It will use a generic GPU kernel as fallback when running on GPU.\n",
            "Epoch 1/750\n",
            "1/1 [==============================] - 14s 14s/step - loss: 1.0028 - mae: 0.8304 - val_loss: 1.0143 - val_mae: 0.8036\n",
            "Epoch 2/750\n",
            "1/1 [==============================] - 4s 4s/step - loss: 1.0066 - mae: 0.8099 - val_loss: 0.8273 - val_mae: 0.7591\n",
            "Epoch 3/750\n",
            "1/1 [==============================] - 4s 4s/step - loss: 0.9116 - mae: 0.7938 - val_loss: 0.8561 - val_mae: 0.7433\n",
            "Epoch 4/750\n",
            "1/1 [==============================] - 4s 4s/step - loss: 0.9120 - mae: 0.7713 - val_loss: 0.6283 - val_mae: 0.6529\n",
            "Epoch 5/750\n",
            "1/1 [==============================] - 4s 4s/step - loss: 0.7107 - mae: 0.6903 - val_loss: 1.3863 - val_mae: 0.9040\n",
            "Epoch 6/750\n",
            "1/1 [==============================] - 4s 4s/step - loss: 1.5035 - mae: 0.9602 - val_loss: 0.8350 - val_mae: 0.7559\n",
            "Epoch 7/750\n",
            "1/1 [==============================] - 4s 4s/step - loss: 0.8837 - mae: 0.7842 - val_loss: 0.7009 - val_mae: 0.6623\n",
            "Epoch 8/750\n",
            "1/1 [==============================] - 4s 4s/step - loss: 0.7470 - mae: 0.6937 - val_loss: 0.5545 - val_mae: 0.5948\n",
            "Epoch 9/750\n",
            "1/1 [==============================] - 4s 4s/step - loss: 0.6111 - mae: 0.6266 - val_loss: 0.5356 - val_mae: 0.6012\n",
            "Epoch 10/750\n",
            "1/1 [==============================] - 4s 4s/step - loss: 0.5839 - mae: 0.6271 - val_loss: 0.6106 - val_mae: 0.6179\n",
            "Epoch 11/750\n",
            "1/1 [==============================] - 4s 4s/step - loss: 0.6945 - mae: 0.6654 - val_loss: 0.5032 - val_mae: 0.5756\n",
            "Epoch 12/750\n",
            "1/1 [==============================] - 4s 4s/step - loss: 0.5573 - mae: 0.6064 - val_loss: 0.4332 - val_mae: 0.5173\n",
            "Epoch 13/750\n",
            "1/1 [==============================] - 4s 4s/step - loss: 0.4826 - mae: 0.5513 - val_loss: 0.4206 - val_mae: 0.5326\n",
            "Epoch 14/750\n",
            "1/1 [==============================] - 4s 4s/step - loss: 0.4902 - mae: 0.5703 - val_loss: 0.5239 - val_mae: 0.5600\n",
            "Epoch 15/750\n",
            "1/1 [==============================] - 4s 4s/step - loss: 0.5745 - mae: 0.5929 - val_loss: 0.4374 - val_mae: 0.5419\n",
            "Epoch 16/750\n",
            "1/1 [==============================] - 4s 4s/step - loss: 0.5016 - mae: 0.5766 - val_loss: 0.3924 - val_mae: 0.4885\n",
            "Epoch 17/750\n",
            "1/1 [==============================] - 4s 4s/step - loss: 0.4438 - mae: 0.5232 - val_loss: 0.3359 - val_mae: 0.4666\n",
            "Epoch 18/750\n",
            "1/1 [==============================] - 4s 4s/step - loss: 0.3976 - mae: 0.5062 - val_loss: 0.3192 - val_mae: 0.4390\n",
            "Epoch 19/750\n",
            "1/1 [==============================] - 4s 4s/step - loss: 0.3787 - mae: 0.4832 - val_loss: 0.3244 - val_mae: 0.4638\n",
            "Epoch 20/750\n",
            "1/1 [==============================] - 4s 4s/step - loss: 0.3833 - mae: 0.5008 - val_loss: 0.4847 - val_mae: 0.5392\n",
            "Epoch 21/750\n",
            "1/1 [==============================] - 4s 4s/step - loss: 0.5684 - mae: 0.5935 - val_loss: 0.4741 - val_mae: 0.5565\n",
            "Epoch 22/750\n",
            "1/1 [==============================] - 4s 4s/step - loss: 0.5173 - mae: 0.5834 - val_loss: 0.4463 - val_mae: 0.5318\n",
            "Epoch 23/750\n",
            "1/1 [==============================] - 4s 4s/step - loss: 0.4961 - mae: 0.5629 - val_loss: 0.3987 - val_mae: 0.4863\n",
            "Epoch 24/750\n",
            "1/1 [==============================] - 4s 4s/step - loss: 0.4490 - mae: 0.5237 - val_loss: 0.3717 - val_mae: 0.4937\n",
            "Epoch 25/750\n",
            "1/1 [==============================] - 4s 4s/step - loss: 0.4341 - mae: 0.5296 - val_loss: 0.3802 - val_mae: 0.4644\n",
            "Epoch 26/750\n",
            "1/1 [==============================] - 4s 4s/step - loss: 0.4321 - mae: 0.5061 - val_loss: 0.3039 - val_mae: 0.4428\n",
            "Epoch 27/750\n",
            "1/1 [==============================] - 4s 4s/step - loss: 0.3656 - mae: 0.4834 - val_loss: 0.2888 - val_mae: 0.4091\n",
            "Epoch 28/750\n",
            "1/1 [==============================] - 4s 4s/step - loss: 0.3435 - mae: 0.4535 - val_loss: 0.2706 - val_mae: 0.4127\n",
            "Epoch 29/750\n",
            "1/1 [==============================] - 4s 4s/step - loss: 0.3355 - mae: 0.4591 - val_loss: 0.2962 - val_mae: 0.4194\n",
            "Epoch 30/750\n",
            "1/1 [==============================] - 4s 4s/step - loss: 0.3548 - mae: 0.4663 - val_loss: 0.3610 - val_mae: 0.4760\n",
            "Epoch 31/750\n",
            "1/1 [==============================] - 4s 4s/step - loss: 0.4242 - mae: 0.5152 - val_loss: 0.4199 - val_mae: 0.5213\n",
            "Epoch 32/750\n",
            "1/1 [==============================] - 4s 4s/step - loss: 0.4833 - mae: 0.5615 - val_loss: 0.4018 - val_mae: 0.4909\n",
            "Epoch 33/750\n",
            "1/1 [==============================] - 4s 4s/step - loss: 0.4558 - mae: 0.5316 - val_loss: 0.2855 - val_mae: 0.4230\n",
            "Epoch 34/750\n",
            "1/1 [==============================] - 4s 4s/step - loss: 0.3334 - mae: 0.4566 - val_loss: 0.2615 - val_mae: 0.3896\n",
            "Epoch 35/750\n",
            "1/1 [==============================] - 4s 4s/step - loss: 0.3276 - mae: 0.4461 - val_loss: 0.2631 - val_mae: 0.4152\n",
            "Epoch 36/750\n",
            "1/1 [==============================] - 4s 4s/step - loss: 0.3234 - mae: 0.4562 - val_loss: 0.3042 - val_mae: 0.4112\n",
            "Epoch 37/750\n",
            "1/1 [==============================] - 4s 4s/step - loss: 0.3666 - mae: 0.4694 - val_loss: 0.2456 - val_mae: 0.3958\n",
            "Epoch 38/750\n",
            "1/1 [==============================] - 4s 4s/step - loss: 0.2975 - mae: 0.4327 - val_loss: 0.2349 - val_mae: 0.3647\n",
            "Epoch 39/750\n",
            "1/1 [==============================] - 4s 4s/step - loss: 0.2955 - mae: 0.4195 - val_loss: 0.2655 - val_mae: 0.4096\n",
            "Epoch 40/750\n",
            "1/1 [==============================] - 4s 4s/step - loss: 0.3241 - mae: 0.4509 - val_loss: 0.3449 - val_mae: 0.4531\n",
            "Epoch 41/750\n",
            "1/1 [==============================] - 4s 4s/step - loss: 0.3952 - mae: 0.4915 - val_loss: 0.3323 - val_mae: 0.4515\n",
            "Epoch 42/750\n",
            "1/1 [==============================] - 4s 4s/step - loss: 0.3962 - mae: 0.4929 - val_loss: 0.3162 - val_mae: 0.4570\n",
            "Epoch 43/750\n",
            "1/1 [==============================] - 4s 4s/step - loss: 0.3810 - mae: 0.5010 - val_loss: 0.3205 - val_mae: 0.4334\n",
            "Epoch 44/750\n",
            "1/1 [==============================] - 4s 4s/step - loss: 0.3719 - mae: 0.4784 - val_loss: 0.2285 - val_mae: 0.3776\n",
            "Epoch 45/750\n",
            "1/1 [==============================] - 4s 4s/step - loss: 0.2767 - mae: 0.4159 - val_loss: 0.2113 - val_mae: 0.3456\n",
            "Epoch 46/750\n",
            "1/1 [==============================] - 4s 4s/step - loss: 0.2760 - mae: 0.4085 - val_loss: 0.2329 - val_mae: 0.3900\n",
            "Epoch 47/750\n",
            "1/1 [==============================] - 4s 4s/step - loss: 0.2903 - mae: 0.4300 - val_loss: 0.2626 - val_mae: 0.3815\n",
            "Epoch 48/750\n",
            "1/1 [==============================] - 4s 4s/step - loss: 0.3235 - mae: 0.4411 - val_loss: 0.2260 - val_mae: 0.3822\n",
            "Epoch 49/750\n",
            "1/1 [==============================] - 4s 4s/step - loss: 0.2746 - mae: 0.4167 - val_loss: 0.1927 - val_mae: 0.3287\n",
            "Epoch 50/750\n",
            "1/1 [==============================] - 4s 4s/step - loss: 0.2553 - mae: 0.3921 - val_loss: 0.2131 - val_mae: 0.3699\n",
            "Epoch 51/750\n",
            "1/1 [==============================] - 4s 4s/step - loss: 0.2759 - mae: 0.4204 - val_loss: 0.2812 - val_mae: 0.4091\n",
            "Epoch 52/750\n",
            "1/1 [==============================] - 4s 4s/step - loss: 0.3353 - mae: 0.4542 - val_loss: 0.3203 - val_mae: 0.4487\n",
            "Epoch 53/750\n",
            "1/1 [==============================] - 4s 4s/step - loss: 0.3729 - mae: 0.4865 - val_loss: 0.3116 - val_mae: 0.4430\n",
            "Epoch 54/750\n",
            "1/1 [==============================] - 4s 4s/step - loss: 0.3672 - mae: 0.4795 - val_loss: 0.2582 - val_mae: 0.3788\n",
            "Epoch 55/750\n",
            "1/1 [==============================] - 4s 4s/step - loss: 0.3168 - mae: 0.4306 - val_loss: 0.2021 - val_mae: 0.3505\n",
            "Epoch 56/750\n",
            "1/1 [==============================] - 4s 4s/step - loss: 0.2577 - mae: 0.3966 - val_loss: 0.2103 - val_mae: 0.3462\n",
            "Epoch 57/750\n",
            "1/1 [==============================] - 4s 4s/step - loss: 0.2726 - mae: 0.4049 - val_loss: 0.2514 - val_mae: 0.4000\n",
            "Epoch 58/750\n",
            "1/1 [==============================] - 4s 4s/step - loss: 0.3198 - mae: 0.4491 - val_loss: 0.3138 - val_mae: 0.4095\n",
            "Epoch 59/750\n",
            "1/1 [==============================] - 4s 4s/step - loss: 0.3641 - mae: 0.4691 - val_loss: 0.2295 - val_mae: 0.3696\n",
            "Epoch 60/750\n",
            "1/1 [==============================] - 4s 4s/step - loss: 0.2686 - mae: 0.4064 - val_loss: 0.2051 - val_mae: 0.3397\n",
            "Epoch 61/750\n",
            "1/1 [==============================] - 4s 4s/step - loss: 0.2666 - mae: 0.4034 - val_loss: 0.2694 - val_mae: 0.4164\n",
            "Epoch 62/750\n",
            "1/1 [==============================] - 4s 4s/step - loss: 0.3114 - mae: 0.4470 - val_loss: 0.2669 - val_mae: 0.3941\n",
            "Epoch 63/750\n",
            "1/1 [==============================] - 4s 4s/step - loss: 0.3267 - mae: 0.4469 - val_loss: 0.2504 - val_mae: 0.4025\n",
            "Epoch 64/750\n",
            "1/1 [==============================] - 4s 4s/step - loss: 0.3052 - mae: 0.4449 - val_loss: 0.2461 - val_mae: 0.3815\n",
            "Epoch 65/750\n",
            "1/1 [==============================] - 4s 4s/step - loss: 0.2950 - mae: 0.4248 - val_loss: 0.1860 - val_mae: 0.3402\n",
            "Epoch 66/750\n",
            "1/1 [==============================] - 4s 4s/step - loss: 0.2466 - mae: 0.3937 - val_loss: 0.1914 - val_mae: 0.3290\n",
            "Epoch 67/750\n",
            "1/1 [==============================] - 4s 4s/step - loss: 0.2404 - mae: 0.3809 - val_loss: 0.1671 - val_mae: 0.3183\n",
            "Epoch 68/750\n",
            "1/1 [==============================] - 4s 4s/step - loss: 0.2261 - mae: 0.3748 - val_loss: 0.1822 - val_mae: 0.3190\n",
            "Epoch 69/750\n",
            "1/1 [==============================] - 4s 4s/step - loss: 0.2373 - mae: 0.3785 - val_loss: 0.1786 - val_mae: 0.3346\n",
            "Epoch 70/750\n",
            "1/1 [==============================] - 4s 4s/step - loss: 0.2389 - mae: 0.3869 - val_loss: 0.2130 - val_mae: 0.3434\n",
            "Epoch 71/750\n",
            "1/1 [==============================] - 4s 4s/step - loss: 0.2707 - mae: 0.4061 - val_loss: 0.2221 - val_mae: 0.3847\n",
            "Epoch 72/750\n",
            "1/1 [==============================] - 4s 4s/step - loss: 0.2683 - mae: 0.4170 - val_loss: 0.1927 - val_mae: 0.3319\n",
            "Epoch 73/750\n",
            "1/1 [==============================] - 4s 4s/step - loss: 0.2613 - mae: 0.4013 - val_loss: 0.2153 - val_mae: 0.3761\n",
            "Epoch 74/750\n",
            "1/1 [==============================] - 4s 4s/step - loss: 0.2651 - mae: 0.4126 - val_loss: 0.2141 - val_mae: 0.3449\n",
            "Epoch 75/750\n",
            "1/1 [==============================] - 4s 4s/step - loss: 0.2636 - mae: 0.3992 - val_loss: 0.1784 - val_mae: 0.3318\n",
            "Epoch 76/750\n",
            "1/1 [==============================] - 4s 4s/step - loss: 0.2357 - mae: 0.3863 - val_loss: 0.2171 - val_mae: 0.3585\n",
            "Epoch 77/750\n",
            "1/1 [==============================] - 4s 4s/step - loss: 0.2653 - mae: 0.4042 - val_loss: 0.2333 - val_mae: 0.3793\n",
            "Epoch 78/750\n",
            "1/1 [==============================] - 4s 4s/step - loss: 0.2957 - mae: 0.4321 - val_loss: 0.2535 - val_mae: 0.3961\n",
            "Epoch 79/750\n",
            "1/1 [==============================] - 4s 4s/step - loss: 0.2994 - mae: 0.4312 - val_loss: 0.1723 - val_mae: 0.3246\n",
            "Epoch 80/750\n",
            "1/1 [==============================] - 4s 4s/step - loss: 0.2331 - mae: 0.3815 - val_loss: 0.1602 - val_mae: 0.3033\n",
            "Epoch 81/750\n",
            "1/1 [==============================] - 4s 4s/step - loss: 0.2183 - mae: 0.3650 - val_loss: 0.1575 - val_mae: 0.3088\n",
            "Epoch 82/750\n",
            "1/1 [==============================] - 4s 4s/step - loss: 0.2155 - mae: 0.3657 - val_loss: 0.1556 - val_mae: 0.2972\n",
            "Epoch 83/750\n",
            "1/1 [==============================] - 4s 4s/step - loss: 0.2208 - mae: 0.3677 - val_loss: 0.2061 - val_mae: 0.3674\n",
            "Epoch 84/750\n",
            "1/1 [==============================] - 4s 4s/step - loss: 0.2575 - mae: 0.4059 - val_loss: 0.2800 - val_mae: 0.3879\n",
            "Epoch 85/750\n",
            "1/1 [==============================] - 4s 4s/step - loss: 0.3372 - mae: 0.4520 - val_loss: 0.2243 - val_mae: 0.3817\n",
            "Epoch 86/750\n",
            "1/1 [==============================] - 4s 4s/step - loss: 0.2632 - mae: 0.4092 - val_loss: 0.1713 - val_mae: 0.3155\n",
            "Epoch 87/750\n",
            "1/1 [==============================] - 4s 4s/step - loss: 0.2451 - mae: 0.3890 - val_loss: 0.2176 - val_mae: 0.3777\n",
            "Epoch 88/750\n",
            "1/1 [==============================] - 4s 4s/step - loss: 0.2626 - mae: 0.4113 - val_loss: 0.1911 - val_mae: 0.3312\n",
            "Epoch 89/750\n",
            "1/1 [==============================] - 4s 4s/step - loss: 0.2476 - mae: 0.3899 - val_loss: 0.1799 - val_mae: 0.3363\n",
            "Epoch 90/750\n",
            "1/1 [==============================] - 4s 4s/step - loss: 0.2477 - mae: 0.3944 - val_loss: 0.2441 - val_mae: 0.3671\n",
            "Epoch 91/750\n",
            "1/1 [==============================] - 4s 4s/step - loss: 0.2850 - mae: 0.4139 - val_loss: 0.1717 - val_mae: 0.3160\n",
            "Epoch 92/750\n",
            "1/1 [==============================] - 4s 4s/step - loss: 0.2210 - mae: 0.3691 - val_loss: 0.1571 - val_mae: 0.2976\n",
            "Epoch 93/750\n",
            "1/1 [==============================] - 4s 4s/step - loss: 0.2136 - mae: 0.3592 - val_loss: 0.1615 - val_mae: 0.3149\n",
            "Epoch 94/750\n",
            "1/1 [==============================] - 4s 4s/step - loss: 0.2163 - mae: 0.3674 - val_loss: 0.1696 - val_mae: 0.3150\n",
            "Epoch 95/750\n",
            "1/1 [==============================] - 4s 4s/step - loss: 0.2272 - mae: 0.3739 - val_loss: 0.1741 - val_mae: 0.3295\n",
            "Epoch 96/750\n",
            "1/1 [==============================] - 4s 4s/step - loss: 0.2229 - mae: 0.3743 - val_loss: 0.1629 - val_mae: 0.3080\n",
            "Epoch 97/750\n",
            "1/1 [==============================] - 4s 4s/step - loss: 0.2239 - mae: 0.3700 - val_loss: 0.1683 - val_mae: 0.3182\n",
            "Epoch 98/750\n",
            "1/1 [==============================] - 4s 4s/step - loss: 0.2188 - mae: 0.3673 - val_loss: 0.1630 - val_mae: 0.3120\n",
            "Epoch 99/750\n",
            "1/1 [==============================] - 4s 4s/step - loss: 0.2263 - mae: 0.3720 - val_loss: 0.2215 - val_mae: 0.3473\n",
            "Epoch 100/750\n",
            "1/1 [==============================] - 4s 4s/step - loss: 0.2700 - mae: 0.4019 - val_loss: 0.1963 - val_mae: 0.3524\n",
            "Epoch 101/750\n",
            "1/1 [==============================] - 4s 4s/step - loss: 0.2402 - mae: 0.3883 - val_loss: 0.2082 - val_mae: 0.3495\n",
            "Epoch 102/750\n",
            "1/1 [==============================] - 4s 4s/step - loss: 0.2825 - mae: 0.4182 - val_loss: 0.2667 - val_mae: 0.4206\n",
            "Epoch 103/750\n",
            "1/1 [==============================] - 4s 4s/step - loss: 0.3143 - mae: 0.4523 - val_loss: 0.2449 - val_mae: 0.3744\n",
            "Epoch 104/750\n",
            "1/1 [==============================] - 4s 4s/step - loss: 0.2936 - mae: 0.4214 - val_loss: 0.2163 - val_mae: 0.3787\n",
            "Epoch 105/750\n",
            "1/1 [==============================] - 4s 4s/step - loss: 0.2683 - mae: 0.4211 - val_loss: 0.2349 - val_mae: 0.3675\n",
            "Epoch 106/750\n",
            "1/1 [==============================] - 4s 4s/step - loss: 0.2894 - mae: 0.4227 - val_loss: 0.1450 - val_mae: 0.2932\n",
            "Epoch 107/750\n",
            "1/1 [==============================] - 4s 4s/step - loss: 0.2102 - mae: 0.3610 - val_loss: 0.1532 - val_mae: 0.2969\n",
            "Epoch 108/750\n",
            "1/1 [==============================] - 4s 4s/step - loss: 0.2073 - mae: 0.3552 - val_loss: 0.1450 - val_mae: 0.2980\n",
            "Epoch 109/750\n",
            "1/1 [==============================] - 4s 4s/step - loss: 0.2029 - mae: 0.3546 - val_loss: 0.1527 - val_mae: 0.2921\n",
            "Epoch 110/750\n",
            "1/1 [==============================] - 4s 4s/step - loss: 0.2086 - mae: 0.3554 - val_loss: 0.1598 - val_mae: 0.3186\n",
            "Epoch 111/750\n",
            "1/1 [==============================] - 4s 4s/step - loss: 0.2145 - mae: 0.3669 - val_loss: 0.1816 - val_mae: 0.3179\n",
            "Epoch 112/750\n",
            "1/1 [==============================] - 4s 4s/step - loss: 0.2408 - mae: 0.3821 - val_loss: 0.1847 - val_mae: 0.3455\n",
            "Epoch 113/750\n",
            "1/1 [==============================] - 4s 4s/step - loss: 0.2301 - mae: 0.3799 - val_loss: 0.1450 - val_mae: 0.2891\n",
            "Epoch 114/750\n",
            "1/1 [==============================] - 4s 4s/step - loss: 0.2125 - mae: 0.3616 - val_loss: 0.1621 - val_mae: 0.3217\n",
            "Epoch 115/750\n",
            "1/1 [==============================] - 4s 4s/step - loss: 0.2136 - mae: 0.3655 - val_loss: 0.1601 - val_mae: 0.2969\n",
            "Epoch 116/750\n",
            "1/1 [==============================] - 4s 4s/step - loss: 0.2155 - mae: 0.3609 - val_loss: 0.1475 - val_mae: 0.3039\n",
            "Epoch 117/750\n",
            "1/1 [==============================] - 4s 4s/step - loss: 0.2080 - mae: 0.3610 - val_loss: 0.1938 - val_mae: 0.3272\n",
            "Epoch 118/750\n",
            "1/1 [==============================] - 4s 4s/step - loss: 0.2395 - mae: 0.3796 - val_loss: 0.1446 - val_mae: 0.2949\n",
            "Epoch 119/750\n",
            "1/1 [==============================] - 4s 4s/step - loss: 0.2090 - mae: 0.3638 - val_loss: 0.1817 - val_mae: 0.3278\n",
            "Epoch 120/750\n",
            "1/1 [==============================] - 4s 4s/step - loss: 0.2286 - mae: 0.3730 - val_loss: 0.1797 - val_mae: 0.3284\n",
            "Epoch 121/750\n",
            "1/1 [==============================] - 4s 4s/step - loss: 0.2445 - mae: 0.3900 - val_loss: 0.1964 - val_mae: 0.3452\n",
            "Epoch 122/750\n",
            "1/1 [==============================] - 4s 4s/step - loss: 0.2498 - mae: 0.3923 - val_loss: 0.1497 - val_mae: 0.3035\n",
            "Epoch 123/750\n",
            "1/1 [==============================] - 4s 4s/step - loss: 0.2072 - mae: 0.3598 - val_loss: 0.1422 - val_mae: 0.2863\n",
            "Epoch 124/750\n",
            "1/1 [==============================] - 4s 4s/step - loss: 0.1970 - mae: 0.3459 - val_loss: 0.1316 - val_mae: 0.2852\n",
            "Epoch 125/750\n",
            "1/1 [==============================] - 4s 4s/step - loss: 0.1941 - mae: 0.3476 - val_loss: 0.1309 - val_mae: 0.2730\n",
            "Epoch 126/750\n",
            "1/1 [==============================] - 4s 4s/step - loss: 0.1892 - mae: 0.3386 - val_loss: 0.1445 - val_mae: 0.3031\n",
            "Epoch 127/750\n",
            "1/1 [==============================] - 4s 4s/step - loss: 0.2004 - mae: 0.3547 - val_loss: 0.1955 - val_mae: 0.3308\n",
            "Epoch 128/750\n",
            "1/1 [==============================] - 4s 4s/step - loss: 0.2546 - mae: 0.3962 - val_loss: 0.2243 - val_mae: 0.3904\n",
            "Epoch 129/750\n",
            "1/1 [==============================] - 4s 4s/step - loss: 0.2672 - mae: 0.4189 - val_loss: 0.1876 - val_mae: 0.3278\n",
            "Epoch 130/750\n",
            "1/1 [==============================] - 4s 4s/step - loss: 0.2593 - mae: 0.3986 - val_loss: 0.1760 - val_mae: 0.3406\n",
            "Epoch 131/750\n",
            "1/1 [==============================] - 4s 4s/step - loss: 0.2354 - mae: 0.3858 - val_loss: 0.2180 - val_mae: 0.3419\n",
            "Epoch 132/750\n",
            "1/1 [==============================] - 4s 4s/step - loss: 0.2639 - mae: 0.3967 - val_loss: 0.1504 - val_mae: 0.2989\n",
            "Epoch 133/750\n",
            "1/1 [==============================] - 4s 4s/step - loss: 0.2019 - mae: 0.3521 - val_loss: 0.1300 - val_mae: 0.2725\n",
            "Epoch 134/750\n",
            "1/1 [==============================] - 4s 4s/step - loss: 0.1936 - mae: 0.3435 - val_loss: 0.1433 - val_mae: 0.3004\n",
            "Epoch 135/750\n",
            "1/1 [==============================] - 4s 4s/step - loss: 0.1962 - mae: 0.3499 - val_loss: 0.1341 - val_mae: 0.2759\n",
            "Epoch 136/750\n",
            "1/1 [==============================] - 4s 4s/step - loss: 0.1969 - mae: 0.3464 - val_loss: 0.1438 - val_mae: 0.3023\n",
            "Epoch 137/750\n",
            "1/1 [==============================] - 4s 4s/step - loss: 0.1975 - mae: 0.3527 - val_loss: 0.1511 - val_mae: 0.2940\n",
            "Epoch 138/750\n",
            "1/1 [==============================] - 4s 4s/step - loss: 0.2081 - mae: 0.3560 - val_loss: 0.1497 - val_mae: 0.3060\n",
            "Epoch 139/750\n",
            "1/1 [==============================] - 4s 4s/step - loss: 0.2181 - mae: 0.3709 - val_loss: 0.2219 - val_mae: 0.3545\n",
            "Epoch 140/750\n",
            "1/1 [==============================] - 4s 4s/step - loss: 0.2604 - mae: 0.3961 - val_loss: 0.1352 - val_mae: 0.2779\n",
            "Epoch 141/750\n",
            "1/1 [==============================] - 4s 4s/step - loss: 0.1962 - mae: 0.3476 - val_loss: 0.1489 - val_mae: 0.2980\n",
            "Epoch 142/750\n",
            "1/1 [==============================] - 4s 4s/step - loss: 0.1986 - mae: 0.3457 - val_loss: 0.1450 - val_mae: 0.2890\n",
            "Epoch 143/750\n",
            "1/1 [==============================] - 4s 4s/step - loss: 0.2083 - mae: 0.3549 - val_loss: 0.1687 - val_mae: 0.3196\n",
            "Epoch 144/750\n",
            "1/1 [==============================] - 4s 4s/step - loss: 0.2219 - mae: 0.3664 - val_loss: 0.1823 - val_mae: 0.3202\n",
            "Epoch 145/750\n",
            "1/1 [==============================] - 4s 4s/step - loss: 0.2288 - mae: 0.3711 - val_loss: 0.1429 - val_mae: 0.2909\n",
            "Epoch 146/750\n",
            "1/1 [==============================] - 4s 4s/step - loss: 0.2093 - mae: 0.3589 - val_loss: 0.1411 - val_mae: 0.2963\n",
            "Epoch 147/750\n",
            "1/1 [==============================] - 4s 4s/step - loss: 0.1900 - mae: 0.3441 - val_loss: 0.1298 - val_mae: 0.2748\n",
            "Epoch 148/750\n",
            "1/1 [==============================] - 4s 4s/step - loss: 0.1985 - mae: 0.3493 - val_loss: 0.1707 - val_mae: 0.3323\n",
            "Epoch 149/750\n",
            "1/1 [==============================] - 4s 4s/step - loss: 0.2160 - mae: 0.3714 - val_loss: 0.1670 - val_mae: 0.3136\n",
            "Epoch 150/750\n",
            "1/1 [==============================] - 4s 4s/step - loss: 0.2379 - mae: 0.3841 - val_loss: 0.2391 - val_mae: 0.3977\n",
            "Epoch 151/750\n",
            "1/1 [==============================] - 4s 4s/step - loss: 0.2968 - mae: 0.4341 - val_loss: 0.4164 - val_mae: 0.4606\n",
            "Epoch 152/750\n",
            "1/1 [==============================] - 4s 4s/step - loss: 0.4327 - mae: 0.4969 - val_loss: 0.2278 - val_mae: 0.3512\n",
            "Epoch 153/750\n",
            "1/1 [==============================] - 4s 4s/step - loss: 0.2746 - mae: 0.4060 - val_loss: 0.1762 - val_mae: 0.3277\n",
            "Epoch 154/750\n",
            "1/1 [==============================] - 4s 4s/step - loss: 0.2189 - mae: 0.3687 - val_loss: 0.1490 - val_mae: 0.2932\n",
            "Epoch 155/750\n",
            "1/1 [==============================] - 4s 4s/step - loss: 0.2180 - mae: 0.3657 - val_loss: 0.1535 - val_mae: 0.3159\n",
            "Epoch 156/750\n",
            "1/1 [==============================] - 4s 4s/step - loss: 0.2054 - mae: 0.3605 - val_loss: 0.1354 - val_mae: 0.2768\n",
            "Epoch 157/750\n",
            "1/1 [==============================] - 4s 4s/step - loss: 0.1964 - mae: 0.3453 - val_loss: 0.1347 - val_mae: 0.2919\n",
            "Epoch 158/750\n",
            "1/1 [==============================] - 4s 4s/step - loss: 0.1970 - mae: 0.3506 - val_loss: 0.1586 - val_mae: 0.2956\n",
            "Epoch 159/750\n",
            "1/1 [==============================] - 4s 4s/step - loss: 0.2120 - mae: 0.3568 - val_loss: 0.1240 - val_mae: 0.2757\n",
            "Epoch 160/750\n",
            "1/1 [==============================] - 4s 4s/step - loss: 0.1854 - mae: 0.3392 - val_loss: 0.1293 - val_mae: 0.2709\n",
            "Epoch 161/750\n",
            "1/1 [==============================] - 4s 4s/step - loss: 0.1874 - mae: 0.3378 - val_loss: 0.1231 - val_mae: 0.2746\n",
            "Epoch 162/750\n",
            "1/1 [==============================] - 4s 4s/step - loss: 0.1859 - mae: 0.3399 - val_loss: 0.1414 - val_mae: 0.2831\n",
            "Epoch 163/750\n",
            "1/1 [==============================] - 4s 4s/step - loss: 0.1960 - mae: 0.3449 - val_loss: 0.1284 - val_mae: 0.2805\n",
            "Epoch 164/750\n",
            "1/1 [==============================] - 4s 4s/step - loss: 0.1936 - mae: 0.3481 - val_loss: 0.1545 - val_mae: 0.3004\n",
            "Epoch 165/750\n",
            "1/1 [==============================] - 4s 4s/step - loss: 0.2085 - mae: 0.3557 - val_loss: 0.1294 - val_mae: 0.2800\n",
            "Epoch 166/750\n",
            "1/1 [==============================] - 4s 4s/step - loss: 0.1939 - mae: 0.3477 - val_loss: 0.1514 - val_mae: 0.2983\n",
            "Epoch 167/750\n",
            "1/1 [==============================] - 4s 4s/step - loss: 0.2017 - mae: 0.3491 - val_loss: 0.1193 - val_mae: 0.2659\n",
            "Epoch 168/750\n",
            "1/1 [==============================] - 4s 4s/step - loss: 0.1861 - mae: 0.3377 - val_loss: 0.1387 - val_mae: 0.2858\n",
            "Epoch 169/750\n",
            "1/1 [==============================] - 4s 4s/step - loss: 0.1894 - mae: 0.3369 - val_loss: 0.1137 - val_mae: 0.2560\n",
            "Epoch 170/750\n",
            "1/1 [==============================] - 4s 4s/step - loss: 0.1787 - mae: 0.3304 - val_loss: 0.1358 - val_mae: 0.2879\n",
            "Epoch 171/750\n",
            "1/1 [==============================] - 4s 4s/step - loss: 0.1869 - mae: 0.3365 - val_loss: 0.1306 - val_mae: 0.2748\n",
            "Epoch 172/750\n",
            "1/1 [==============================] - 4s 4s/step - loss: 0.1965 - mae: 0.3463 - val_loss: 0.1963 - val_mae: 0.3642\n",
            "Epoch 173/750\n",
            "1/1 [==============================] - 4s 4s/step - loss: 0.2407 - mae: 0.3946 - val_loss: 0.1874 - val_mae: 0.3284\n",
            "Epoch 174/750\n",
            "1/1 [==============================] - 4s 4s/step - loss: 0.2474 - mae: 0.3928 - val_loss: 0.1561 - val_mae: 0.3198\n",
            "Epoch 175/750\n",
            "1/1 [==============================] - 4s 4s/step - loss: 0.2106 - mae: 0.3676 - val_loss: 0.1513 - val_mae: 0.2947\n",
            "Epoch 176/750\n",
            "1/1 [==============================] - 4s 4s/step - loss: 0.2107 - mae: 0.3594 - val_loss: 0.1435 - val_mae: 0.3002\n",
            "Epoch 177/750\n",
            "1/1 [==============================] - 4s 4s/step - loss: 0.2004 - mae: 0.3533 - val_loss: 0.1437 - val_mae: 0.2862\n",
            "Epoch 178/750\n",
            "1/1 [==============================] - 4s 4s/step - loss: 0.1989 - mae: 0.3470 - val_loss: 0.1397 - val_mae: 0.3013\n",
            "Epoch 179/750\n",
            "1/1 [==============================] - 4s 4s/step - loss: 0.1973 - mae: 0.3542 - val_loss: 0.1431 - val_mae: 0.2839\n",
            "Epoch 180/750\n",
            "1/1 [==============================] - 4s 4s/step - loss: 0.2013 - mae: 0.3509 - val_loss: 0.1252 - val_mae: 0.2783\n",
            "Epoch 181/750\n",
            "1/1 [==============================] - 4s 4s/step - loss: 0.1858 - mae: 0.3395 - val_loss: 0.1431 - val_mae: 0.2837\n",
            "Epoch 182/750\n",
            "1/1 [==============================] - 4s 4s/step - loss: 0.2017 - mae: 0.3492 - val_loss: 0.1407 - val_mae: 0.2957\n",
            "Epoch 183/750\n",
            "1/1 [==============================] - 4s 4s/step - loss: 0.1928 - mae: 0.3457 - val_loss: 0.1425 - val_mae: 0.2845\n",
            "Epoch 184/750\n",
            "1/1 [==============================] - 4s 4s/step - loss: 0.2035 - mae: 0.3518 - val_loss: 0.1366 - val_mae: 0.2878\n",
            "Epoch 185/750\n",
            "1/1 [==============================] - 4s 4s/step - loss: 0.1920 - mae: 0.3418 - val_loss: 0.1563 - val_mae: 0.2928\n",
            "Epoch 186/750\n",
            "1/1 [==============================] - 4s 4s/step - loss: 0.2077 - mae: 0.3507 - val_loss: 0.1296 - val_mae: 0.2777\n",
            "Epoch 187/750\n",
            "1/1 [==============================] - 4s 4s/step - loss: 0.1917 - mae: 0.3418 - val_loss: 0.1391 - val_mae: 0.2867\n",
            "Epoch 188/750\n",
            "1/1 [==============================] - 4s 4s/step - loss: 0.1918 - mae: 0.3433 - val_loss: 0.1273 - val_mae: 0.2756\n",
            "Epoch 189/750\n",
            "1/1 [==============================] - 4s 4s/step - loss: 0.1926 - mae: 0.3443 - val_loss: 0.1379 - val_mae: 0.2925\n",
            "Epoch 190/750\n",
            "1/1 [==============================] - 4s 4s/step - loss: 0.1855 - mae: 0.3387 - val_loss: 0.1120 - val_mae: 0.2557\n",
            "Epoch 191/750\n",
            "1/1 [==============================] - 4s 4s/step - loss: 0.1822 - mae: 0.3342 - val_loss: 0.1395 - val_mae: 0.2965\n",
            "Epoch 192/750\n",
            "1/1 [==============================] - 4s 4s/step - loss: 0.1872 - mae: 0.3394 - val_loss: 0.1133 - val_mae: 0.2576\n",
            "Epoch 193/750\n",
            "1/1 [==============================] - 4s 4s/step - loss: 0.1863 - mae: 0.3373 - val_loss: 0.1707 - val_mae: 0.3192\n",
            "Epoch 194/750\n",
            "1/1 [==============================] - 4s 4s/step - loss: 0.2065 - mae: 0.3506 - val_loss: 0.1147 - val_mae: 0.2596\n",
            "Epoch 195/750\n",
            "1/1 [==============================] - 4s 4s/step - loss: 0.1845 - mae: 0.3364 - val_loss: 0.1266 - val_mae: 0.2749\n",
            "Epoch 196/750\n",
            "1/1 [==============================] - 4s 4s/step - loss: 0.1791 - mae: 0.3289 - val_loss: 0.1140 - val_mae: 0.2586\n",
            "Epoch 197/750\n",
            "1/1 [==============================] - 4s 4s/step - loss: 0.1778 - mae: 0.3309 - val_loss: 0.1400 - val_mae: 0.2874\n",
            "Epoch 198/750\n",
            "1/1 [==============================] - 4s 4s/step - loss: 0.1975 - mae: 0.3487 - val_loss: 0.1603 - val_mae: 0.3184\n",
            "Epoch 199/750\n",
            "1/1 [==============================] - 4s 4s/step - loss: 0.2175 - mae: 0.3716 - val_loss: 0.2191 - val_mae: 0.3556\n",
            "Epoch 200/750\n",
            "1/1 [==============================] - 4s 4s/step - loss: 0.2757 - mae: 0.4151 - val_loss: 0.1684 - val_mae: 0.3312\n",
            "Epoch 201/750\n",
            "1/1 [==============================] - 4s 4s/step - loss: 0.2118 - mae: 0.3669 - val_loss: 0.1204 - val_mae: 0.2654\n",
            "Epoch 202/750\n",
            "1/1 [==============================] - 4s 4s/step - loss: 0.1879 - mae: 0.3410 - val_loss: 0.1417 - val_mae: 0.3044\n",
            "Epoch 203/750\n",
            "1/1 [==============================] - 4s 4s/step - loss: 0.1915 - mae: 0.3470 - val_loss: 0.1303 - val_mae: 0.2698\n",
            "Epoch 204/750\n",
            "1/1 [==============================] - 4s 4s/step - loss: 0.1897 - mae: 0.3384 - val_loss: 0.1271 - val_mae: 0.2752\n",
            "Epoch 205/750\n",
            "1/1 [==============================] - 4s 4s/step - loss: 0.1831 - mae: 0.3329 - val_loss: 0.1366 - val_mae: 0.2783\n",
            "Epoch 206/750\n",
            "1/1 [==============================] - 4s 4s/step - loss: 0.1930 - mae: 0.3415 - val_loss: 0.1186 - val_mae: 0.2663\n",
            "Epoch 207/750\n",
            "1/1 [==============================] - 4s 4s/step - loss: 0.1757 - mae: 0.3274 - val_loss: 0.1183 - val_mae: 0.2590\n",
            "Epoch 208/750\n",
            "1/1 [==============================] - 4s 4s/step - loss: 0.1745 - mae: 0.3237 - val_loss: 0.1084 - val_mae: 0.2533\n",
            "Epoch 209/750\n",
            "1/1 [==============================] - 4s 4s/step - loss: 0.1690 - mae: 0.3207 - val_loss: 0.1213 - val_mae: 0.2615\n",
            "Epoch 210/750\n",
            "1/1 [==============================] - 4s 4s/step - loss: 0.1753 - mae: 0.3247 - val_loss: 0.1143 - val_mae: 0.2606\n",
            "Epoch 211/750\n",
            "1/1 [==============================] - 4s 4s/step - loss: 0.1744 - mae: 0.3261 - val_loss: 0.1212 - val_mae: 0.2615\n",
            "Epoch 212/750\n",
            "1/1 [==============================] - 4s 4s/step - loss: 0.1773 - mae: 0.3263 - val_loss: 0.1167 - val_mae: 0.2615\n",
            "Epoch 213/750\n",
            "1/1 [==============================] - 4s 4s/step - loss: 0.1761 - mae: 0.3254 - val_loss: 0.1271 - val_mae: 0.2693\n",
            "Epoch 214/750\n",
            "1/1 [==============================] - 4s 4s/step - loss: 0.1819 - mae: 0.3313 - val_loss: 0.1246 - val_mae: 0.2718\n",
            "Epoch 215/750\n",
            "1/1 [==============================] - 4s 4s/step - loss: 0.1820 - mae: 0.3331 - val_loss: 0.1246 - val_mae: 0.2756\n",
            "Epoch 216/750\n",
            "1/1 [==============================] - 4s 4s/step - loss: 0.1811 - mae: 0.3356 - val_loss: 0.1424 - val_mae: 0.2898\n",
            "Epoch 217/750\n",
            "1/1 [==============================] - 4s 4s/step - loss: 0.2059 - mae: 0.3572 - val_loss: 0.1823 - val_mae: 0.3448\n",
            "Epoch 218/750\n",
            "1/1 [==============================] - 4s 4s/step - loss: 0.2345 - mae: 0.3876 - val_loss: 0.2335 - val_mae: 0.3580\n",
            "Epoch 219/750\n",
            "1/1 [==============================] - 4s 4s/step - loss: 0.2792 - mae: 0.4101 - val_loss: 0.1776 - val_mae: 0.3388\n",
            "Epoch 220/750\n",
            "1/1 [==============================] - 4s 4s/step - loss: 0.2340 - mae: 0.3879 - val_loss: 0.1533 - val_mae: 0.3009\n",
            "Epoch 221/750\n",
            "1/1 [==============================] - 4s 4s/step - loss: 0.2258 - mae: 0.3723 - val_loss: 0.1809 - val_mae: 0.3426\n",
            "Epoch 222/750\n",
            "1/1 [==============================] - 4s 4s/step - loss: 0.2204 - mae: 0.3712 - val_loss: 0.1052 - val_mae: 0.2478\n",
            "Epoch 223/750\n",
            "1/1 [==============================] - 4s 4s/step - loss: 0.1714 - mae: 0.3249 - val_loss: 0.1090 - val_mae: 0.2540\n",
            "Epoch 224/750\n",
            "1/1 [==============================] - 4s 4s/step - loss: 0.1600 - mae: 0.3105 - val_loss: 0.0950 - val_mae: 0.2333\n",
            "Epoch 225/750\n",
            "1/1 [==============================] - 4s 4s/step - loss: 0.1564 - mae: 0.3082 - val_loss: 0.1005 - val_mae: 0.2424\n",
            "Epoch 226/750\n",
            "1/1 [==============================] - 4s 4s/step - loss: 0.1565 - mae: 0.3066 - val_loss: 0.0935 - val_mae: 0.2314\n",
            "Epoch 227/750\n",
            "1/1 [==============================] - 4s 4s/step - loss: 0.1551 - mae: 0.3062 - val_loss: 0.1036 - val_mae: 0.2456\n",
            "Epoch 228/750\n",
            "1/1 [==============================] - 4s 4s/step - loss: 0.1581 - mae: 0.3075 - val_loss: 0.0967 - val_mae: 0.2351\n",
            "Epoch 229/750\n",
            "1/1 [==============================] - 4s 4s/step - loss: 0.1627 - mae: 0.3136 - val_loss: 0.1281 - val_mae: 0.2727\n",
            "Epoch 230/750\n",
            "1/1 [==============================] - 4s 4s/step - loss: 0.1788 - mae: 0.3255 - val_loss: 0.1100 - val_mae: 0.2525\n",
            "Epoch 231/750\n",
            "1/1 [==============================] - 4s 4s/step - loss: 0.1796 - mae: 0.3310 - val_loss: 0.1511 - val_mae: 0.2933\n",
            "Epoch 232/750\n",
            "1/1 [==============================] - 4s 4s/step - loss: 0.1965 - mae: 0.3415 - val_loss: 0.1138 - val_mae: 0.2601\n",
            "Epoch 233/750\n",
            "1/1 [==============================] - 4s 4s/step - loss: 0.1746 - mae: 0.3296 - val_loss: 0.1336 - val_mae: 0.2776\n",
            "Epoch 234/750\n",
            "1/1 [==============================] - 4s 4s/step - loss: 0.1903 - mae: 0.3419 - val_loss: 0.1503 - val_mae: 0.3150\n",
            "Epoch 235/750\n",
            "1/1 [==============================] - 4s 4s/step - loss: 0.2031 - mae: 0.3592 - val_loss: 0.1617 - val_mae: 0.3068\n",
            "Epoch 236/750\n",
            "1/1 [==============================] - 4s 4s/step - loss: 0.2269 - mae: 0.3769 - val_loss: 0.1491 - val_mae: 0.3132\n",
            "Epoch 237/750\n",
            "1/1 [==============================] - 4s 4s/step - loss: 0.2008 - mae: 0.3567 - val_loss: 0.1203 - val_mae: 0.2645\n",
            "Epoch 238/750\n",
            "1/1 [==============================] - 4s 4s/step - loss: 0.1821 - mae: 0.3348 - val_loss: 0.1317 - val_mae: 0.2828\n",
            "Epoch 239/750\n",
            "1/1 [==============================] - 4s 4s/step - loss: 0.1830 - mae: 0.3335 - val_loss: 0.1082 - val_mae: 0.2456\n",
            "Epoch 240/750\n",
            "1/1 [==============================] - 4s 4s/step - loss: 0.1683 - mae: 0.3184 - val_loss: 0.1092 - val_mae: 0.2600\n",
            "Epoch 241/750\n",
            "1/1 [==============================] - 4s 4s/step - loss: 0.1645 - mae: 0.3172 - val_loss: 0.1126 - val_mae: 0.2520\n",
            "Epoch 242/750\n",
            "1/1 [==============================] - 4s 4s/step - loss: 0.1708 - mae: 0.3213 - val_loss: 0.1108 - val_mae: 0.2572\n",
            "Epoch 243/750\n",
            "1/1 [==============================] - 4s 4s/step - loss: 0.1664 - mae: 0.3168 - val_loss: 0.1269 - val_mae: 0.2666\n",
            "Epoch 244/750\n",
            "1/1 [==============================] - 4s 4s/step - loss: 0.1801 - mae: 0.3283 - val_loss: 0.1157 - val_mae: 0.2595\n",
            "Epoch 245/750\n",
            "1/1 [==============================] - 4s 4s/step - loss: 0.1753 - mae: 0.3246 - val_loss: 0.1198 - val_mae: 0.2637\n",
            "Epoch 246/750\n",
            "1/1 [==============================] - 4s 4s/step - loss: 0.1743 - mae: 0.3249 - val_loss: 0.1146 - val_mae: 0.2600\n",
            "Epoch 247/750\n",
            "1/1 [==============================] - 4s 4s/step - loss: 0.1771 - mae: 0.3281 - val_loss: 0.1169 - val_mae: 0.2675\n",
            "Epoch 248/750\n",
            "1/1 [==============================] - 4s 4s/step - loss: 0.1728 - mae: 0.3263 - val_loss: 0.1087 - val_mae: 0.2512\n",
            "Epoch 249/750\n",
            "1/1 [==============================] - 4s 4s/step - loss: 0.1696 - mae: 0.3209 - val_loss: 0.1078 - val_mae: 0.2579\n",
            "Epoch 250/750\n",
            "1/1 [==============================] - 4s 4s/step - loss: 0.1685 - mae: 0.3235 - val_loss: 0.1312 - val_mae: 0.2746\n",
            "Epoch 251/750\n",
            "1/1 [==============================] - 4s 4s/step - loss: 0.1874 - mae: 0.3364 - val_loss: 0.1243 - val_mae: 0.2769\n",
            "Epoch 252/750\n",
            "1/1 [==============================] - 4s 4s/step - loss: 0.1804 - mae: 0.3348 - val_loss: 0.1394 - val_mae: 0.2832\n",
            "Epoch 253/750\n",
            "1/1 [==============================] - 4s 4s/step - loss: 0.1976 - mae: 0.3490 - val_loss: 0.1364 - val_mae: 0.2969\n",
            "Epoch 254/750\n",
            "1/1 [==============================] - 4s 4s/step - loss: 0.1875 - mae: 0.3431 - val_loss: 0.1302 - val_mae: 0.2747\n",
            "Epoch 255/750\n",
            "1/1 [==============================] - 4s 4s/step - loss: 0.1951 - mae: 0.3454 - val_loss: 0.1537 - val_mae: 0.3081\n",
            "Epoch 256/750\n",
            "1/1 [==============================] - 4s 4s/step - loss: 0.1976 - mae: 0.3465 - val_loss: 0.0975 - val_mae: 0.2383\n",
            "Epoch 257/750\n",
            "1/1 [==============================] - 4s 4s/step - loss: 0.1643 - mae: 0.3172 - val_loss: 0.1156 - val_mae: 0.2704\n",
            "Epoch 258/750\n",
            "1/1 [==============================] - 4s 4s/step - loss: 0.1674 - mae: 0.3208 - val_loss: 0.0999 - val_mae: 0.2377\n",
            "Epoch 259/750\n",
            "1/1 [==============================] - 4s 4s/step - loss: 0.1590 - mae: 0.3099 - val_loss: 0.0985 - val_mae: 0.2436\n",
            "Epoch 260/750\n",
            "1/1 [==============================] - 4s 4s/step - loss: 0.1589 - mae: 0.3095 - val_loss: 0.1156 - val_mae: 0.2547\n",
            "Epoch 261/750\n",
            "1/1 [==============================] - 4s 4s/step - loss: 0.1707 - mae: 0.3193 - val_loss: 0.1052 - val_mae: 0.2524\n",
            "Epoch 262/750\n",
            "1/1 [==============================] - 4s 4s/step - loss: 0.1633 - mae: 0.3164 - val_loss: 0.1158 - val_mae: 0.2564\n",
            "Epoch 263/750\n",
            "1/1 [==============================] - 4s 4s/step - loss: 0.1725 - mae: 0.3232 - val_loss: 0.1050 - val_mae: 0.2538\n",
            "Epoch 264/750\n",
            "1/1 [==============================] - 4s 4s/step - loss: 0.1617 - mae: 0.3152 - val_loss: 0.1142 - val_mae: 0.2539\n",
            "Epoch 265/750\n",
            "1/1 [==============================] - 4s 4s/step - loss: 0.1734 - mae: 0.3238 - val_loss: 0.1043 - val_mae: 0.2543\n",
            "Epoch 266/750\n",
            "1/1 [==============================] - 4s 4s/step - loss: 0.1595 - mae: 0.3129 - val_loss: 0.1033 - val_mae: 0.2415\n",
            "Epoch 267/750\n",
            "1/1 [==============================] - 4s 4s/step - loss: 0.1659 - mae: 0.3173 - val_loss: 0.1385 - val_mae: 0.2932\n",
            "Epoch 268/750\n",
            "1/1 [==============================] - 4s 4s/step - loss: 0.1844 - mae: 0.3346 - val_loss: 0.1060 - val_mae: 0.2475\n",
            "Epoch 269/750\n",
            "1/1 [==============================] - 4s 4s/step - loss: 0.1722 - mae: 0.3243 - val_loss: 0.1590 - val_mae: 0.3048\n",
            "Epoch 270/750\n",
            "1/1 [==============================] - 4s 4s/step - loss: 0.1956 - mae: 0.3399 - val_loss: 0.1135 - val_mae: 0.2540\n",
            "Epoch 271/750\n",
            "1/1 [==============================] - 4s 4s/step - loss: 0.1818 - mae: 0.3309 - val_loss: 0.1008 - val_mae: 0.2416\n",
            "Epoch 272/750\n",
            "1/1 [==============================] - 4s 4s/step - loss: 0.1532 - mae: 0.3024 - val_loss: 0.0933 - val_mae: 0.2312\n",
            "Epoch 273/750\n",
            "1/1 [==============================] - 4s 4s/step - loss: 0.1541 - mae: 0.3054 - val_loss: 0.1183 - val_mae: 0.2647\n",
            "Epoch 274/750\n",
            "1/1 [==============================] - 4s 4s/step - loss: 0.1727 - mae: 0.3242 - val_loss: 0.1187 - val_mae: 0.2697\n",
            "Epoch 275/750\n",
            "1/1 [==============================] - 4s 4s/step - loss: 0.1779 - mae: 0.3337 - val_loss: 0.1443 - val_mae: 0.2932\n",
            "Epoch 276/750\n",
            "1/1 [==============================] - 4s 4s/step - loss: 0.2027 - mae: 0.3541 - val_loss: 0.1313 - val_mae: 0.2890\n",
            "Epoch 277/750\n",
            "1/1 [==============================] - 4s 4s/step - loss: 0.1827 - mae: 0.3356 - val_loss: 0.1136 - val_mae: 0.2550\n",
            "Epoch 278/750\n",
            "1/1 [==============================] - 4s 4s/step - loss: 0.1763 - mae: 0.3290 - val_loss: 0.1243 - val_mae: 0.2834\n",
            "Epoch 279/750\n",
            "1/1 [==============================] - 4s 4s/step - loss: 0.1802 - mae: 0.3365 - val_loss: 0.1411 - val_mae: 0.2811\n",
            "Epoch 280/750\n",
            "1/1 [==============================] - 4s 4s/step - loss: 0.1987 - mae: 0.3464 - val_loss: 0.1257 - val_mae: 0.2751\n",
            "Epoch 281/750\n",
            "1/1 [==============================] - 4s 4s/step - loss: 0.1754 - mae: 0.3254 - val_loss: 0.0925 - val_mae: 0.2287\n",
            "Epoch 282/750\n",
            "1/1 [==============================] - 4s 4s/step - loss: 0.1546 - mae: 0.3053 - val_loss: 0.0937 - val_mae: 0.2376\n",
            "Epoch 283/750\n",
            "1/1 [==============================] - 4s 4s/step - loss: 0.1497 - mae: 0.3006 - val_loss: 0.0943 - val_mae: 0.2298\n",
            "Epoch 284/750\n",
            "1/1 [==============================] - 4s 4s/step - loss: 0.1512 - mae: 0.3008 - val_loss: 0.0937 - val_mae: 0.2372\n",
            "Epoch 285/750\n",
            "1/1 [==============================] - 4s 4s/step - loss: 0.1507 - mae: 0.3013 - val_loss: 0.1004 - val_mae: 0.2368\n",
            "Epoch 286/750\n",
            "1/1 [==============================] - 4s 4s/step - loss: 0.1560 - mae: 0.3057 - val_loss: 0.0966 - val_mae: 0.2386\n",
            "Epoch 287/750\n",
            "1/1 [==============================] - 4s 4s/step - loss: 0.1540 - mae: 0.3041 - val_loss: 0.1099 - val_mae: 0.2483\n",
            "Epoch 288/750\n",
            "1/1 [==============================] - 4s 4s/step - loss: 0.1647 - mae: 0.3143 - val_loss: 0.0995 - val_mae: 0.2416\n",
            "Epoch 289/750\n",
            "1/1 [==============================] - 4s 4s/step - loss: 0.1584 - mae: 0.3088 - val_loss: 0.0989 - val_mae: 0.2379\n",
            "Epoch 290/750\n",
            "1/1 [==============================] - 4s 4s/step - loss: 0.1550 - mae: 0.3031 - val_loss: 0.0919 - val_mae: 0.2299\n",
            "Epoch 291/750\n",
            "1/1 [==============================] - 4s 4s/step - loss: 0.1498 - mae: 0.2994 - val_loss: 0.0986 - val_mae: 0.2406\n",
            "Epoch 292/750\n",
            "1/1 [==============================] - 4s 4s/step - loss: 0.1539 - mae: 0.3044 - val_loss: 0.0961 - val_mae: 0.2357\n",
            "Epoch 293/750\n",
            "1/1 [==============================] - 4s 4s/step - loss: 0.1550 - mae: 0.3041 - val_loss: 0.1106 - val_mae: 0.2625\n",
            "Epoch 294/750\n",
            "1/1 [==============================] - 4s 4s/step - loss: 0.1644 - mae: 0.3196 - val_loss: 0.1268 - val_mae: 0.2716\n",
            "Epoch 295/750\n",
            "1/1 [==============================] - 4s 4s/step - loss: 0.1853 - mae: 0.3368 - val_loss: 0.1444 - val_mae: 0.2996\n",
            "Epoch 296/750\n",
            "1/1 [==============================] - 4s 4s/step - loss: 0.1979 - mae: 0.3518 - val_loss: 0.1355 - val_mae: 0.2822\n",
            "Epoch 297/750\n",
            "1/1 [==============================] - 4s 4s/step - loss: 0.1939 - mae: 0.3462 - val_loss: 0.1034 - val_mae: 0.2540\n",
            "Epoch 298/750\n",
            "1/1 [==============================] - 4s 4s/step - loss: 0.1683 - mae: 0.3233 - val_loss: 0.1204 - val_mae: 0.2604\n",
            "Epoch 299/750\n",
            "1/1 [==============================] - 4s 4s/step - loss: 0.1769 - mae: 0.3264 - val_loss: 0.1210 - val_mae: 0.2807\n",
            "Epoch 300/750\n",
            "1/1 [==============================] - 4s 4s/step - loss: 0.1752 - mae: 0.3285 - val_loss: 0.1159 - val_mae: 0.2557\n",
            "Epoch 301/750\n",
            "1/1 [==============================] - 4s 4s/step - loss: 0.1787 - mae: 0.3292 - val_loss: 0.1362 - val_mae: 0.2881\n",
            "Epoch 302/750\n",
            "1/1 [==============================] - 4s 4s/step - loss: 0.1828 - mae: 0.3310 - val_loss: 0.0829 - val_mae: 0.2187\n",
            "Epoch 303/750\n",
            "1/1 [==============================] - 4s 4s/step - loss: 0.1464 - mae: 0.2963 - val_loss: 0.0889 - val_mae: 0.2318\n",
            "Epoch 304/750\n",
            "1/1 [==============================] - 4s 4s/step - loss: 0.1422 - mae: 0.2921 - val_loss: 0.0789 - val_mae: 0.2111\n",
            "Epoch 305/750\n",
            "1/1 [==============================] - 4s 4s/step - loss: 0.1415 - mae: 0.2912 - val_loss: 0.0909 - val_mae: 0.2332\n",
            "Epoch 306/750\n",
            "1/1 [==============================] - 4s 4s/step - loss: 0.1447 - mae: 0.2932 - val_loss: 0.0850 - val_mae: 0.2197\n",
            "Epoch 307/750\n",
            "1/1 [==============================] - 4s 4s/step - loss: 0.1483 - mae: 0.2986 - val_loss: 0.1084 - val_mae: 0.2518\n",
            "Epoch 308/750\n",
            "1/1 [==============================] - 4s 4s/step - loss: 0.1629 - mae: 0.3119 - val_loss: 0.0924 - val_mae: 0.2286\n",
            "Epoch 309/750\n",
            "1/1 [==============================] - 4s 4s/step - loss: 0.1546 - mae: 0.3054 - val_loss: 0.0909 - val_mae: 0.2345\n",
            "Epoch 310/750\n",
            "1/1 [==============================] - 4s 4s/step - loss: 0.1468 - mae: 0.2965 - val_loss: 0.0940 - val_mae: 0.2299\n",
            "Epoch 311/750\n",
            "1/1 [==============================] - 4s 4s/step - loss: 0.1531 - mae: 0.3013 - val_loss: 0.1103 - val_mae: 0.2640\n",
            "Epoch 312/750\n",
            "1/1 [==============================] - 4s 4s/step - loss: 0.1664 - mae: 0.3190 - val_loss: 0.1449 - val_mae: 0.2880\n",
            "Epoch 313/750\n",
            "1/1 [==============================] - 4s 4s/step - loss: 0.2022 - mae: 0.3538 - val_loss: 0.1212 - val_mae: 0.2773\n",
            "Epoch 314/750\n",
            "1/1 [==============================] - 4s 4s/step - loss: 0.1714 - mae: 0.3273 - val_loss: 0.0992 - val_mae: 0.2396\n",
            "Epoch 315/750\n",
            "1/1 [==============================] - 4s 4s/step - loss: 0.1615 - mae: 0.3126 - val_loss: 0.1302 - val_mae: 0.2960\n",
            "Epoch 316/750\n",
            "1/1 [==============================] - 4s 4s/step - loss: 0.1826 - mae: 0.3422 - val_loss: 0.1194 - val_mae: 0.2599\n",
            "Epoch 317/750\n",
            "1/1 [==============================] - 4s 4s/step - loss: 0.1719 - mae: 0.3219 - val_loss: 0.0958 - val_mae: 0.2364\n",
            "Epoch 318/750\n",
            "1/1 [==============================] - 4s 4s/step - loss: 0.1646 - mae: 0.3147 - val_loss: 0.1272 - val_mae: 0.2645\n",
            "Epoch 319/750\n",
            "1/1 [==============================] - 4s 4s/step - loss: 0.1749 - mae: 0.3237 - val_loss: 0.0797 - val_mae: 0.2143\n",
            "Epoch 320/750\n",
            "1/1 [==============================] - 4s 4s/step - loss: 0.1402 - mae: 0.2909 - val_loss: 0.0799 - val_mae: 0.2120\n",
            "Epoch 321/750\n",
            "1/1 [==============================] - 4s 4s/step - loss: 0.1370 - mae: 0.2851 - val_loss: 0.0824 - val_mae: 0.2191\n",
            "Epoch 322/750\n",
            "1/1 [==============================] - 4s 4s/step - loss: 0.1393 - mae: 0.2885 - val_loss: 0.0916 - val_mae: 0.2257\n",
            "Epoch 323/750\n",
            "1/1 [==============================] - 4s 4s/step - loss: 0.1489 - mae: 0.2982 - val_loss: 0.1133 - val_mae: 0.2624\n",
            "Epoch 324/750\n",
            "1/1 [==============================] - 4s 4s/step - loss: 0.1658 - mae: 0.3154 - val_loss: 0.1046 - val_mae: 0.2423\n",
            "Epoch 325/750\n",
            "1/1 [==============================] - 4s 4s/step - loss: 0.1696 - mae: 0.3192 - val_loss: 0.1081 - val_mae: 0.2598\n",
            "Epoch 326/750\n",
            "1/1 [==============================] - 4s 4s/step - loss: 0.1585 - mae: 0.3097 - val_loss: 0.0809 - val_mae: 0.2136\n",
            "Epoch 327/750\n",
            "1/1 [==============================] - 4s 4s/step - loss: 0.1430 - mae: 0.2938 - val_loss: 0.0949 - val_mae: 0.2443\n",
            "Epoch 328/750\n",
            "1/1 [==============================] - 4s 4s/step - loss: 0.1461 - mae: 0.2987 - val_loss: 0.0811 - val_mae: 0.2155\n",
            "Epoch 329/750\n",
            "1/1 [==============================] - 4s 4s/step - loss: 0.1426 - mae: 0.2929 - val_loss: 0.0953 - val_mae: 0.2471\n",
            "Epoch 330/750\n",
            "1/1 [==============================] - 4s 4s/step - loss: 0.1494 - mae: 0.3032 - val_loss: 0.1028 - val_mae: 0.2428\n",
            "Epoch 331/750\n",
            "1/1 [==============================] - 4s 4s/step - loss: 0.1603 - mae: 0.3119 - val_loss: 0.1038 - val_mae: 0.2499\n",
            "Epoch 332/750\n",
            "1/1 [==============================] - 4s 4s/step - loss: 0.1643 - mae: 0.3149 - val_loss: 0.1187 - val_mae: 0.2583\n",
            "Epoch 333/750\n",
            "1/1 [==============================] - 4s 4s/step - loss: 0.1733 - mae: 0.3226 - val_loss: 0.0914 - val_mae: 0.2339\n",
            "Epoch 334/750\n",
            "1/1 [==============================] - 4s 4s/step - loss: 0.1479 - mae: 0.3021 - val_loss: 0.1109 - val_mae: 0.2517\n",
            "Epoch 335/750\n",
            "1/1 [==============================] - 4s 4s/step - loss: 0.1627 - mae: 0.3135 - val_loss: 0.0858 - val_mae: 0.2244\n",
            "Epoch 336/750\n",
            "1/1 [==============================] - 4s 4s/step - loss: 0.1483 - mae: 0.2994 - val_loss: 0.0963 - val_mae: 0.2380\n",
            "Epoch 337/750\n",
            "1/1 [==============================] - 4s 4s/step - loss: 0.1490 - mae: 0.2988 - val_loss: 0.0820 - val_mae: 0.2131\n",
            "Epoch 338/750\n",
            "1/1 [==============================] - 4s 4s/step - loss: 0.1450 - mae: 0.2959 - val_loss: 0.1073 - val_mae: 0.2527\n",
            "Epoch 339/750\n",
            "1/1 [==============================] - 4s 4s/step - loss: 0.1536 - mae: 0.3021 - val_loss: 0.0878 - val_mae: 0.2193\n",
            "Epoch 340/750\n",
            "1/1 [==============================] - 4s 4s/step - loss: 0.1530 - mae: 0.3017 - val_loss: 0.1221 - val_mae: 0.2754\n",
            "Epoch 341/750\n",
            "1/1 [==============================] - 4s 4s/step - loss: 0.1730 - mae: 0.3213 - val_loss: 0.1125 - val_mae: 0.2498\n",
            "Epoch 342/750\n",
            "1/1 [==============================] - 4s 4s/step - loss: 0.1709 - mae: 0.3190 - val_loss: 0.0871 - val_mae: 0.2308\n",
            "Epoch 343/750\n",
            "1/1 [==============================] - 4s 4s/step - loss: 0.1467 - mae: 0.2972 - val_loss: 0.1075 - val_mae: 0.2434\n",
            "Epoch 344/750\n",
            "1/1 [==============================] - 4s 4s/step - loss: 0.1601 - mae: 0.3116 - val_loss: 0.1102 - val_mae: 0.2587\n",
            "Epoch 345/750\n",
            "1/1 [==============================] - 4s 4s/step - loss: 0.1629 - mae: 0.3141 - val_loss: 0.1039 - val_mae: 0.2442\n",
            "Epoch 346/750\n",
            "1/1 [==============================] - 4s 4s/step - loss: 0.1670 - mae: 0.3183 - val_loss: 0.1030 - val_mae: 0.2537\n",
            "Epoch 347/750\n",
            "1/1 [==============================] - 4s 4s/step - loss: 0.1593 - mae: 0.3145 - val_loss: 0.1059 - val_mae: 0.2475\n",
            "Epoch 348/750\n",
            "1/1 [==============================] - 4s 4s/step - loss: 0.1620 - mae: 0.3133 - val_loss: 0.0933 - val_mae: 0.2361\n",
            "Epoch 349/750\n",
            "1/1 [==============================] - 4s 4s/step - loss: 0.1493 - mae: 0.3008 - val_loss: 0.0828 - val_mae: 0.2170\n",
            "Epoch 350/750\n",
            "1/1 [==============================] - 4s 4s/step - loss: 0.1406 - mae: 0.2908 - val_loss: 0.0758 - val_mae: 0.2116\n",
            "Epoch 351/750\n",
            "1/1 [==============================] - 4s 4s/step - loss: 0.1348 - mae: 0.2853 - val_loss: 0.0869 - val_mae: 0.2216\n",
            "Epoch 352/750\n",
            "1/1 [==============================] - 4s 4s/step - loss: 0.1404 - mae: 0.2895 - val_loss: 0.0826 - val_mae: 0.2200\n",
            "Epoch 353/750\n",
            "1/1 [==============================] - 4s 4s/step - loss: 0.1463 - mae: 0.2976 - val_loss: 0.1132 - val_mae: 0.2517\n",
            "Epoch 354/750\n",
            "1/1 [==============================] - 4s 4s/step - loss: 0.1663 - mae: 0.3149 - val_loss: 0.1021 - val_mae: 0.2411\n",
            "Epoch 355/750\n",
            "1/1 [==============================] - 4s 4s/step - loss: 0.1553 - mae: 0.3033 - val_loss: 0.0853 - val_mae: 0.2173\n",
            "Epoch 356/750\n",
            "1/1 [==============================] - 4s 4s/step - loss: 0.1461 - mae: 0.2957 - val_loss: 0.0897 - val_mae: 0.2357\n",
            "Epoch 357/750\n",
            "1/1 [==============================] - 4s 4s/step - loss: 0.1419 - mae: 0.2910 - val_loss: 0.0882 - val_mae: 0.2222\n",
            "Epoch 358/750\n",
            "1/1 [==============================] - 4s 4s/step - loss: 0.1471 - mae: 0.2961 - val_loss: 0.0932 - val_mae: 0.2394\n",
            "Epoch 359/750\n",
            "1/1 [==============================] - 4s 4s/step - loss: 0.1486 - mae: 0.2988 - val_loss: 0.0861 - val_mae: 0.2194\n",
            "Epoch 360/750\n",
            "1/1 [==============================] - 4s 4s/step - loss: 0.1497 - mae: 0.2995 - val_loss: 0.1148 - val_mae: 0.2692\n",
            "Epoch 361/750\n",
            "1/1 [==============================] - 4s 4s/step - loss: 0.1625 - mae: 0.3143 - val_loss: 0.0888 - val_mae: 0.2275\n",
            "Epoch 362/750\n",
            "1/1 [==============================] - 4s 4s/step - loss: 0.1547 - mae: 0.3074 - val_loss: 0.1014 - val_mae: 0.2526\n",
            "Epoch 363/750\n",
            "1/1 [==============================] - 4s 4s/step - loss: 0.1555 - mae: 0.3104 - val_loss: 0.1018 - val_mae: 0.2412\n",
            "Epoch 364/750\n",
            "1/1 [==============================] - 4s 4s/step - loss: 0.1591 - mae: 0.3106 - val_loss: 0.0933 - val_mae: 0.2331\n",
            "Epoch 365/750\n",
            "1/1 [==============================] - 4s 4s/step - loss: 0.1536 - mae: 0.3029 - val_loss: 0.1069 - val_mae: 0.2457\n",
            "Epoch 366/750\n",
            "1/1 [==============================] - 4s 4s/step - loss: 0.1621 - mae: 0.3124 - val_loss: 0.0794 - val_mae: 0.2162\n",
            "Epoch 367/750\n",
            "1/1 [==============================] - 4s 4s/step - loss: 0.1412 - mae: 0.2939 - val_loss: 0.0904 - val_mae: 0.2261\n",
            "Epoch 368/750\n",
            "1/1 [==============================] - 4s 4s/step - loss: 0.1420 - mae: 0.2910 - val_loss: 0.0719 - val_mae: 0.2044\n",
            "Epoch 369/750\n",
            "1/1 [==============================] - 4s 4s/step - loss: 0.1326 - mae: 0.2821 - val_loss: 0.0778 - val_mae: 0.2105\n",
            "Epoch 370/750\n",
            "1/1 [==============================] - 4s 4s/step - loss: 0.1325 - mae: 0.2807 - val_loss: 0.0729 - val_mae: 0.2028\n",
            "Epoch 371/750\n",
            "1/1 [==============================] - 4s 4s/step - loss: 0.1293 - mae: 0.2781 - val_loss: 0.0869 - val_mae: 0.2228\n",
            "Epoch 372/750\n",
            "1/1 [==============================] - 4s 4s/step - loss: 0.1437 - mae: 0.2923 - val_loss: 0.0854 - val_mae: 0.2193\n",
            "Epoch 373/750\n",
            "1/1 [==============================] - 4s 4s/step - loss: 0.1432 - mae: 0.2925 - val_loss: 0.0931 - val_mae: 0.2279\n",
            "Epoch 374/750\n",
            "1/1 [==============================] - 4s 4s/step - loss: 0.1479 - mae: 0.2934 - val_loss: 0.0910 - val_mae: 0.2224\n",
            "Epoch 375/750\n",
            "1/1 [==============================] - 4s 4s/step - loss: 0.1509 - mae: 0.2991 - val_loss: 0.1131 - val_mae: 0.2593\n",
            "Epoch 376/750\n",
            "1/1 [==============================] - 4s 4s/step - loss: 0.1620 - mae: 0.3097 - val_loss: 0.1069 - val_mae: 0.2446\n",
            "Epoch 377/750\n",
            "1/1 [==============================] - 4s 4s/step - loss: 0.1653 - mae: 0.3157 - val_loss: 0.1027 - val_mae: 0.2575\n",
            "Epoch 378/750\n",
            "1/1 [==============================] - 4s 4s/step - loss: 0.1527 - mae: 0.3061 - val_loss: 0.0912 - val_mae: 0.2319\n",
            "Epoch 379/750\n",
            "1/1 [==============================] - 4s 4s/step - loss: 0.1513 - mae: 0.3040 - val_loss: 0.0932 - val_mae: 0.2442\n",
            "Epoch 380/750\n",
            "1/1 [==============================] - 4s 4s/step - loss: 0.1495 - mae: 0.3044 - val_loss: 0.0955 - val_mae: 0.2356\n",
            "Epoch 381/750\n",
            "1/1 [==============================] - 4s 4s/step - loss: 0.1506 - mae: 0.3025 - val_loss: 0.0936 - val_mae: 0.2306\n",
            "Epoch 382/750\n",
            "1/1 [==============================] - 4s 4s/step - loss: 0.1513 - mae: 0.2992 - val_loss: 0.0881 - val_mae: 0.2237\n",
            "Epoch 383/750\n",
            "1/1 [==============================] - 4s 4s/step - loss: 0.1422 - mae: 0.2911 - val_loss: 0.0774 - val_mae: 0.2124\n",
            "Epoch 384/750\n",
            "1/1 [==============================] - 4s 4s/step - loss: 0.1380 - mae: 0.2882 - val_loss: 0.0933 - val_mae: 0.2302\n",
            "Epoch 385/750\n",
            "1/1 [==============================] - 4s 4s/step - loss: 0.1434 - mae: 0.2939 - val_loss: 0.0708 - val_mae: 0.2034\n",
            "Epoch 386/750\n",
            "1/1 [==============================] - 4s 4s/step - loss: 0.1329 - mae: 0.2827 - val_loss: 0.0832 - val_mae: 0.2155\n",
            "Epoch 387/750\n",
            "1/1 [==============================] - 4s 4s/step - loss: 0.1370 - mae: 0.2852 - val_loss: 0.0722 - val_mae: 0.2064\n",
            "Epoch 388/750\n",
            "1/1 [==============================] - 4s 4s/step - loss: 0.1293 - mae: 0.2773 - val_loss: 0.0818 - val_mae: 0.2137\n",
            "Epoch 389/750\n",
            "1/1 [==============================] - 4s 4s/step - loss: 0.1385 - mae: 0.2864 - val_loss: 0.0856 - val_mae: 0.2287\n",
            "Epoch 390/750\n",
            "1/1 [==============================] - 4s 4s/step - loss: 0.1403 - mae: 0.2904 - val_loss: 0.1032 - val_mae: 0.2382\n",
            "Epoch 391/750\n",
            "1/1 [==============================] - 4s 4s/step - loss: 0.1659 - mae: 0.3128 - val_loss: 0.1257 - val_mae: 0.2693\n",
            "Epoch 392/750\n",
            "1/1 [==============================] - 4s 4s/step - loss: 0.1749 - mae: 0.3188 - val_loss: 0.0723 - val_mae: 0.2009\n",
            "Epoch 393/750\n",
            "1/1 [==============================] - 4s 4s/step - loss: 0.1291 - mae: 0.2761 - val_loss: 0.0749 - val_mae: 0.2131\n",
            "Epoch 394/750\n",
            "1/1 [==============================] - 4s 4s/step - loss: 0.1307 - mae: 0.2791 - val_loss: 0.0788 - val_mae: 0.2102\n",
            "Epoch 395/750\n",
            "1/1 [==============================] - 4s 4s/step - loss: 0.1380 - mae: 0.2874 - val_loss: 0.0746 - val_mae: 0.2146\n",
            "Epoch 396/750\n",
            "1/1 [==============================] - 4s 4s/step - loss: 0.1316 - mae: 0.2810 - val_loss: 0.0746 - val_mae: 0.2034\n",
            "Epoch 397/750\n",
            "1/1 [==============================] - 4s 4s/step - loss: 0.1323 - mae: 0.2805 - val_loss: 0.0880 - val_mae: 0.2280\n",
            "Epoch 398/750\n",
            "1/1 [==============================] - 4s 4s/step - loss: 0.1452 - mae: 0.2935 - val_loss: 0.0916 - val_mae: 0.2264\n",
            "Epoch 399/750\n",
            "1/1 [==============================] - 4s 4s/step - loss: 0.1475 - mae: 0.2976 - val_loss: 0.0943 - val_mae: 0.2431\n",
            "Epoch 400/750\n",
            "1/1 [==============================] - 4s 4s/step - loss: 0.1463 - mae: 0.2977 - val_loss: 0.1097 - val_mae: 0.2498\n",
            "Epoch 401/750\n",
            "1/1 [==============================] - 4s 4s/step - loss: 0.1690 - mae: 0.3216 - val_loss: 0.0861 - val_mae: 0.2284\n",
            "Epoch 402/750\n",
            "1/1 [==============================] - 4s 4s/step - loss: 0.1456 - mae: 0.2987 - val_loss: 0.1015 - val_mae: 0.2447\n",
            "Epoch 403/750\n",
            "1/1 [==============================] - 4s 4s/step - loss: 0.1611 - mae: 0.3123 - val_loss: 0.0980 - val_mae: 0.2424\n",
            "Epoch 404/750\n",
            "1/1 [==============================] - 4s 4s/step - loss: 0.1582 - mae: 0.3126 - val_loss: 0.1292 - val_mae: 0.2721\n",
            "Epoch 405/750\n",
            "1/1 [==============================] - 4s 4s/step - loss: 0.1743 - mae: 0.3224 - val_loss: 0.0724 - val_mae: 0.1993\n",
            "Epoch 406/750\n",
            "1/1 [==============================] - 4s 4s/step - loss: 0.1307 - mae: 0.2780 - val_loss: 0.0741 - val_mae: 0.2084\n",
            "Epoch 407/750\n",
            "1/1 [==============================] - 4s 4s/step - loss: 0.1264 - mae: 0.2721 - val_loss: 0.0681 - val_mae: 0.1952\n",
            "Epoch 408/750\n",
            "1/1 [==============================] - 4s 4s/step - loss: 0.1292 - mae: 0.2759 - val_loss: 0.0829 - val_mae: 0.2252\n",
            "Epoch 409/750\n",
            "1/1 [==============================] - 4s 4s/step - loss: 0.1354 - mae: 0.2827 - val_loss: 0.0751 - val_mae: 0.2068\n",
            "Epoch 410/750\n",
            "1/1 [==============================] - 4s 4s/step - loss: 0.1382 - mae: 0.2859 - val_loss: 0.0910 - val_mae: 0.2371\n",
            "Epoch 411/750\n",
            "1/1 [==============================] - 4s 4s/step - loss: 0.1446 - mae: 0.2934 - val_loss: 0.0872 - val_mae: 0.2198\n",
            "Epoch 412/750\n",
            "1/1 [==============================] - 4s 4s/step - loss: 0.1475 - mae: 0.2951 - val_loss: 0.1075 - val_mae: 0.2516\n",
            "Epoch 413/750\n",
            "1/1 [==============================] - 5s 5s/step - loss: 0.1608 - mae: 0.3078 - val_loss: 0.0978 - val_mae: 0.2326\n",
            "Epoch 414/750\n",
            "1/1 [==============================] - 4s 4s/step - loss: 0.1498 - mae: 0.2992 - val_loss: 0.0686 - val_mae: 0.1990\n",
            "Epoch 415/750\n",
            "1/1 [==============================] - 4s 4s/step - loss: 0.1261 - mae: 0.2729 - val_loss: 0.0733 - val_mae: 0.2022\n",
            "Epoch 416/750\n",
            "1/1 [==============================] - 4s 4s/step - loss: 0.1298 - mae: 0.2774 - val_loss: 0.0658 - val_mae: 0.1956\n",
            "Epoch 417/750\n",
            "1/1 [==============================] - 4s 4s/step - loss: 0.1242 - mae: 0.2703 - val_loss: 0.0736 - val_mae: 0.2012\n",
            "Epoch 418/750\n",
            "1/1 [==============================] - 4s 4s/step - loss: 0.1291 - mae: 0.2754 - val_loss: 0.0753 - val_mae: 0.2104\n",
            "Epoch 419/750\n",
            "1/1 [==============================] - 4s 4s/step - loss: 0.1326 - mae: 0.2797 - val_loss: 0.0854 - val_mae: 0.2148\n",
            "Epoch 420/750\n",
            "1/1 [==============================] - 4s 4s/step - loss: 0.1395 - mae: 0.2870 - val_loss: 0.0877 - val_mae: 0.2262\n",
            "Epoch 421/750\n",
            "1/1 [==============================] - 4s 4s/step - loss: 0.1395 - mae: 0.2876 - val_loss: 0.0766 - val_mae: 0.2072\n",
            "Epoch 422/750\n",
            "1/1 [==============================] - 4s 4s/step - loss: 0.1367 - mae: 0.2867 - val_loss: 0.0873 - val_mae: 0.2357\n",
            "Epoch 423/750\n",
            "1/1 [==============================] - 4s 4s/step - loss: 0.1386 - mae: 0.2890 - val_loss: 0.0848 - val_mae: 0.2226\n",
            "Epoch 424/750\n",
            "1/1 [==============================] - 4s 4s/step - loss: 0.1481 - mae: 0.2990 - val_loss: 0.0965 - val_mae: 0.2454\n",
            "Epoch 425/750\n",
            "1/1 [==============================] - 4s 4s/step - loss: 0.1474 - mae: 0.2989 - val_loss: 0.0832 - val_mae: 0.2201\n",
            "Epoch 426/750\n",
            "1/1 [==============================] - 4s 4s/step - loss: 0.1397 - mae: 0.2892 - val_loss: 0.0788 - val_mae: 0.2128\n",
            "Epoch 427/750\n",
            "1/1 [==============================] - 4s 4s/step - loss: 0.1346 - mae: 0.2849 - val_loss: 0.0846 - val_mae: 0.2165\n",
            "Epoch 428/750\n",
            "1/1 [==============================] - 4s 4s/step - loss: 0.1376 - mae: 0.2856 - val_loss: 0.0796 - val_mae: 0.2155\n",
            "Epoch 429/750\n",
            "1/1 [==============================] - 4s 4s/step - loss: 0.1453 - mae: 0.2953 - val_loss: 0.1164 - val_mae: 0.2589\n",
            "Epoch 430/750\n",
            "1/1 [==============================] - 4s 4s/step - loss: 0.1617 - mae: 0.3102 - val_loss: 0.0681 - val_mae: 0.1945\n",
            "Epoch 431/750\n",
            "1/1 [==============================] - 4s 4s/step - loss: 0.1292 - mae: 0.2774 - val_loss: 0.0853 - val_mae: 0.2194\n",
            "Epoch 432/750\n",
            "1/1 [==============================] - 4s 4s/step - loss: 0.1371 - mae: 0.2813 - val_loss: 0.0781 - val_mae: 0.2056\n",
            "Epoch 433/750\n",
            "1/1 [==============================] - 4s 4s/step - loss: 0.1374 - mae: 0.2828 - val_loss: 0.0908 - val_mae: 0.2287\n",
            "Epoch 434/750\n",
            "1/1 [==============================] - 4s 4s/step - loss: 0.1431 - mae: 0.2873 - val_loss: 0.0934 - val_mae: 0.2277\n",
            "Epoch 435/750\n",
            "1/1 [==============================] - 4s 4s/step - loss: 0.1513 - mae: 0.3003 - val_loss: 0.0850 - val_mae: 0.2277\n",
            "Epoch 436/750\n",
            "1/1 [==============================] - 4s 4s/step - loss: 0.1376 - mae: 0.2872 - val_loss: 0.0779 - val_mae: 0.2074\n",
            "Epoch 437/750\n",
            "1/1 [==============================] - 4s 4s/step - loss: 0.1336 - mae: 0.2817 - val_loss: 0.0772 - val_mae: 0.2189\n",
            "Epoch 438/750\n",
            "1/1 [==============================] - 4s 4s/step - loss: 0.1299 - mae: 0.2784 - val_loss: 0.0736 - val_mae: 0.2034\n",
            "Epoch 439/750\n",
            "1/1 [==============================] - 4s 4s/step - loss: 0.1312 - mae: 0.2787 - val_loss: 0.0734 - val_mae: 0.2134\n",
            "Epoch 440/750\n",
            "1/1 [==============================] - 4s 4s/step - loss: 0.1281 - mae: 0.2769 - val_loss: 0.0721 - val_mae: 0.2018\n",
            "Epoch 441/750\n",
            "1/1 [==============================] - 4s 4s/step - loss: 0.1300 - mae: 0.2780 - val_loss: 0.0732 - val_mae: 0.2113\n",
            "Epoch 442/750\n",
            "1/1 [==============================] - 4s 4s/step - loss: 0.1292 - mae: 0.2760 - val_loss: 0.0776 - val_mae: 0.2072\n",
            "Epoch 443/750\n",
            "1/1 [==============================] - 4s 4s/step - loss: 0.1333 - mae: 0.2813 - val_loss: 0.0826 - val_mae: 0.2153\n",
            "Epoch 444/750\n",
            "1/1 [==============================] - 4s 4s/step - loss: 0.1392 - mae: 0.2845 - val_loss: 0.0807 - val_mae: 0.2156\n",
            "Epoch 445/750\n",
            "1/1 [==============================] - 4s 4s/step - loss: 0.1363 - mae: 0.2851 - val_loss: 0.0869 - val_mae: 0.2212\n",
            "Epoch 446/750\n",
            "1/1 [==============================] - 4s 4s/step - loss: 0.1425 - mae: 0.2906 - val_loss: 0.0973 - val_mae: 0.2390\n",
            "Epoch 447/750\n",
            "1/1 [==============================] - 4s 4s/step - loss: 0.1501 - mae: 0.3012 - val_loss: 0.0733 - val_mae: 0.2039\n",
            "Epoch 448/750\n",
            "1/1 [==============================] - 4s 4s/step - loss: 0.1319 - mae: 0.2780 - val_loss: 0.0663 - val_mae: 0.1933\n",
            "Epoch 449/750\n",
            "1/1 [==============================] - 4s 4s/step - loss: 0.1235 - mae: 0.2699 - val_loss: 0.0651 - val_mae: 0.1919\n",
            "Epoch 450/750\n",
            "1/1 [==============================] - 4s 4s/step - loss: 0.1208 - mae: 0.2645 - val_loss: 0.0645 - val_mae: 0.1864\n",
            "Epoch 451/750\n",
            "1/1 [==============================] - 4s 4s/step - loss: 0.1196 - mae: 0.2632 - val_loss: 0.0748 - val_mae: 0.2080\n",
            "Epoch 452/750\n",
            "1/1 [==============================] - 4s 4s/step - loss: 0.1302 - mae: 0.2742 - val_loss: 0.0749 - val_mae: 0.2035\n",
            "Epoch 453/750\n",
            "1/1 [==============================] - 4s 4s/step - loss: 0.1336 - mae: 0.2798 - val_loss: 0.0922 - val_mae: 0.2423\n",
            "Epoch 454/750\n",
            "1/1 [==============================] - 4s 4s/step - loss: 0.1442 - mae: 0.2941 - val_loss: 0.0847 - val_mae: 0.2209\n",
            "Epoch 455/750\n",
            "1/1 [==============================] - 4s 4s/step - loss: 0.1417 - mae: 0.2926 - val_loss: 0.1009 - val_mae: 0.2559\n",
            "Epoch 456/750\n",
            "1/1 [==============================] - 4s 4s/step - loss: 0.1527 - mae: 0.3089 - val_loss: 0.1207 - val_mae: 0.2666\n",
            "Epoch 457/750\n",
            "1/1 [==============================] - 4s 4s/step - loss: 0.1699 - mae: 0.3235 - val_loss: 0.0802 - val_mae: 0.2117\n",
            "Epoch 458/750\n",
            "1/1 [==============================] - 4s 4s/step - loss: 0.1382 - mae: 0.2850 - val_loss: 0.0665 - val_mae: 0.1939\n",
            "Epoch 459/750\n",
            "1/1 [==============================] - 4s 4s/step - loss: 0.1228 - mae: 0.2675 - val_loss: 0.0605 - val_mae: 0.1828\n",
            "Epoch 460/750\n",
            "1/1 [==============================] - 4s 4s/step - loss: 0.1175 - mae: 0.2619 - val_loss: 0.0667 - val_mae: 0.1944\n",
            "Epoch 461/750\n",
            "1/1 [==============================] - 4s 4s/step - loss: 0.1189 - mae: 0.2624 - val_loss: 0.0599 - val_mae: 0.1843\n",
            "Epoch 462/750\n",
            "1/1 [==============================] - 4s 4s/step - loss: 0.1241 - mae: 0.2710 - val_loss: 0.0846 - val_mae: 0.2211\n",
            "Epoch 463/750\n",
            "1/1 [==============================] - 4s 4s/step - loss: 0.1339 - mae: 0.2805 - val_loss: 0.0618 - val_mae: 0.1872\n",
            "Epoch 464/750\n",
            "1/1 [==============================] - 4s 4s/step - loss: 0.1267 - mae: 0.2737 - val_loss: 0.0785 - val_mae: 0.2112\n",
            "Epoch 465/750\n",
            "1/1 [==============================] - 4s 4s/step - loss: 0.1291 - mae: 0.2750 - val_loss: 0.0675 - val_mae: 0.1912\n",
            "Epoch 466/750\n",
            "1/1 [==============================] - 4s 4s/step - loss: 0.1266 - mae: 0.2724 - val_loss: 0.0903 - val_mae: 0.2206\n",
            "Epoch 467/750\n",
            "1/1 [==============================] - 4s 4s/step - loss: 0.1411 - mae: 0.2835 - val_loss: 0.0662 - val_mae: 0.1928\n",
            "Epoch 468/750\n",
            "1/1 [==============================] - 4s 4s/step - loss: 0.1252 - mae: 0.2739 - val_loss: 0.0884 - val_mae: 0.2284\n",
            "Epoch 469/750\n",
            "1/1 [==============================] - 4s 4s/step - loss: 0.1348 - mae: 0.2812 - val_loss: 0.0866 - val_mae: 0.2196\n",
            "Epoch 470/750\n",
            "1/1 [==============================] - 4s 4s/step - loss: 0.1451 - mae: 0.2933 - val_loss: 0.0922 - val_mae: 0.2328\n",
            "Epoch 471/750\n",
            "1/1 [==============================] - 4s 4s/step - loss: 0.1489 - mae: 0.2962 - val_loss: 0.0973 - val_mae: 0.2324\n",
            "Epoch 472/750\n",
            "1/1 [==============================] - 4s 4s/step - loss: 0.1531 - mae: 0.3039 - val_loss: 0.0877 - val_mae: 0.2327\n",
            "Epoch 473/750\n",
            "1/1 [==============================] - 4s 4s/step - loss: 0.1387 - mae: 0.2884 - val_loss: 0.0799 - val_mae: 0.2169\n",
            "Epoch 474/750\n",
            "1/1 [==============================] - 4s 4s/step - loss: 0.1392 - mae: 0.2906 - val_loss: 0.0819 - val_mae: 0.2293\n",
            "Epoch 475/750\n",
            "1/1 [==============================] - 4s 4s/step - loss: 0.1354 - mae: 0.2871 - val_loss: 0.0695 - val_mae: 0.1989\n",
            "Epoch 476/750\n",
            "1/1 [==============================] - 4s 4s/step - loss: 0.1265 - mae: 0.2736 - val_loss: 0.0666 - val_mae: 0.2015\n",
            "Epoch 477/750\n",
            "1/1 [==============================] - 4s 4s/step - loss: 0.1227 - mae: 0.2689 - val_loss: 0.0736 - val_mae: 0.2002\n",
            "Epoch 478/750\n",
            "1/1 [==============================] - 4s 4s/step - loss: 0.1247 - mae: 0.2711 - val_loss: 0.0805 - val_mae: 0.2146\n",
            "Epoch 479/750\n",
            "1/1 [==============================] - 4s 4s/step - loss: 0.1341 - mae: 0.2804 - val_loss: 0.0753 - val_mae: 0.2059\n",
            "Epoch 480/750\n",
            "1/1 [==============================] - 4s 4s/step - loss: 0.1309 - mae: 0.2782 - val_loss: 0.0632 - val_mae: 0.1887\n",
            "Epoch 481/750\n",
            "1/1 [==============================] - 4s 4s/step - loss: 0.1201 - mae: 0.2651 - val_loss: 0.0713 - val_mae: 0.2003\n",
            "Epoch 482/750\n",
            "1/1 [==============================] - 4s 4s/step - loss: 0.1275 - mae: 0.2738 - val_loss: 0.0644 - val_mae: 0.1908\n",
            "Epoch 483/750\n",
            "1/1 [==============================] - 4s 4s/step - loss: 0.1245 - mae: 0.2700 - val_loss: 0.0848 - val_mae: 0.2174\n",
            "Epoch 484/750\n",
            "1/1 [==============================] - 4s 4s/step - loss: 0.1371 - mae: 0.2835 - val_loss: 0.0795 - val_mae: 0.2088\n",
            "Epoch 485/750\n",
            "1/1 [==============================] - 4s 4s/step - loss: 0.1375 - mae: 0.2826 - val_loss: 0.0671 - val_mae: 0.1927\n",
            "Epoch 486/750\n",
            "1/1 [==============================] - 4s 4s/step - loss: 0.1237 - mae: 0.2691 - val_loss: 0.0733 - val_mae: 0.2093\n",
            "Epoch 487/750\n",
            "1/1 [==============================] - 4s 4s/step - loss: 0.1251 - mae: 0.2688 - val_loss: 0.0692 - val_mae: 0.1951\n",
            "Epoch 488/750\n",
            "1/1 [==============================] - 4s 4s/step - loss: 0.1280 - mae: 0.2729 - val_loss: 0.0703 - val_mae: 0.2042\n",
            "Epoch 489/750\n",
            "1/1 [==============================] - 4s 4s/step - loss: 0.1239 - mae: 0.2672 - val_loss: 0.0729 - val_mae: 0.1968\n",
            "Epoch 490/750\n",
            "1/1 [==============================] - 4s 4s/step - loss: 0.1314 - mae: 0.2775 - val_loss: 0.1009 - val_mae: 0.2414\n",
            "Epoch 491/750\n",
            "1/1 [==============================] - 4s 4s/step - loss: 0.1473 - mae: 0.2933 - val_loss: 0.0674 - val_mae: 0.1936\n",
            "Epoch 492/750\n",
            "1/1 [==============================] - 4s 4s/step - loss: 0.1270 - mae: 0.2738 - val_loss: 0.0974 - val_mae: 0.2524\n",
            "Epoch 493/750\n",
            "1/1 [==============================] - 4s 4s/step - loss: 0.1427 - mae: 0.2961 - val_loss: 0.0895 - val_mae: 0.2283\n",
            "Epoch 494/750\n",
            "1/1 [==============================] - 4s 4s/step - loss: 0.1496 - mae: 0.3019 - val_loss: 0.0907 - val_mae: 0.2413\n",
            "Epoch 495/750\n",
            "1/1 [==============================] - 4s 4s/step - loss: 0.1505 - mae: 0.3028 - val_loss: 0.1071 - val_mae: 0.2436\n",
            "Epoch 496/750\n",
            "1/1 [==============================] - 4s 4s/step - loss: 0.1577 - mae: 0.3070 - val_loss: 0.0842 - val_mae: 0.2212\n",
            "Epoch 497/750\n",
            "1/1 [==============================] - 4s 4s/step - loss: 0.1417 - mae: 0.2896 - val_loss: 0.0911 - val_mae: 0.2261\n",
            "Epoch 498/750\n",
            "1/1 [==============================] - 4s 4s/step - loss: 0.1468 - mae: 0.2961 - val_loss: 0.0636 - val_mae: 0.1902\n",
            "Epoch 499/750\n",
            "1/1 [==============================] - 4s 4s/step - loss: 0.1198 - mae: 0.2658 - val_loss: 0.0653 - val_mae: 0.1901\n",
            "Epoch 500/750\n",
            "1/1 [==============================] - 4s 4s/step - loss: 0.1196 - mae: 0.2636 - val_loss: 0.0581 - val_mae: 0.1817\n",
            "Epoch 501/750\n",
            "1/1 [==============================] - 4s 4s/step - loss: 0.1146 - mae: 0.2585 - val_loss: 0.0620 - val_mae: 0.1839\n",
            "Epoch 502/750\n",
            "1/1 [==============================] - 4s 4s/step - loss: 0.1164 - mae: 0.2585 - val_loss: 0.0582 - val_mae: 0.1805\n",
            "Epoch 503/750\n",
            "1/1 [==============================] - 4s 4s/step - loss: 0.1170 - mae: 0.2610 - val_loss: 0.0712 - val_mae: 0.1971\n",
            "Epoch 504/750\n",
            "1/1 [==============================] - 4s 4s/step - loss: 0.1224 - mae: 0.2653 - val_loss: 0.0661 - val_mae: 0.1909\n",
            "Epoch 505/750\n",
            "1/1 [==============================] - 4s 4s/step - loss: 0.1237 - mae: 0.2689 - val_loss: 0.0756 - val_mae: 0.2073\n",
            "Epoch 506/750\n",
            "1/1 [==============================] - 4s 4s/step - loss: 0.1288 - mae: 0.2730 - val_loss: 0.0781 - val_mae: 0.2069\n",
            "Epoch 507/750\n",
            "1/1 [==============================] - 4s 4s/step - loss: 0.1322 - mae: 0.2798 - val_loss: 0.0735 - val_mae: 0.2136\n",
            "Epoch 508/750\n",
            "1/1 [==============================] - 4s 4s/step - loss: 0.1297 - mae: 0.2772 - val_loss: 0.0804 - val_mae: 0.2121\n",
            "Epoch 509/750\n",
            "1/1 [==============================] - 4s 4s/step - loss: 0.1350 - mae: 0.2831 - val_loss: 0.0758 - val_mae: 0.2184\n",
            "Epoch 510/750\n",
            "1/1 [==============================] - 4s 4s/step - loss: 0.1315 - mae: 0.2807 - val_loss: 0.0737 - val_mae: 0.2028\n",
            "Epoch 511/750\n",
            "1/1 [==============================] - 4s 4s/step - loss: 0.1312 - mae: 0.2796 - val_loss: 0.0751 - val_mae: 0.2123\n",
            "Epoch 512/750\n",
            "1/1 [==============================] - 4s 4s/step - loss: 0.1248 - mae: 0.2707 - val_loss: 0.0644 - val_mae: 0.1898\n",
            "Epoch 513/750\n",
            "1/1 [==============================] - 4s 4s/step - loss: 0.1232 - mae: 0.2695 - val_loss: 0.0634 - val_mae: 0.1910\n",
            "Epoch 514/750\n",
            "1/1 [==============================] - 4s 4s/step - loss: 0.1157 - mae: 0.2598 - val_loss: 0.0660 - val_mae: 0.1917\n",
            "Epoch 515/750\n",
            "1/1 [==============================] - 4s 4s/step - loss: 0.1199 - mae: 0.2642 - val_loss: 0.0709 - val_mae: 0.1986\n",
            "Epoch 516/750\n",
            "1/1 [==============================] - 4s 4s/step - loss: 0.1294 - mae: 0.2732 - val_loss: 0.0848 - val_mae: 0.2214\n",
            "Epoch 517/750\n",
            "1/1 [==============================] - 4s 4s/step - loss: 0.1320 - mae: 0.2803 - val_loss: 0.0658 - val_mae: 0.1931\n",
            "Epoch 518/750\n",
            "1/1 [==============================] - 4s 4s/step - loss: 0.1257 - mae: 0.2724 - val_loss: 0.0732 - val_mae: 0.2097\n",
            "Epoch 519/750\n",
            "1/1 [==============================] - 4s 4s/step - loss: 0.1235 - mae: 0.2706 - val_loss: 0.0629 - val_mae: 0.1870\n",
            "Epoch 520/750\n",
            "1/1 [==============================] - 4s 4s/step - loss: 0.1201 - mae: 0.2635 - val_loss: 0.0645 - val_mae: 0.1921\n",
            "Epoch 521/750\n",
            "1/1 [==============================] - 4s 4s/step - loss: 0.1216 - mae: 0.2667 - val_loss: 0.0628 - val_mae: 0.1886\n",
            "Epoch 522/750\n",
            "1/1 [==============================] - 4s 4s/step - loss: 0.1183 - mae: 0.2614 - val_loss: 0.0636 - val_mae: 0.1845\n",
            "Epoch 523/750\n",
            "1/1 [==============================] - 4s 4s/step - loss: 0.1211 - mae: 0.2654 - val_loss: 0.0744 - val_mae: 0.2150\n",
            "Epoch 524/750\n",
            "1/1 [==============================] - 4s 4s/step - loss: 0.1277 - mae: 0.2727 - val_loss: 0.0701 - val_mae: 0.1955\n",
            "Epoch 525/750\n",
            "1/1 [==============================] - 4s 4s/step - loss: 0.1301 - mae: 0.2740 - val_loss: 0.0960 - val_mae: 0.2391\n",
            "Epoch 526/750\n",
            "1/1 [==============================] - 4s 4s/step - loss: 0.1422 - mae: 0.2884 - val_loss: 0.0745 - val_mae: 0.2036\n",
            "Epoch 527/750\n",
            "1/1 [==============================] - 4s 4s/step - loss: 0.1314 - mae: 0.2787 - val_loss: 0.0933 - val_mae: 0.2252\n",
            "Epoch 528/750\n",
            "1/1 [==============================] - 4s 4s/step - loss: 0.1385 - mae: 0.2809 - val_loss: 0.0710 - val_mae: 0.1991\n",
            "Epoch 529/750\n",
            "1/1 [==============================] - 4s 4s/step - loss: 0.1354 - mae: 0.2840 - val_loss: 0.0866 - val_mae: 0.2365\n",
            "Epoch 530/750\n",
            "1/1 [==============================] - 4s 4s/step - loss: 0.1399 - mae: 0.2906 - val_loss: 0.0808 - val_mae: 0.2165\n",
            "Epoch 531/750\n",
            "1/1 [==============================] - 4s 4s/step - loss: 0.1375 - mae: 0.2874 - val_loss: 0.0851 - val_mae: 0.2319\n",
            "Epoch 532/750\n",
            "1/1 [==============================] - 4s 4s/step - loss: 0.1383 - mae: 0.2889 - val_loss: 0.1040 - val_mae: 0.2365\n",
            "Epoch 533/750\n",
            "1/1 [==============================] - 4s 4s/step - loss: 0.1536 - mae: 0.3017 - val_loss: 0.0669 - val_mae: 0.1962\n",
            "Epoch 534/750\n",
            "1/1 [==============================] - 4s 4s/step - loss: 0.1241 - mae: 0.2699 - val_loss: 0.0640 - val_mae: 0.1877\n",
            "Epoch 535/750\n",
            "1/1 [==============================] - 4s 4s/step - loss: 0.1182 - mae: 0.2631 - val_loss: 0.0577 - val_mae: 0.1816\n",
            "Epoch 536/750\n",
            "1/1 [==============================] - 4s 4s/step - loss: 0.1132 - mae: 0.2572 - val_loss: 0.0596 - val_mae: 0.1825\n",
            "Epoch 537/750\n",
            "1/1 [==============================] - 4s 4s/step - loss: 0.1123 - mae: 0.2550 - val_loss: 0.0538 - val_mae: 0.1755\n",
            "Epoch 538/750\n",
            "1/1 [==============================] - 4s 4s/step - loss: 0.1115 - mae: 0.2544 - val_loss: 0.0622 - val_mae: 0.1861\n",
            "Epoch 539/750\n",
            "1/1 [==============================] - 4s 4s/step - loss: 0.1150 - mae: 0.2574 - val_loss: 0.0535 - val_mae: 0.1752\n",
            "Epoch 540/750\n",
            "1/1 [==============================] - 4s 4s/step - loss: 0.1112 - mae: 0.2546 - val_loss: 0.0675 - val_mae: 0.1938\n",
            "Epoch 541/750\n",
            "1/1 [==============================] - 4s 4s/step - loss: 0.1189 - mae: 0.2621 - val_loss: 0.0599 - val_mae: 0.1869\n",
            "Epoch 542/750\n",
            "1/1 [==============================] - 4s 4s/step - loss: 0.1201 - mae: 0.2637 - val_loss: 0.0854 - val_mae: 0.2170\n",
            "Epoch 543/750\n",
            "1/1 [==============================] - 4s 4s/step - loss: 0.1382 - mae: 0.2852 - val_loss: 0.0922 - val_mae: 0.2239\n",
            "Epoch 544/750\n",
            "1/1 [==============================] - 4s 4s/step - loss: 0.1438 - mae: 0.2872 - val_loss: 0.0747 - val_mae: 0.2013\n",
            "Epoch 545/750\n",
            "1/1 [==============================] - 4s 4s/step - loss: 0.1335 - mae: 0.2808 - val_loss: 0.0806 - val_mae: 0.2225\n",
            "Epoch 546/750\n",
            "1/1 [==============================] - 4s 4s/step - loss: 0.1285 - mae: 0.2733 - val_loss: 0.0707 - val_mae: 0.1969\n",
            "Epoch 547/750\n",
            "1/1 [==============================] - 4s 4s/step - loss: 0.1306 - mae: 0.2755 - val_loss: 0.0749 - val_mae: 0.2145\n",
            "Epoch 548/750\n",
            "1/1 [==============================] - 4s 4s/step - loss: 0.1256 - mae: 0.2719 - val_loss: 0.0649 - val_mae: 0.1903\n",
            "Epoch 549/750\n",
            "1/1 [==============================] - 4s 4s/step - loss: 0.1223 - mae: 0.2689 - val_loss: 0.0800 - val_mae: 0.2199\n",
            "Epoch 550/750\n",
            "1/1 [==============================] - 4s 4s/step - loss: 0.1298 - mae: 0.2767 - val_loss: 0.0597 - val_mae: 0.1822\n",
            "Epoch 551/750\n",
            "1/1 [==============================] - 4s 4s/step - loss: 0.1185 - mae: 0.2643 - val_loss: 0.0640 - val_mae: 0.1973\n",
            "Epoch 552/750\n",
            "1/1 [==============================] - 4s 4s/step - loss: 0.1201 - mae: 0.2666 - val_loss: 0.0703 - val_mae: 0.1972\n",
            "Epoch 553/750\n",
            "1/1 [==============================] - 4s 4s/step - loss: 0.1251 - mae: 0.2711 - val_loss: 0.0667 - val_mae: 0.1994\n",
            "Epoch 554/750\n",
            "1/1 [==============================] - 4s 4s/step - loss: 0.1236 - mae: 0.2703 - val_loss: 0.0760 - val_mae: 0.2065\n",
            "Epoch 555/750\n",
            "1/1 [==============================] - 4s 4s/step - loss: 0.1274 - mae: 0.2737 - val_loss: 0.0569 - val_mae: 0.1813\n",
            "Epoch 556/750\n",
            "1/1 [==============================] - 4s 4s/step - loss: 0.1184 - mae: 0.2643 - val_loss: 0.0744 - val_mae: 0.2058\n",
            "Epoch 557/750\n",
            "1/1 [==============================] - 4s 4s/step - loss: 0.1215 - mae: 0.2640 - val_loss: 0.0524 - val_mae: 0.1692\n",
            "Epoch 558/750\n",
            "1/1 [==============================] - 4s 4s/step - loss: 0.1142 - mae: 0.2572 - val_loss: 0.0684 - val_mae: 0.1978\n",
            "Epoch 559/750\n",
            "1/1 [==============================] - 4s 4s/step - loss: 0.1168 - mae: 0.2595 - val_loss: 0.0664 - val_mae: 0.1894\n",
            "Epoch 560/750\n",
            "1/1 [==============================] - 4s 4s/step - loss: 0.1220 - mae: 0.2656 - val_loss: 0.0810 - val_mae: 0.2094\n",
            "Epoch 561/750\n",
            "1/1 [==============================] - 4s 4s/step - loss: 0.1325 - mae: 0.2750 - val_loss: 0.0752 - val_mae: 0.2042\n",
            "Epoch 562/750\n",
            "1/1 [==============================] - 4s 4s/step - loss: 0.1297 - mae: 0.2769 - val_loss: 0.0737 - val_mae: 0.2125\n",
            "Epoch 563/750\n",
            "1/1 [==============================] - 4s 4s/step - loss: 0.1295 - mae: 0.2760 - val_loss: 0.0831 - val_mae: 0.2139\n",
            "Epoch 564/750\n",
            "1/1 [==============================] - 4s 4s/step - loss: 0.1388 - mae: 0.2846 - val_loss: 0.0728 - val_mae: 0.2081\n",
            "Epoch 565/750\n",
            "1/1 [==============================] - 4s 4s/step - loss: 0.1297 - mae: 0.2749 - val_loss: 0.0711 - val_mae: 0.1969\n",
            "Epoch 566/750\n",
            "1/1 [==============================] - 4s 4s/step - loss: 0.1269 - mae: 0.2734 - val_loss: 0.0841 - val_mae: 0.2257\n",
            "Epoch 567/750\n",
            "1/1 [==============================] - 4s 4s/step - loss: 0.1309 - mae: 0.2760 - val_loss: 0.0718 - val_mae: 0.2020\n",
            "Epoch 568/750\n",
            "1/1 [==============================] - 4s 4s/step - loss: 0.1323 - mae: 0.2805 - val_loss: 0.0701 - val_mae: 0.2079\n",
            "Epoch 569/750\n",
            "1/1 [==============================] - 4s 4s/step - loss: 0.1216 - mae: 0.2691 - val_loss: 0.0635 - val_mae: 0.1900\n",
            "Epoch 570/750\n",
            "1/1 [==============================] - 4s 4s/step - loss: 0.1205 - mae: 0.2664 - val_loss: 0.0583 - val_mae: 0.1833\n",
            "Epoch 571/750\n",
            "1/1 [==============================] - 4s 4s/step - loss: 0.1119 - mae: 0.2549 - val_loss: 0.0635 - val_mae: 0.1905\n",
            "Epoch 572/750\n",
            "1/1 [==============================] - 4s 4s/step - loss: 0.1162 - mae: 0.2595 - val_loss: 0.0579 - val_mae: 0.1795\n",
            "Epoch 573/750\n",
            "1/1 [==============================] - 4s 4s/step - loss: 0.1159 - mae: 0.2599 - val_loss: 0.0764 - val_mae: 0.2129\n",
            "Epoch 574/750\n",
            "1/1 [==============================] - 4s 4s/step - loss: 0.1247 - mae: 0.2697 - val_loss: 0.0612 - val_mae: 0.1850\n",
            "Epoch 575/750\n",
            "1/1 [==============================] - 4s 4s/step - loss: 0.1205 - mae: 0.2651 - val_loss: 0.0701 - val_mae: 0.1979\n",
            "Epoch 576/750\n",
            "1/1 [==============================] - 4s 4s/step - loss: 0.1204 - mae: 0.2634 - val_loss: 0.0676 - val_mae: 0.1936\n",
            "Epoch 577/750\n",
            "1/1 [==============================] - 4s 4s/step - loss: 0.1239 - mae: 0.2679 - val_loss: 0.0685 - val_mae: 0.1941\n",
            "Epoch 578/750\n",
            "1/1 [==============================] - 4s 4s/step - loss: 0.1257 - mae: 0.2715 - val_loss: 0.0747 - val_mae: 0.2080\n",
            "Epoch 579/750\n",
            "1/1 [==============================] - 4s 4s/step - loss: 0.1244 - mae: 0.2668 - val_loss: 0.0657 - val_mae: 0.1870\n",
            "Epoch 580/750\n",
            "1/1 [==============================] - 4s 4s/step - loss: 0.1248 - mae: 0.2680 - val_loss: 0.0763 - val_mae: 0.2094\n",
            "Epoch 581/750\n",
            "1/1 [==============================] - 4s 4s/step - loss: 0.1228 - mae: 0.2660 - val_loss: 0.0580 - val_mae: 0.1779\n",
            "Epoch 582/750\n",
            "1/1 [==============================] - 4s 4s/step - loss: 0.1184 - mae: 0.2624 - val_loss: 0.0707 - val_mae: 0.2056\n",
            "Epoch 583/750\n",
            "1/1 [==============================] - 4s 4s/step - loss: 0.1205 - mae: 0.2657 - val_loss: 0.0604 - val_mae: 0.1843\n",
            "Epoch 584/750\n",
            "1/1 [==============================] - 4s 4s/step - loss: 0.1181 - mae: 0.2633 - val_loss: 0.0766 - val_mae: 0.2226\n",
            "Epoch 585/750\n",
            "1/1 [==============================] - 4s 4s/step - loss: 0.1264 - mae: 0.2751 - val_loss: 0.0776 - val_mae: 0.2072\n",
            "Epoch 586/750\n",
            "1/1 [==============================] - 4s 4s/step - loss: 0.1304 - mae: 0.2769 - val_loss: 0.0692 - val_mae: 0.2083\n",
            "Epoch 587/750\n",
            "1/1 [==============================] - 4s 4s/step - loss: 0.1245 - mae: 0.2732 - val_loss: 0.0887 - val_mae: 0.2251\n",
            "Epoch 588/750\n",
            "1/1 [==============================] - 4s 4s/step - loss: 0.1396 - mae: 0.2893 - val_loss: 0.0698 - val_mae: 0.1962\n",
            "Epoch 589/750\n",
            "1/1 [==============================] - 4s 4s/step - loss: 0.1235 - mae: 0.2677 - val_loss: 0.0627 - val_mae: 0.1874\n",
            "Epoch 590/750\n",
            "1/1 [==============================] - 4s 4s/step - loss: 0.1153 - mae: 0.2593 - val_loss: 0.0574 - val_mae: 0.1806\n",
            "Epoch 591/750\n",
            "1/1 [==============================] - 4s 4s/step - loss: 0.1138 - mae: 0.2576 - val_loss: 0.0640 - val_mae: 0.1889\n",
            "Epoch 592/750\n",
            "1/1 [==============================] - 4s 4s/step - loss: 0.1172 - mae: 0.2601 - val_loss: 0.0553 - val_mae: 0.1768\n",
            "Epoch 593/750\n",
            "1/1 [==============================] - 4s 4s/step - loss: 0.1122 - mae: 0.2549 - val_loss: 0.0638 - val_mae: 0.1875\n",
            "Epoch 594/750\n",
            "1/1 [==============================] - 4s 4s/step - loss: 0.1153 - mae: 0.2585 - val_loss: 0.0742 - val_mae: 0.2024\n",
            "Epoch 595/750\n",
            "1/1 [==============================] - 4s 4s/step - loss: 0.1255 - mae: 0.2667 - val_loss: 0.0649 - val_mae: 0.1877\n",
            "Epoch 596/750\n",
            "1/1 [==============================] - 4s 4s/step - loss: 0.1221 - mae: 0.2664 - val_loss: 0.0738 - val_mae: 0.2082\n",
            "Epoch 597/750\n",
            "1/1 [==============================] - 4s 4s/step - loss: 0.1250 - mae: 0.2688 - val_loss: 0.0637 - val_mae: 0.1840\n",
            "Epoch 598/750\n",
            "1/1 [==============================] - 4s 4s/step - loss: 0.1201 - mae: 0.2645 - val_loss: 0.0685 - val_mae: 0.2013\n",
            "Epoch 599/750\n",
            "1/1 [==============================] - 4s 4s/step - loss: 0.1201 - mae: 0.2633 - val_loss: 0.0549 - val_mae: 0.1718\n",
            "Epoch 600/750\n",
            "1/1 [==============================] - 4s 4s/step - loss: 0.1145 - mae: 0.2578 - val_loss: 0.0642 - val_mae: 0.1967\n",
            "Epoch 601/750\n",
            "1/1 [==============================] - 4s 4s/step - loss: 0.1124 - mae: 0.2548 - val_loss: 0.0530 - val_mae: 0.1715\n",
            "Epoch 602/750\n",
            "1/1 [==============================] - 4s 4s/step - loss: 0.1154 - mae: 0.2585 - val_loss: 0.0839 - val_mae: 0.2266\n",
            "Epoch 603/750\n",
            "1/1 [==============================] - 4s 4s/step - loss: 0.1256 - mae: 0.2718 - val_loss: 0.0587 - val_mae: 0.1799\n",
            "Epoch 604/750\n",
            "1/1 [==============================] - 4s 4s/step - loss: 0.1186 - mae: 0.2638 - val_loss: 0.0706 - val_mae: 0.2091\n",
            "Epoch 605/750\n",
            "1/1 [==============================] - 4s 4s/step - loss: 0.1189 - mae: 0.2638 - val_loss: 0.0686 - val_mae: 0.1943\n",
            "Epoch 606/750\n",
            "1/1 [==============================] - 4s 4s/step - loss: 0.1257 - mae: 0.2707 - val_loss: 0.0666 - val_mae: 0.2058\n",
            "Epoch 607/750\n",
            "1/1 [==============================] - 4s 4s/step - loss: 0.1261 - mae: 0.2720 - val_loss: 0.0937 - val_mae: 0.2255\n",
            "Epoch 608/750\n",
            "1/1 [==============================] - 4s 4s/step - loss: 0.1384 - mae: 0.2859 - val_loss: 0.0708 - val_mae: 0.2026\n",
            "Epoch 609/750\n",
            "1/1 [==============================] - 4s 4s/step - loss: 0.1255 - mae: 0.2724 - val_loss: 0.0750 - val_mae: 0.2036\n",
            "Epoch 610/750\n",
            "1/1 [==============================] - 4s 4s/step - loss: 0.1298 - mae: 0.2760 - val_loss: 0.0591 - val_mae: 0.1830\n",
            "Epoch 611/750\n",
            "1/1 [==============================] - 4s 4s/step - loss: 0.1141 - mae: 0.2574 - val_loss: 0.0608 - val_mae: 0.1835\n",
            "Epoch 612/750\n",
            "1/1 [==============================] - 4s 4s/step - loss: 0.1144 - mae: 0.2565 - val_loss: 0.0544 - val_mae: 0.1754\n",
            "Epoch 613/750\n",
            "1/1 [==============================] - 4s 4s/step - loss: 0.1094 - mae: 0.2510 - val_loss: 0.0625 - val_mae: 0.1846\n",
            "Epoch 614/750\n",
            "1/1 [==============================] - 4s 4s/step - loss: 0.1179 - mae: 0.2602 - val_loss: 0.0539 - val_mae: 0.1754\n",
            "Epoch 615/750\n",
            "1/1 [==============================] - 4s 4s/step - loss: 0.1089 - mae: 0.2507 - val_loss: 0.0569 - val_mae: 0.1764\n",
            "Epoch 616/750\n",
            "1/1 [==============================] - 4s 4s/step - loss: 0.1110 - mae: 0.2526 - val_loss: 0.0567 - val_mae: 0.1784\n",
            "Epoch 617/750\n",
            "1/1 [==============================] - 4s 4s/step - loss: 0.1123 - mae: 0.2559 - val_loss: 0.0753 - val_mae: 0.2050\n",
            "Epoch 618/750\n",
            "1/1 [==============================] - 4s 4s/step - loss: 0.1260 - mae: 0.2696 - val_loss: 0.0681 - val_mae: 0.1939\n",
            "Epoch 619/750\n",
            "1/1 [==============================] - 4s 4s/step - loss: 0.1238 - mae: 0.2697 - val_loss: 0.0730 - val_mae: 0.2049\n",
            "Epoch 620/750\n",
            "1/1 [==============================] - 4s 4s/step - loss: 0.1263 - mae: 0.2699 - val_loss: 0.0743 - val_mae: 0.2007\n",
            "Epoch 621/750\n",
            "1/1 [==============================] - 4s 4s/step - loss: 0.1264 - mae: 0.2715 - val_loss: 0.0761 - val_mae: 0.2123\n",
            "Epoch 622/750\n",
            "1/1 [==============================] - 4s 4s/step - loss: 0.1309 - mae: 0.2775 - val_loss: 0.0703 - val_mae: 0.1975\n",
            "Epoch 623/750\n",
            "1/1 [==============================] - 4s 4s/step - loss: 0.1246 - mae: 0.2711 - val_loss: 0.0731 - val_mae: 0.2113\n",
            "Epoch 624/750\n",
            "1/1 [==============================] - 4s 4s/step - loss: 0.1238 - mae: 0.2686 - val_loss: 0.0733 - val_mae: 0.2016\n",
            "Epoch 625/750\n",
            "1/1 [==============================] - 4s 4s/step - loss: 0.1293 - mae: 0.2768 - val_loss: 0.0616 - val_mae: 0.1928\n",
            "Epoch 626/750\n",
            "1/1 [==============================] - 4s 4s/step - loss: 0.1157 - mae: 0.2606 - val_loss: 0.0556 - val_mae: 0.1741\n",
            "Epoch 627/750\n",
            "1/1 [==============================] - 4s 4s/step - loss: 0.1107 - mae: 0.2537 - val_loss: 0.0601 - val_mae: 0.1887\n",
            "Epoch 628/750\n",
            "1/1 [==============================] - 4s 4s/step - loss: 0.1104 - mae: 0.2532 - val_loss: 0.0530 - val_mae: 0.1698\n",
            "Epoch 629/750\n",
            "1/1 [==============================] - 4s 4s/step - loss: 0.1122 - mae: 0.2543 - val_loss: 0.0652 - val_mae: 0.1980\n",
            "Epoch 630/750\n",
            "1/1 [==============================] - 4s 4s/step - loss: 0.1153 - mae: 0.2582 - val_loss: 0.0592 - val_mae: 0.1794\n",
            "Epoch 631/750\n",
            "1/1 [==============================] - 4s 4s/step - loss: 0.1167 - mae: 0.2604 - val_loss: 0.0749 - val_mae: 0.2118\n",
            "Epoch 632/750\n",
            "1/1 [==============================] - 4s 4s/step - loss: 0.1244 - mae: 0.2667 - val_loss: 0.0569 - val_mae: 0.1755\n",
            "Epoch 633/750\n",
            "1/1 [==============================] - 4s 4s/step - loss: 0.1141 - mae: 0.2559 - val_loss: 0.0631 - val_mae: 0.1934\n",
            "Epoch 634/750\n",
            "1/1 [==============================] - 4s 4s/step - loss: 0.1129 - mae: 0.2532 - val_loss: 0.0500 - val_mae: 0.1637\n",
            "Epoch 635/750\n",
            "1/1 [==============================] - 4s 4s/step - loss: 0.1091 - mae: 0.2498 - val_loss: 0.0619 - val_mae: 0.1878\n",
            "Epoch 636/750\n",
            "1/1 [==============================] - 4s 4s/step - loss: 0.1095 - mae: 0.2488 - val_loss: 0.0501 - val_mae: 0.1641\n",
            "Epoch 637/750\n",
            "1/1 [==============================] - 4s 4s/step - loss: 0.1106 - mae: 0.2515 - val_loss: 0.0758 - val_mae: 0.2019\n",
            "Epoch 638/750\n",
            "1/1 [==============================] - 4s 4s/step - loss: 0.1199 - mae: 0.2607 - val_loss: 0.0523 - val_mae: 0.1724\n",
            "Epoch 639/750\n",
            "1/1 [==============================] - 4s 4s/step - loss: 0.1103 - mae: 0.2520 - val_loss: 0.0628 - val_mae: 0.1867\n",
            "Epoch 640/750\n",
            "1/1 [==============================] - 4s 4s/step - loss: 0.1151 - mae: 0.2575 - val_loss: 0.0565 - val_mae: 0.1819\n",
            "Epoch 641/750\n",
            "1/1 [==============================] - 4s 4s/step - loss: 0.1149 - mae: 0.2599 - val_loss: 0.0907 - val_mae: 0.2300\n",
            "Epoch 642/750\n",
            "1/1 [==============================] - 4s 4s/step - loss: 0.1372 - mae: 0.2873 - val_loss: 0.0872 - val_mae: 0.2265\n",
            "Epoch 643/750\n",
            "1/1 [==============================] - 4s 4s/step - loss: 0.1395 - mae: 0.2863 - val_loss: 0.0854 - val_mae: 0.2101\n",
            "Epoch 644/750\n",
            "1/1 [==============================] - 4s 4s/step - loss: 0.1382 - mae: 0.2831 - val_loss: 0.0654 - val_mae: 0.2009\n",
            "Epoch 645/750\n",
            "1/1 [==============================] - 4s 4s/step - loss: 0.1168 - mae: 0.2622 - val_loss: 0.0675 - val_mae: 0.1924\n",
            "Epoch 646/750\n",
            "1/1 [==============================] - 4s 4s/step - loss: 0.1243 - mae: 0.2690 - val_loss: 0.0669 - val_mae: 0.2043\n",
            "Epoch 647/750\n",
            "1/1 [==============================] - 4s 4s/step - loss: 0.1211 - mae: 0.2678 - val_loss: 0.0647 - val_mae: 0.1880\n",
            "Epoch 648/750\n",
            "1/1 [==============================] - 4s 4s/step - loss: 0.1189 - mae: 0.2638 - val_loss: 0.0756 - val_mae: 0.2098\n",
            "Epoch 649/750\n",
            "1/1 [==============================] - 4s 4s/step - loss: 0.1219 - mae: 0.2660 - val_loss: 0.0569 - val_mae: 0.1748\n",
            "Epoch 650/750\n",
            "1/1 [==============================] - 4s 4s/step - loss: 0.1107 - mae: 0.2533 - val_loss: 0.0641 - val_mae: 0.1920\n",
            "Epoch 651/750\n",
            "1/1 [==============================] - 4s 4s/step - loss: 0.1152 - mae: 0.2568 - val_loss: 0.0656 - val_mae: 0.1921\n",
            "Epoch 652/750\n",
            "1/1 [==============================] - 4s 4s/step - loss: 0.1194 - mae: 0.2651 - val_loss: 0.0562 - val_mae: 0.1772\n",
            "Epoch 653/750\n",
            "1/1 [==============================] - 4s 4s/step - loss: 0.1124 - mae: 0.2555 - val_loss: 0.0620 - val_mae: 0.1897\n",
            "Epoch 654/750\n",
            "1/1 [==============================] - 4s 4s/step - loss: 0.1106 - mae: 0.2545 - val_loss: 0.0582 - val_mae: 0.1765\n",
            "Epoch 655/750\n",
            "1/1 [==============================] - 4s 4s/step - loss: 0.1128 - mae: 0.2540 - val_loss: 0.0624 - val_mae: 0.1915\n",
            "Epoch 656/750\n",
            "1/1 [==============================] - 4s 4s/step - loss: 0.1118 - mae: 0.2534 - val_loss: 0.0533 - val_mae: 0.1701\n",
            "Epoch 657/750\n",
            "1/1 [==============================] - 4s 4s/step - loss: 0.1120 - mae: 0.2522 - val_loss: 0.0621 - val_mae: 0.1891\n",
            "Epoch 658/750\n",
            "1/1 [==============================] - 4s 4s/step - loss: 0.1119 - mae: 0.2542 - val_loss: 0.0523 - val_mae: 0.1698\n",
            "Epoch 659/750\n",
            "1/1 [==============================] - 4s 4s/step - loss: 0.1093 - mae: 0.2499 - val_loss: 0.0620 - val_mae: 0.1847\n",
            "Epoch 660/750\n",
            "1/1 [==============================] - 4s 4s/step - loss: 0.1127 - mae: 0.2551 - val_loss: 0.0658 - val_mae: 0.1998\n",
            "Epoch 661/750\n",
            "1/1 [==============================] - 4s 4s/step - loss: 0.1191 - mae: 0.2628 - val_loss: 0.0805 - val_mae: 0.2119\n",
            "Epoch 662/750\n",
            "1/1 [==============================] - 4s 4s/step - loss: 0.1358 - mae: 0.2842 - val_loss: 0.0765 - val_mae: 0.2208\n",
            "Epoch 663/750\n",
            "1/1 [==============================] - 4s 4s/step - loss: 0.1270 - mae: 0.2763 - val_loss: 0.0633 - val_mae: 0.1871\n",
            "Epoch 664/750\n",
            "1/1 [==============================] - 4s 4s/step - loss: 0.1201 - mae: 0.2665 - val_loss: 0.0657 - val_mae: 0.1948\n",
            "Epoch 665/750\n",
            "1/1 [==============================] - 4s 4s/step - loss: 0.1151 - mae: 0.2589 - val_loss: 0.0542 - val_mae: 0.1717\n",
            "Epoch 666/750\n",
            "1/1 [==============================] - 4s 4s/step - loss: 0.1097 - mae: 0.2513 - val_loss: 0.0630 - val_mae: 0.1939\n",
            "Epoch 667/750\n",
            "1/1 [==============================] - 4s 4s/step - loss: 0.1135 - mae: 0.2560 - val_loss: 0.0595 - val_mae: 0.1794\n",
            "Epoch 668/750\n",
            "1/1 [==============================] - 4s 4s/step - loss: 0.1162 - mae: 0.2583 - val_loss: 0.0598 - val_mae: 0.1884\n",
            "Epoch 669/750\n",
            "1/1 [==============================] - 4s 4s/step - loss: 0.1115 - mae: 0.2523 - val_loss: 0.0578 - val_mae: 0.1760\n",
            "Epoch 670/750\n",
            "1/1 [==============================] - 4s 4s/step - loss: 0.1141 - mae: 0.2564 - val_loss: 0.0731 - val_mae: 0.2035\n",
            "Epoch 671/750\n",
            "1/1 [==============================] - 4s 4s/step - loss: 0.1190 - mae: 0.2604 - val_loss: 0.0581 - val_mae: 0.1770\n",
            "Epoch 672/750\n",
            "1/1 [==============================] - 4s 4s/step - loss: 0.1147 - mae: 0.2568 - val_loss: 0.0657 - val_mae: 0.1922\n",
            "Epoch 673/750\n",
            "1/1 [==============================] - 4s 4s/step - loss: 0.1143 - mae: 0.2558 - val_loss: 0.0521 - val_mae: 0.1680\n",
            "Epoch 674/750\n",
            "1/1 [==============================] - 4s 4s/step - loss: 0.1079 - mae: 0.2499 - val_loss: 0.0560 - val_mae: 0.1804\n",
            "Epoch 675/750\n",
            "1/1 [==============================] - 4s 4s/step - loss: 0.1054 - mae: 0.2462 - val_loss: 0.0507 - val_mae: 0.1647\n",
            "Epoch 676/750\n",
            "1/1 [==============================] - 4s 4s/step - loss: 0.1056 - mae: 0.2462 - val_loss: 0.0543 - val_mae: 0.1777\n",
            "Epoch 677/750\n",
            "1/1 [==============================] - 4s 4s/step - loss: 0.1050 - mae: 0.2451 - val_loss: 0.0551 - val_mae: 0.1708\n",
            "Epoch 678/750\n",
            "1/1 [==============================] - 4s 4s/step - loss: 0.1114 - mae: 0.2526 - val_loss: 0.0555 - val_mae: 0.1784\n",
            "Epoch 679/750\n",
            "1/1 [==============================] - 4s 4s/step - loss: 0.1087 - mae: 0.2500 - val_loss: 0.0568 - val_mae: 0.1748\n",
            "Epoch 680/750\n",
            "1/1 [==============================] - 4s 4s/step - loss: 0.1117 - mae: 0.2530 - val_loss: 0.0546 - val_mae: 0.1764\n",
            "Epoch 681/750\n",
            "1/1 [==============================] - 4s 4s/step - loss: 0.1072 - mae: 0.2493 - val_loss: 0.0562 - val_mae: 0.1777\n",
            "Epoch 682/750\n",
            "1/1 [==============================] - 4s 4s/step - loss: 0.1135 - mae: 0.2579 - val_loss: 0.0691 - val_mae: 0.2043\n",
            "Epoch 683/750\n",
            "1/1 [==============================] - 4s 4s/step - loss: 0.1205 - mae: 0.2673 - val_loss: 0.1120 - val_mae: 0.2522\n",
            "Epoch 684/750\n",
            "1/1 [==============================] - 4s 4s/step - loss: 0.1569 - mae: 0.3109 - val_loss: 0.0779 - val_mae: 0.2132\n",
            "Epoch 685/750\n",
            "1/1 [==============================] - 4s 4s/step - loss: 0.1343 - mae: 0.2803 - val_loss: 0.0805 - val_mae: 0.2054\n",
            "Epoch 686/750\n",
            "1/1 [==============================] - 4s 4s/step - loss: 0.1313 - mae: 0.2768 - val_loss: 0.0628 - val_mae: 0.1923\n",
            "Epoch 687/750\n",
            "1/1 [==============================] - 4s 4s/step - loss: 0.1209 - mae: 0.2649 - val_loss: 0.0680 - val_mae: 0.1919\n",
            "Epoch 688/750\n",
            "1/1 [==============================] - 4s 4s/step - loss: 0.1225 - mae: 0.2652 - val_loss: 0.0606 - val_mae: 0.1840\n",
            "Epoch 689/750\n",
            "1/1 [==============================] - 4s 4s/step - loss: 0.1133 - mae: 0.2546 - val_loss: 0.0601 - val_mae: 0.1787\n",
            "Epoch 690/750\n",
            "1/1 [==============================] - 4s 4s/step - loss: 0.1144 - mae: 0.2562 - val_loss: 0.0728 - val_mae: 0.1994\n",
            "Epoch 691/750\n",
            "1/1 [==============================] - 4s 4s/step - loss: 0.1194 - mae: 0.2593 - val_loss: 0.0492 - val_mae: 0.1616\n",
            "Epoch 692/750\n",
            "1/1 [==============================] - 4s 4s/step - loss: 0.1076 - mae: 0.2480 - val_loss: 0.0597 - val_mae: 0.1866\n",
            "Epoch 693/750\n",
            "1/1 [==============================] - 4s 4s/step - loss: 0.1076 - mae: 0.2475 - val_loss: 0.0497 - val_mae: 0.1639\n",
            "Epoch 694/750\n",
            "1/1 [==============================] - 4s 4s/step - loss: 0.1076 - mae: 0.2471 - val_loss: 0.0592 - val_mae: 0.1878\n",
            "Epoch 695/750\n",
            "1/1 [==============================] - 4s 4s/step - loss: 0.1078 - mae: 0.2474 - val_loss: 0.0476 - val_mae: 0.1612\n",
            "Epoch 696/750\n",
            "1/1 [==============================] - 4s 4s/step - loss: 0.1056 - mae: 0.2457 - val_loss: 0.0610 - val_mae: 0.1883\n",
            "Epoch 697/750\n",
            "1/1 [==============================] - 4s 4s/step - loss: 0.1075 - mae: 0.2473 - val_loss: 0.0489 - val_mae: 0.1626\n",
            "Epoch 698/750\n",
            "1/1 [==============================] - 4s 4s/step - loss: 0.1063 - mae: 0.2463 - val_loss: 0.0574 - val_mae: 0.1796\n",
            "Epoch 699/750\n",
            "1/1 [==============================] - 4s 4s/step - loss: 0.1067 - mae: 0.2465 - val_loss: 0.0496 - val_mae: 0.1631\n",
            "Epoch 700/750\n",
            "1/1 [==============================] - 4s 4s/step - loss: 0.1041 - mae: 0.2427 - val_loss: 0.0522 - val_mae: 0.1715\n",
            "Epoch 701/750\n",
            "1/1 [==============================] - 4s 4s/step - loss: 0.1064 - mae: 0.2464 - val_loss: 0.0586 - val_mae: 0.1802\n",
            "Epoch 702/750\n",
            "1/1 [==============================] - 4s 4s/step - loss: 0.1077 - mae: 0.2483 - val_loss: 0.0567 - val_mae: 0.1786\n",
            "Epoch 703/750\n",
            "1/1 [==============================] - 4s 4s/step - loss: 0.1136 - mae: 0.2567 - val_loss: 0.0583 - val_mae: 0.1859\n",
            "Epoch 704/750\n",
            "1/1 [==============================] - 4s 4s/step - loss: 0.1103 - mae: 0.2539 - val_loss: 0.0652 - val_mae: 0.1902\n",
            "Epoch 705/750\n",
            "1/1 [==============================] - 4s 4s/step - loss: 0.1204 - mae: 0.2675 - val_loss: 0.0908 - val_mae: 0.2477\n",
            "Epoch 706/750\n",
            "1/1 [==============================] - 4s 4s/step - loss: 0.1425 - mae: 0.2971 - val_loss: 0.1034 - val_mae: 0.2385\n",
            "Epoch 707/750\n",
            "1/1 [==============================] - 4s 4s/step - loss: 0.1539 - mae: 0.3054 - val_loss: 0.0732 - val_mae: 0.1990\n",
            "Epoch 708/750\n",
            "1/1 [==============================] - 4s 4s/step - loss: 0.1269 - mae: 0.2688 - val_loss: 0.0587 - val_mae: 0.1777\n",
            "Epoch 709/750\n",
            "1/1 [==============================] - 4s 4s/step - loss: 0.1123 - mae: 0.2537 - val_loss: 0.0539 - val_mae: 0.1726\n",
            "Epoch 710/750\n",
            "1/1 [==============================] - 4s 4s/step - loss: 0.1053 - mae: 0.2456 - val_loss: 0.0548 - val_mae: 0.1759\n",
            "Epoch 711/750\n",
            "1/1 [==============================] - 4s 4s/step - loss: 0.1076 - mae: 0.2492 - val_loss: 0.0567 - val_mae: 0.1780\n",
            "Epoch 712/750\n",
            "1/1 [==============================] - 4s 4s/step - loss: 0.1102 - mae: 0.2522 - val_loss: 0.0577 - val_mae: 0.1795\n",
            "Epoch 713/750\n",
            "1/1 [==============================] - 4s 4s/step - loss: 0.1110 - mae: 0.2542 - val_loss: 0.0594 - val_mae: 0.1807\n",
            "Epoch 714/750\n",
            "1/1 [==============================] - 4s 4s/step - loss: 0.1111 - mae: 0.2515 - val_loss: 0.0524 - val_mae: 0.1690\n",
            "Epoch 715/750\n",
            "1/1 [==============================] - 4s 4s/step - loss: 0.1072 - mae: 0.2482 - val_loss: 0.0548 - val_mae: 0.1737\n",
            "Epoch 716/750\n",
            "1/1 [==============================] - 4s 4s/step - loss: 0.1069 - mae: 0.2451 - val_loss: 0.0505 - val_mae: 0.1642\n",
            "Epoch 717/750\n",
            "1/1 [==============================] - 4s 4s/step - loss: 0.1025 - mae: 0.2415 - val_loss: 0.0538 - val_mae: 0.1719\n",
            "Epoch 718/750\n",
            "1/1 [==============================] - 4s 4s/step - loss: 0.1049 - mae: 0.2434 - val_loss: 0.0539 - val_mae: 0.1709\n",
            "Epoch 719/750\n",
            "1/1 [==============================] - 4s 4s/step - loss: 0.1051 - mae: 0.2449 - val_loss: 0.0586 - val_mae: 0.1795\n",
            "Epoch 720/750\n",
            "1/1 [==============================] - 4s 4s/step - loss: 0.1121 - mae: 0.2524 - val_loss: 0.0699 - val_mae: 0.1955\n",
            "Epoch 721/750\n",
            "1/1 [==============================] - 4s 4s/step - loss: 0.1191 - mae: 0.2642 - val_loss: 0.0693 - val_mae: 0.2069\n",
            "Epoch 722/750\n",
            "1/1 [==============================] - 4s 4s/step - loss: 0.1261 - mae: 0.2740 - val_loss: 0.0890 - val_mae: 0.2210\n",
            "Epoch 723/750\n",
            "1/1 [==============================] - 4s 4s/step - loss: 0.1420 - mae: 0.2906 - val_loss: 0.0595 - val_mae: 0.1915\n",
            "Epoch 724/750\n",
            "1/1 [==============================] - 4s 4s/step - loss: 0.1154 - mae: 0.2610 - val_loss: 0.0547 - val_mae: 0.1747\n",
            "Epoch 725/750\n",
            "1/1 [==============================] - 4s 4s/step - loss: 0.1112 - mae: 0.2533 - val_loss: 0.0659 - val_mae: 0.1998\n",
            "Epoch 726/750\n",
            "1/1 [==============================] - 4s 4s/step - loss: 0.1123 - mae: 0.2561 - val_loss: 0.0498 - val_mae: 0.1630\n",
            "Epoch 727/750\n",
            "1/1 [==============================] - 4s 4s/step - loss: 0.1059 - mae: 0.2462 - val_loss: 0.0658 - val_mae: 0.1966\n",
            "Epoch 728/750\n",
            "1/1 [==============================] - 4s 4s/step - loss: 0.1116 - mae: 0.2525 - val_loss: 0.0520 - val_mae: 0.1664\n",
            "Epoch 729/750\n",
            "1/1 [==============================] - 4s 4s/step - loss: 0.1081 - mae: 0.2491 - val_loss: 0.0698 - val_mae: 0.2053\n",
            "Epoch 730/750\n",
            "1/1 [==============================] - 4s 4s/step - loss: 0.1147 - mae: 0.2558 - val_loss: 0.0575 - val_mae: 0.1758\n",
            "Epoch 731/750\n",
            "1/1 [==============================] - 4s 4s/step - loss: 0.1152 - mae: 0.2584 - val_loss: 0.0628 - val_mae: 0.1876\n",
            "Epoch 732/750\n",
            "1/1 [==============================] - 4s 4s/step - loss: 0.1110 - mae: 0.2513 - val_loss: 0.0546 - val_mae: 0.1716\n",
            "Epoch 733/750\n",
            "1/1 [==============================] - 4s 4s/step - loss: 0.1079 - mae: 0.2487 - val_loss: 0.0612 - val_mae: 0.1802\n",
            "Epoch 734/750\n",
            "1/1 [==============================] - 4s 4s/step - loss: 0.1142 - mae: 0.2542 - val_loss: 0.0606 - val_mae: 0.1869\n",
            "Epoch 735/750\n",
            "1/1 [==============================] - 4s 4s/step - loss: 0.1113 - mae: 0.2543 - val_loss: 0.0536 - val_mae: 0.1716\n",
            "Epoch 736/750\n",
            "1/1 [==============================] - 4s 4s/step - loss: 0.1135 - mae: 0.2554 - val_loss: 0.0675 - val_mae: 0.1962\n",
            "Epoch 737/750\n",
            "1/1 [==============================] - 4s 4s/step - loss: 0.1128 - mae: 0.2547 - val_loss: 0.0540 - val_mae: 0.1718\n",
            "Epoch 738/750\n",
            "1/1 [==============================] - 4s 4s/step - loss: 0.1094 - mae: 0.2496 - val_loss: 0.0673 - val_mae: 0.1899\n",
            "Epoch 739/750\n",
            "1/1 [==============================] - 4s 4s/step - loss: 0.1167 - mae: 0.2596 - val_loss: 0.0580 - val_mae: 0.1821\n",
            "Epoch 740/750\n",
            "1/1 [==============================] - 4s 4s/step - loss: 0.1109 - mae: 0.2536 - val_loss: 0.0613 - val_mae: 0.1798\n",
            "Epoch 741/750\n",
            "1/1 [==============================] - 4s 4s/step - loss: 0.1129 - mae: 0.2573 - val_loss: 0.0587 - val_mae: 0.1885\n",
            "Epoch 742/750\n",
            "1/1 [==============================] - 4s 4s/step - loss: 0.1110 - mae: 0.2548 - val_loss: 0.0579 - val_mae: 0.1785\n",
            "Epoch 743/750\n",
            "1/1 [==============================] - 4s 4s/step - loss: 0.1148 - mae: 0.2588 - val_loss: 0.0636 - val_mae: 0.2004\n",
            "Epoch 744/750\n",
            "1/1 [==============================] - 4s 4s/step - loss: 0.1143 - mae: 0.2602 - val_loss: 0.0572 - val_mae: 0.1762\n",
            "Epoch 745/750\n",
            "1/1 [==============================] - 4s 4s/step - loss: 0.1100 - mae: 0.2510 - val_loss: 0.0575 - val_mae: 0.1884\n",
            "Epoch 746/750\n",
            "1/1 [==============================] - 4s 4s/step - loss: 0.1110 - mae: 0.2532 - val_loss: 0.0605 - val_mae: 0.1797\n",
            "Epoch 747/750\n",
            "1/1 [==============================] - 4s 4s/step - loss: 0.1119 - mae: 0.2547 - val_loss: 0.0788 - val_mae: 0.2108\n",
            "Epoch 748/750\n",
            "1/1 [==============================] - 4s 4s/step - loss: 0.1249 - mae: 0.2671 - val_loss: 0.0561 - val_mae: 0.1737\n",
            "Epoch 749/750\n",
            "1/1 [==============================] - 4s 4s/step - loss: 0.1103 - mae: 0.2519 - val_loss: 0.0596 - val_mae: 0.1821\n",
            "Epoch 750/750\n",
            "1/1 [==============================] - 4s 4s/step - loss: 0.1111 - mae: 0.2512 - val_loss: 0.0508 - val_mae: 0.1643\n",
            "WARNING:tensorflow:Layer gru will not use cuDNN kernels since it doesn't meet the criteria. It will use a generic GPU kernel as fallback when running on GPU.\n",
            "WARNING:tensorflow:Layer gru_1 will not use cuDNN kernels since it doesn't meet the criteria. It will use a generic GPU kernel as fallback when running on GPU.\n",
            "WARNING:tensorflow:Layer lstm will not use cuDNN kernels since it doesn't meet the criteria. It will use a generic GPU kernel as fallback when running on GPU.\n",
            "WARNING:tensorflow:Layer lstm_1 will not use cuDNN kernels since it doesn't meet the criteria. It will use a generic GPU kernel as fallback when running on GPU.\n",
            "1/1 [==============================] - 2s 2s/step - loss: 0.0529 - mae: 0.1718\n",
            "Test MAE: 0.17\n",
            "Model: \"model\"\n",
            "_________________________________________________________________\n",
            " Layer (type)                Output Shape              Param #   \n",
            "=================================================================\n",
            " input_1 (InputLayer)        [(None, 24, 1)]           0         \n",
            "                                                                 \n",
            " gru (GRU)                   (None, 24, 50)            7950      \n",
            "                                                                 \n",
            " gru_1 (GRU)                 (None, 24, 100)           45600     \n",
            "                                                                 \n",
            " lstm (LSTM)                 (None, 24, 32)            17024     \n",
            "                                                                 \n",
            " lstm_1 (LSTM)               (None, 16)                3136      \n",
            "                                                                 \n",
            " dropout (Dropout)           (None, 16)                0         \n",
            "                                                                 \n",
            " dense (Dense)               (None, 1)                 17        \n",
            "                                                                 \n",
            "=================================================================\n",
            "Total params: 73,727\n",
            "Trainable params: 73,727\n",
            "Non-trainable params: 0\n",
            "_________________________________________________________________\n"
          ]
        }
      ]
    },
    {
      "cell_type": "markdown",
      "source": [
        "# Plotting Results"
      ],
      "metadata": {
        "id": "ipsDALgkAe1d"
      }
    },
    {
      "cell_type": "code",
      "source": [
        "acc = history.history[\"mae\"]\n",
        "val_acc = history.history[\"val_mae\"]\n",
        "loss = history.history[\"loss\"]\n",
        "val_loss = history.history[\"val_loss\"]\n",
        "epochs = range(1, len(acc) + 1)\n",
        "plt.plot(epochs, acc, \"bo\", label=\"Training MAE\")\n",
        "plt.plot(epochs, val_acc, \"g\", label=\"Validation MAE\")\n",
        "plt.title(\"Training and validation MAE\")\n",
        "plt.legend()\n",
        "plt.figure()\n",
        "plt.plot(epochs, loss, \"bo\", label=\"Training loss\")\n",
        "plt.plot(epochs, val_loss, \"g\", label=\"Validation loss\")\n",
        "plt.title(\"Training and validation loss\")\n",
        "plt.legend()\n",
        "plt.show()\n",
        "print(\"Final Training loss: \",history.history['loss'][-1],\"\\nFinal Training MAE: \", history.history['mae'][-1])\n",
        "print(\"Final Validation loss: \",history.history['val_loss'][-1],\"\\nFinal Validation MAE: \", history.history['val_mae'][-1])"
      ],
      "metadata": {
        "colab": {
          "base_uri": "https://localhost:8080/",
          "height": 614
        },
        "id": "09DuTLApAhsL",
        "outputId": "3452e44e-14d0-4318-9aa2-a2df79e23a01"
      },
      "execution_count": null,
      "outputs": [
        {
          "output_type": "display_data",
          "data": {
            "text/plain": [
              "<Figure size 432x288 with 1 Axes>"
            ],
            "image/png": "[encoded data removed]"
          },
          "metadata": {
            "needs_background": "light"
          }
        },
        {
          "output_type": "display_data",
          "data": {
            "text/plain": [
              "<Figure size 432x288 with 1 Axes>"
            ],
            "image/png": "[encoded data removed]"
          },
          "metadata": {
            "needs_background": "light"
          }
        },
        {
          "output_type": "stream",
          "name": "stdout",
          "text": [
            "Final Training loss:  0.11105220764875412 \n",
            "Final Training MAE:  0.2512136399745941\n",
            "Final Validation loss:  0.05078193545341492 \n",
            "Final Validation MAE:  0.16434980928897858\n"
          ]
        }
      ]
    },
    {
      "cell_type": "markdown",
      "source": [
        "# Comparing Predictions vs Targets"
      ],
      "metadata": {
        "id": "Gj-DILnqCJaw"
      }
    },
    {
      "cell_type": "code",
      "source": [
        "model = keras.models.load_model(\"predictor.keras\") # bringing the “best model”\n",
        "predictions = model.predict(test_dataset)\n",
        "lenpred = len(predictions)\n",
        "plt.plot(range(lenpred), predictions, 'r')\n",
        "model.evaluate(test_dataset)"
      ],
      "metadata": {
        "colab": {
          "base_uri": "https://localhost:8080/",
          "height": 391
        },
        "id": "Rg8qNjjtCTHW",
        "outputId": "666cb814-8bfc-4946-d8ac-e6c3416e017c"
      },
      "execution_count": null,
      "outputs": [
        {
          "output_type": "stream",
          "name": "stdout",
          "text": [
            "WARNING:tensorflow:Layer gru will not use cuDNN kernels since it doesn't meet the criteria. It will use a generic GPU kernel as fallback when running on GPU.\n",
            "WARNING:tensorflow:Layer gru_1 will not use cuDNN kernels since it doesn't meet the criteria. It will use a generic GPU kernel as fallback when running on GPU.\n",
            "WARNING:tensorflow:Layer lstm will not use cuDNN kernels since it doesn't meet the criteria. It will use a generic GPU kernel as fallback when running on GPU.\n",
            "WARNING:tensorflow:Layer lstm_1 will not use cuDNN kernels since it doesn't meet the criteria. It will use a generic GPU kernel as fallback when running on GPU.\n",
            "1/1 [==============================] - 2s 2s/step - loss: 0.0529 - mae: 0.1718\n"
          ]
        },
        {
          "output_type": "execute_result",
          "data": {
            "text/plain": [
              "[0.05294589698314667, 0.17182381451129913]"
            ]
          },
          "metadata": {},
          "execution_count": 19
        },
        {
          "output_type": "display_data",
          "data": {
            "text/plain": [
              "<Figure size 432x288 with 1 Axes>"
            ],
            "image/png": "[encoded data removed]"
          },
          "metadata": {
            "needs_background": "light"
          }
        }
      ]
    },
    {
      "cell_type": "code",
      "source": [
        "# Retrieving and \"cropping\" the original targets\n",
        "org_targets = Copy_raw_data[num_train_samples + num_val_samples:] # targets for testing\n",
        "# We notice there are more \"original targets\" that predictions\n",
        "# We must \"crop\" the original targets on the left and on the right\n",
        "# Applying these left_ & right_ crops yields the midtargets, which\n",
        "# will be the same size as the predictions. It will possible to\n",
        "# overlay the 2 complete series or any corresponding parts of them\n",
        "left_crop = (sequence_length + horizon) * sampling_rate\n",
        "right_crop = ( (sequence_length - 1) * sampling_rate) - 1\n",
        "midtargets = org_targets[left_crop:-right_crop]\n",
        "print(\"midtargets shape:\", midtargets.shape)\n",
        "plt.plot(range(len(midtargets)), midtargets)\n",
        "# THIS IS IS THE PLOT OF SCALED-DOWN (NORMALIZED) TARGETS FOR THE TEST SET"
      ],
      "metadata": {
        "colab": {
          "base_uri": "https://localhost:8080/",
          "height": 300
        },
        "id": "Bkl3YAsOCatj",
        "outputId": "a87a2ee7-218c-4794-b602-66de08329894"
      },
      "execution_count": null,
      "outputs": [
        {
          "output_type": "stream",
          "name": "stdout",
          "text": [
            "midtargets shape: (19670, 1)\n"
          ]
        },
        {
          "output_type": "execute_result",
          "data": {
            "text/plain": [
              "[<matplotlib.lines.Line2D at 0x7fc500171d10>]"
            ]
          },
          "metadata": {},
          "execution_count": 20
        },
        {
          "output_type": "display_data",
          "data": {
            "text/plain": [
              "<Figure size 432x288 with 1 Axes>"
            ],
            "image/png": "[encoded data removed]"
          },
          "metadata": {
            "needs_background": "light"
          }
        }
      ]
    },
    {
      "cell_type": "code",
      "source": [
        "# Now overlay plot of predictions and targets in the same interval\n",
        "plt.plot(predictions[6000:6500], \"r\", label=\"PREDICTIONS\")\n",
        "plt.plot(midtargets[6000:6500], \"b\", label=\"TARGETS\")\n",
        "plt.title(\"PREDICTIONS (in red) and TARGETS (in blue)\")\n",
        "plt.legend()\n",
        "plt.show()"
      ],
      "metadata": {
        "colab": {
          "base_uri": "https://localhost:8080/",
          "height": 281
        },
        "id": "QW5yi78TFwXO",
        "outputId": "05226e61-41b6-4dfd-e305-ef34f26c6498"
      },
      "execution_count": null,
      "outputs": [
        {
          "output_type": "display_data",
          "data": {
            "text/plain": [
              "<Figure size 432x288 with 1 Axes>"
            ],
            "image/png": "[encoded data removed]"
          },
          "metadata": {
            "needs_background": "light"
          }
        }
      ]
    },
    {
      "cell_type": "markdown",
      "source": [
        "# Denormalizing Data"
      ],
      "metadata": {
        "id": "YGmWf_M5R8iv"
      }
    },
    {
      "cell_type": "code",
      "source": [
        "# De normalizing the data\n",
        "EFFpredictions1 = np.asarray(predictions * std)\n",
        "EFFpredictions2 = EFFpredictions1.flatten()\n",
        "\n",
        "MEANV = (np.ones(lenpred,)) * mean\n",
        "\n",
        "EFFpredictions = EFFpredictions2 + MEANV\n",
        "print(EFFpredictions.shape)\n",
        "\n",
        "EFFmidtargets1 = np.asarray(midtargets * std)\n",
        "EFFmidtargets2 = EFFmidtargets1.flatten()\n",
        "\n",
        "MEANV = (np.ones(lenpred,)) * mean\n",
        "\n",
        "EFFmidtargets = EFFmidtargets2 + MEANV\n",
        "print(EFFpredictions.shape)\n",
        "\n",
        "plt.plot(range(lenpred), EFFpredictions, 'r')\n",
        "plt.show"
      ],
      "metadata": {
        "colab": {
          "base_uri": "https://localhost:8080/",
          "height": 317
        },
        "id": "eTd75L0IR_IG",
        "outputId": "ad4845a5-6ec4-4f45-fed2-effae6810ffd"
      },
      "execution_count": null,
      "outputs": [
        {
          "output_type": "stream",
          "name": "stdout",
          "text": [
            "(19670,)\n",
            "(19670,)\n"
          ]
        },
        {
          "output_type": "execute_result",
          "data": {
            "text/plain": [
              "<function matplotlib.pyplot.show>"
            ]
          },
          "metadata": {},
          "execution_count": 22
        },
        {
          "output_type": "display_data",
          "data": {
            "text/plain": [
              "<Figure size 432x288 with 1 Axes>"
            ],
            "image/png": "[encoded data removed]"
          },
          "metadata": {
            "needs_background": "light"
          }
        }
      ]
    },
    {
      "cell_type": "code",
      "source": [
        "plt.plot(range(lenpred), EFFmidtargets, 'b')\n",
        "plt.show"
      ],
      "metadata": {
        "colab": {
          "base_uri": "https://localhost:8080/",
          "height": 282
        },
        "id": "oj53GVZ3hAC6",
        "outputId": "ef558883-fafd-490d-8fec-ae22495c032f"
      },
      "execution_count": null,
      "outputs": [
        {
          "output_type": "execute_result",
          "data": {
            "text/plain": [
              "<function matplotlib.pyplot.show>"
            ]
          },
          "metadata": {},
          "execution_count": 23
        },
        {
          "output_type": "display_data",
          "data": {
            "text/plain": [
              "<Figure size 432x288 with 1 Axes>"
            ],
            "image/png": "[encoded data removed]"
          },
          "metadata": {
            "needs_background": "light"
          }
        }
      ]
    },
    {
      "cell_type": "code",
      "source": [
        "plt.plot(EFFpredictions[6000:6500], \"r\", label=\"PREDICTIONS\")\n",
        "plt.plot(EFFmidtargets[6000:6500], \"b\", label=\"TARGETS\")\n",
        "plt.title(\"PREDICTIONS (in red) and TARGETS (in blue)\")\n",
        "plt.legend()\n",
        "plt.show()"
      ],
      "metadata": {
        "colab": {
          "base_uri": "https://localhost:8080/",
          "height": 281
        },
        "id": "mHF0hoK4RLUK",
        "outputId": "92e41af9-2477-4574-cc7e-60452b6871a3"
      },
      "execution_count": null,
      "outputs": [
        {
          "output_type": "display_data",
          "data": {
            "text/plain": [
              "<Figure size 432x288 with 1 Axes>"
            ],
            "image/png": "[encoded data removed]"
          },
          "metadata": {
            "needs_background": "light"
          }
        }
      ]
    },
    {
      "cell_type": "code",
      "source": [
        "EFFECTIVE_MAE = np.mean(np.abs(EFFpredictions - EFFmidtargets))\n",
        "print(f'EFFECTIVE real-scale MAE: {EFFECTIVE_MAE:.2f}')\n",
        "PMAE = (EFFECTIVE_MAE /  (EFFmidtargets.max() - EFFmidtargets.min())) * 100\n",
        "print(PMAE)"
      ],
      "metadata": {
        "colab": {
          "base_uri": "https://localhost:8080/"
        },
        "id": "GTWmFqM6SJwW",
        "outputId": "c4f7d9b4-fba4-4e16-95e3-3e71cd4989a6"
      },
      "execution_count": null,
      "outputs": [
        {
          "output_type": "stream",
          "name": "stdout",
          "text": [
            "EFFECTIVE real-scale MAE: 169.55\n",
            "5.224982928952527\n"
          ]
        }
      ]
    }
  ]
}