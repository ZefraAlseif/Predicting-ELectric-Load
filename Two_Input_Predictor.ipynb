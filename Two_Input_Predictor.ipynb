{
  "nbformat": 4,
  "nbformat_minor": 0,
  "metadata": {
    "colab": {
      "name": "Two-Input-Predictor.ipynb",
      "provenance": [],
      "collapsed_sections": [
        "DXWO5jNRLTvd",
        "Uo_KCwN4L6aY",
        "8oQk2E1cMF09",
        "4q94yGWsM_mU",
        "_KGUQH-oN9FJ",
        "T-2Ig3KtREUI",
        "5oPDaFjzRzbn",
        "wt2EycvuR9vp",
        "pGwOL0-QTCAH",
        "hXnvq_qVTWOW",
        "89ECJBJUTeCm",
        "chKhyWpYTq7m",
        "LOYn6AI8UEDh"
      ],
      "history_visible": true,
      "machine_shape": "hm",
      "authorship_tag": "ABX9TyPIhwY0zKaCz9IhvzIwYWdH",
      "include_colab_link": true
    },
    "kernelspec": {
      "name": "python3",
      "display_name": "Python 3"
    },
    "language_info": {
      "name": "python"
    },
    "accelerator": "GPU"
  },
  "cells": [
    {
      "cell_type": "markdown",
      "metadata": {
        "id": "view-in-github",
        "colab_type": "text"
      },
      "source": [
        "<a href=\"https://colab.research.google.com/github/ZefraAlseif/Predicting-ELectric-Load/blob/main/Two_Input_Predictor.ipynb\" target=\"_parent\"><img src=\"https://colab.research.google.com/assets/colab-badge.svg\" alt=\"Open In Colab\"/></a>"
      ]
    },
    {
      "cell_type": "markdown",
      "source": [
        "# Importing Libraries"
      ],
      "metadata": {
        "id": "DXWO5jNRLTvd"
      }
    },
    {
      "cell_type": "code",
      "execution_count": null,
      "metadata": {
        "id": "J3pETF8oLMrf"
      },
      "outputs": [],
      "source": [
        "import numpy as np\n",
        "import pandas as pd\n",
        "import os\n",
        "import shutil\n",
        "import matplotlib.pyplot as plt\n",
        "#from common.utils import load_data, extract_data, download_file %matplotlib inline\n",
        "import pandas as pd\n",
        "import os\n",
        "import numpy as np\n",
        "from matplotlib import pyplot as plt\n",
        "from tensorflow import keras\n",
        "from tensorflow import keras\n",
        "from tensorflow.keras import layers\n",
        "import copy"
      ]
    },
    {
      "cell_type": "markdown",
      "source": [
        "# Import zip folder"
      ],
      "metadata": {
        "id": "Uo_KCwN4L6aY"
      }
    },
    {
      "cell_type": "code",
      "source": [
        "!wget https://mlftsfwp.blob.core.windows.net/mlftsfwp/GEFCom2014.zip"
      ],
      "metadata": {
        "colab": {
          "base_uri": "https://localhost:8080/"
        },
        "id": "yXOn1OxsL-Ee",
        "outputId": "2530a66e-2d74-4a9e-e0c4-fece2cc1f435"
      },
      "execution_count": null,
      "outputs": [
        {
          "output_type": "stream",
          "name": "stdout",
          "text": [
            "--2022-04-29 14:03:35--  https://mlftsfwp.blob.core.windows.net/mlftsfwp/GEFCom2014.zip\n",
            "Resolving mlftsfwp.blob.core.windows.net (mlftsfwp.blob.core.windows.net)... 52.239.155.196\n",
            "Connecting to mlftsfwp.blob.core.windows.net (mlftsfwp.blob.core.windows.net)|52.239.155.196|:443... connected.\n",
            "HTTP request sent, awaiting response... 200 OK\n",
            "Length: 126360077 (121M) [application/x-zip-compressed]\n",
            "Saving to: ‘GEFCom2014.zip’\n",
            "\n",
            "GEFCom2014.zip      100%[===================>] 120.51M  6.74MB/s    in 21s     \n",
            "\n",
            "2022-04-29 14:03:57 (5.74 MB/s) - ‘GEFCom2014.zip’ saved [126360077/126360077]\n",
            "\n"
          ]
        }
      ]
    },
    {
      "cell_type": "markdown",
      "source": [
        "# Unzip Folder"
      ],
      "metadata": {
        "id": "8oQk2E1cMF09"
      }
    },
    {
      "cell_type": "code",
      "source": [
        "!unzip GEFCom2014.zip"
      ],
      "metadata": {
        "colab": {
          "base_uri": "https://localhost:8080/"
        },
        "id": "h-KojbIsMQFt",
        "outputId": "6bf43e6c-10c0-4946-c3d6-19ef55e0f154"
      },
      "execution_count": null,
      "outputs": [
        {
          "output_type": "stream",
          "name": "stdout",
          "text": [
            "Archive:  GEFCom2014.zip\n",
            "   creating: GEFCom2014 Data/\n",
            " extracting: GEFCom2014 Data/GEFCom2014-S_V2.zip  \n",
            " extracting: GEFCom2014 Data/GEFCom2014-W_V2.zip  \n",
            "  inflating: GEFCom2014 Data/READ ME_V2.txt  \n",
            "  inflating: GEFCom2014 Data/Provisional_Leaderboard_V2.xlsx  \n",
            " extracting: GEFCom2014 Data/GEFCom2014-L_V2.zip  \n",
            " extracting: GEFCom2014 Data/GEFCom2014-E_V2.zip  \n",
            " extracting: GEFCom2014 Data/GEFCom2014-P_V2.zip  \n"
          ]
        }
      ]
    },
    {
      "cell_type": "markdown",
      "source": [
        "# Unzip 2nd Folder"
      ],
      "metadata": {
        "id": "4q94yGWsM_mU"
      }
    },
    {
      "cell_type": "code",
      "source": [
        "!mv 'GEFCom2014 Data'/GEFCom2014-E_V2.zip ./\n",
        "!unzip GEFCom2014-E_V2.zip"
      ],
      "metadata": {
        "colab": {
          "base_uri": "https://localhost:8080/"
        },
        "id": "p0NufJ0eNCKY",
        "outputId": "e3f90d09-251d-43f5-c96a-71062133905d"
      },
      "execution_count": null,
      "outputs": [
        {
          "output_type": "stream",
          "name": "stdout",
          "text": [
            "Archive:  GEFCom2014-E_V2.zip\n",
            "  inflating: GEFCom2014-E.xlsx       \n"
          ]
        }
      ]
    },
    {
      "cell_type": "markdown",
      "source": [
        "# Converting to Pandas Dataframe"
      ],
      "metadata": {
        "id": "_KGUQH-oN9FJ"
      }
    },
    {
      "cell_type": "code",
      "source": [
        "GEFDF = pd.read_excel('GEFCom2014-E.xlsx', skiprows=range(1, 17545), dtype = {'A':np.int32,})"
      ],
      "metadata": {
        "id": "8tM4QBNSOHm9"
      },
      "execution_count": null,
      "outputs": []
    },
    {
      "cell_type": "markdown",
      "source": [
        "# Writing out GEFDF to text file"
      ],
      "metadata": {
        "id": "T-2Ig3KtREUI"
      }
    },
    {
      "cell_type": "code",
      "source": [
        "GEFDF.to_csv('GEF14.csv', encoding='utf-8', index=False, header=True, columns=['Hour','load','T'])\n",
        "with open('GEF14.csv') as f:\n",
        "  lines = f.readlines()\n",
        "  last = len(lines) - 1\n",
        "  lines[last] = lines[last].replace('\\r','').replace('\\n','')\n",
        "with open('GEF14.csv', 'w') as wr:\n",
        "  wr.writelines(lines)"
      ],
      "metadata": {
        "id": "EEQ9iErfRJJa"
      },
      "execution_count": null,
      "outputs": []
    },
    {
      "cell_type": "markdown",
      "source": [
        "# Inspect the Data"
      ],
      "metadata": {
        "id": "5oPDaFjzRzbn"
      }
    },
    {
      "cell_type": "code",
      "source": [
        "fname = os.path.join(\"GEF14.csv\")\n",
        "with open(fname) as f:\n",
        "  data = f.read()\n",
        "lines = data.split(\"\\n\")\n",
        "header = lines[0].split(\",\")\n",
        "lines = lines[1:]\n",
        "print(header)\n",
        "print(len(lines))"
      ],
      "metadata": {
        "colab": {
          "base_uri": "https://localhost:8080/"
        },
        "id": "q_BpcrbJR2MH",
        "outputId": "30637903-42bd-45cd-d708-74fd8cc9e964"
      },
      "execution_count": null,
      "outputs": [
        {
          "output_type": "stream",
          "name": "stdout",
          "text": [
            "['Hour', 'load', 'T']\n",
            "78888\n"
          ]
        }
      ]
    },
    {
      "cell_type": "markdown",
      "source": [
        "# Parsing the Data"
      ],
      "metadata": {
        "id": "wt2EycvuR9vp"
      }
    },
    {
      "cell_type": "code",
      "source": [
        "eload = np.zeros((len(lines),))\n",
        "tempf = np.zeros((len(lines),))\n",
        "raw_data = np.zeros((len(lines), len(header)-1)) #chgd )-1 to )-2 to also\n",
        "# remove the HOUR column, in addition to the DATE column\n",
        "print(len(lines))\n",
        "for m in range(78888):\n",
        "  thisline = lines[m]\n",
        "  values = [float(x) for x in thisline.split(\",\")[1:]]\n",
        "  eload[m] = values[0] #Captures JUST E LOAD\n",
        "  tempf[m] = values[1] #Captures JUST TEMPF\n",
        "  #raw_data[m] = values[0] #Like this, raw_data Captures JUST E LOAD\n",
        "  raw_data[m, :] = values[:] # Like this, raw_data CAPTURES BOTH"
      ],
      "metadata": {
        "colab": {
          "base_uri": "https://localhost:8080/"
        },
        "id": "VYhw7QaBR_x8",
        "outputId": "2d43b415-813c-48b1-cf66-f7e363ef8cd1"
      },
      "execution_count": null,
      "outputs": [
        {
          "output_type": "stream",
          "name": "stdout",
          "text": [
            "78888\n"
          ]
        }
      ]
    },
    {
      "cell_type": "markdown",
      "source": [
        "# Plotting the Eload Timeseries"
      ],
      "metadata": {
        "id": "pGwOL0-QTCAH"
      }
    },
    {
      "cell_type": "code",
      "source": [
        "plt.plot(range(len(eload)), eload)"
      ],
      "metadata": {
        "colab": {
          "base_uri": "https://localhost:8080/"
        },
        "id": "K9th4pxgTFps",
        "outputId": "6a6d8865-d507-47cf-ffef-9b59e642fd95"
      },
      "execution_count": null,
      "outputs": [
        {
          "output_type": "execute_result",
          "data": {
            "text/plain": [
              "[<matplotlib.lines.Line2D at 0x7fe1353aca90>]"
            ]
          },
          "metadata": {},
          "execution_count": 9
        },
        {
          "output_type": "display_data",
          "data": {
            "text/plain": [
              "<Figure size 432x288 with 1 Axes>"
            ],
            "image/png": "[encoded data removed]"
          },
          "metadata": {
            "needs_background": "light"
          }
        }
      ]
    },
    {
      "cell_type": "code",
      "source": [
        "plt.plot(range(len(tempf)), tempf)"
      ],
      "metadata": {
        "colab": {
          "base_uri": "https://localhost:8080/"
        },
        "id": "NT5BtbNzTP-Q",
        "outputId": "b5a6a775-337c-42c3-cd05-f1f0e0d18b7e"
      },
      "execution_count": null,
      "outputs": [
        {
          "output_type": "execute_result",
          "data": {
            "text/plain": [
              "[<matplotlib.lines.Line2D at 0x7fe134e505d0>]"
            ]
          },
          "metadata": {},
          "execution_count": 10
        },
        {
          "output_type": "display_data",
          "data": {
            "text/plain": [
              "<Figure size 432x288 with 1 Axes>"
            ],
            "image/png": "[encoded data removed]"
          },
          "metadata": {
            "needs_background": "light"
          }
        }
      ]
    },
    {
      "cell_type": "markdown",
      "source": [
        "# Number of Samples for each split"
      ],
      "metadata": {
        "id": "hXnvq_qVTWOW"
      }
    },
    {
      "cell_type": "code",
      "source": [
        "num_train_samples = int(0.5 * len(raw_data))\n",
        "num_val_samples = int(0.25 * len(raw_data))\n",
        "num_test_samples = len(raw_data) - num_train_samples - num_val_samples\n",
        "print(\"num_train_samples:\", num_train_samples)\n",
        "print(\"num_val_samples:\", num_val_samples)\n",
        "print(\"num_test_samples:\", num_test_samples)"
      ],
      "metadata": {
        "colab": {
          "base_uri": "https://localhost:8080/"
        },
        "id": "-uEPEsnnTZfQ",
        "outputId": "c4b7a998-5756-40cb-e601-541dc5d2102a"
      },
      "execution_count": null,
      "outputs": [
        {
          "output_type": "stream",
          "name": "stdout",
          "text": [
            "num_train_samples: 39444\n",
            "num_val_samples: 19722\n",
            "num_test_samples: 19722\n"
          ]
        }
      ]
    },
    {
      "cell_type": "markdown",
      "source": [
        "# Preparing the Data"
      ],
      "metadata": {
        "id": "89ECJBJUTeCm"
      }
    },
    {
      "cell_type": "code",
      "source": [
        "plt.plot(range(240),eload[:240])"
      ],
      "metadata": {
        "colab": {
          "base_uri": "https://localhost:8080/"
        },
        "id": "7_ACW-dnTgRC",
        "outputId": "3ef836f5-a545-4f99-cbd5-e31a1140fb99"
      },
      "execution_count": null,
      "outputs": [
        {
          "output_type": "execute_result",
          "data": {
            "text/plain": [
              "[<matplotlib.lines.Line2D at 0x7fe134da0250>]"
            ]
          },
          "metadata": {},
          "execution_count": 12
        },
        {
          "output_type": "display_data",
          "data": {
            "text/plain": [
              "<Figure size 432x288 with 1 Axes>"
            ],
            "image/png": "[encoded data removed]"
          },
          "metadata": {
            "needs_background": "light"
          }
        }
      ]
    },
    {
      "cell_type": "code",
      "source": [
        "plt.plot(range(240),tempf[:240])"
      ],
      "metadata": {
        "colab": {
          "base_uri": "https://localhost:8080/"
        },
        "id": "-eWrZlsGTjJQ",
        "outputId": "7bd1871c-23b2-4179-fca9-3b33390a9e63"
      },
      "execution_count": null,
      "outputs": [
        {
          "output_type": "execute_result",
          "data": {
            "text/plain": [
              "[<matplotlib.lines.Line2D at 0x7fe133815a50>]"
            ]
          },
          "metadata": {},
          "execution_count": 13
        },
        {
          "output_type": "display_data",
          "data": {
            "text/plain": [
              "<Figure size 432x288 with 1 Axes>"
            ],
            "image/png": "[encoded data removed]"
          },
          "metadata": {
            "needs_background": "light"
          }
        }
      ]
    },
    {
      "cell_type": "markdown",
      "source": [
        "# Normalizing the Data"
      ],
      "metadata": {
        "id": "chKhyWpYTq7m"
      }
    },
    {
      "cell_type": "code",
      "source": [
        "Copy_raw_data = copy.copy(raw_data)\n",
        "mean = Copy_raw_data[:num_train_samples].mean(axis=0)\n",
        "Copy_raw_data -= mean\n",
        "std = Copy_raw_data[:num_train_samples].std(axis=0)\n",
        "Copy_raw_data /= std\n",
        "\n",
        "N_eload = Copy_raw_data[:,0]\n",
        "print(\"Highest value of test set: \",raw_data[num_train_samples + num_val_samples:,0].max(axis=0))\n",
        "print(\"Smallest value of test set: \",raw_data[num_train_samples + num_val_samples:,0].min(axis=0))\n",
        "print(\"Full range of test set: \",raw_data[num_train_samples + num_val_samples:,0].max(axis=0) - raw_data[num_train_samples + num_val_samples:,0].min(axis=0))"
      ],
      "metadata": {
        "id": "iGGg3Z3xTuU9",
        "colab": {
          "base_uri": "https://localhost:8080/"
        },
        "outputId": "c5c4ae5d-aaf6-440e-ea64-6d863aac4078"
      },
      "execution_count": null,
      "outputs": [
        {
          "output_type": "stream",
          "name": "stdout",
          "text": [
            "Highest value of test set:  5224.0\n",
            "Smallest value of test set:  1979.0\n",
            "Full range of test set:  3245.0\n"
          ]
        }
      ]
    },
    {
      "cell_type": "markdown",
      "source": [
        "# Arranging DataSets"
      ],
      "metadata": {
        "id": "tOotPmmTT0TX"
      }
    },
    {
      "cell_type": "code",
      "source": [
        "horizon = 3 # Num. of hours ahead for forecast (3 or 6)\n",
        "sampling_rate = 1\n",
        "sequence_length = 12 # For horizon = 3 (sequence length < 15) & horizon = 6 (sequence length < 36)\n",
        "delay = sampling_rate * (sequence_length + horizon - 1)\n",
        "batch_size = 128\n",
        "train_dataset = keras.utils.timeseries_dataset_from_array(\n",
        "Copy_raw_data[:-delay],\n",
        "targets=Copy_raw_data[delay:,0], # This would used \"Normalized Targets\"\n",
        "# targets=eload[delay:], # This would used \"Not-normalized eload targets\"\n",
        "sampling_rate=sampling_rate,\n",
        "sequence_length=sequence_length,\n",
        "shuffle=True, #changed to false JUST FOR VERIF\n",
        "batch_size= num_train_samples,\n",
        "start_index=0,\n",
        "end_index=num_train_samples)\n",
        "val_dataset = keras.utils.timeseries_dataset_from_array(\n",
        "Copy_raw_data[:-delay], # changed from raw_data to just eload not really\n",
        "targets=Copy_raw_data[delay:,0], # This would used \"Normalized Targets\"\n",
        "# targets=eload[delay:], # This would used \"Not-normalized eload targets\"\n",
        "sampling_rate=sampling_rate,\n",
        "sequence_length=sequence_length, \n",
        "shuffle=True,\n",
        "batch_size=num_val_samples,\n",
        "start_index=num_train_samples,\n",
        "end_index=num_train_samples + num_val_samples)\n",
        "test_dataset = keras.utils.timeseries_dataset_from_array(\n",
        "Copy_raw_data[:-delay], # changed from raw_data to just eload\n",
        "targets=Copy_raw_data[delay:,0], # This would used \"Normalized Targets\"\n",
        "# targets=eload[delay:], # This would used \"Not-normalized eload targets\"\n",
        "sampling_rate=sampling_rate,\n",
        "sequence_length=sequence_length,\n",
        "shuffle=False,\n",
        "batch_size=num_test_samples,\n",
        "start_index=num_train_samples + num_val_samples)"
      ],
      "metadata": {
        "id": "QTKc5GnvT4jL"
      },
      "execution_count": null,
      "outputs": []
    },
    {
      "cell_type": "markdown",
      "source": [
        "# Inspecting Output of Datasets"
      ],
      "metadata": {
        "id": "LOYn6AI8UEDh"
      }
    },
    {
      "cell_type": "code",
      "source": [
        "for samples, targets in train_dataset:\n",
        "  print(\"samples shape:\", samples.shape)\n",
        "  print(\"targets shape:\", targets.shape)\n",
        "  break "
      ],
      "metadata": {
        "colab": {
          "base_uri": "https://localhost:8080/"
        },
        "id": "rKI1g1VyUG3n",
        "outputId": "dd245e18-acdd-4b46-9bea-c5372bab837d"
      },
      "execution_count": null,
      "outputs": [
        {
          "output_type": "stream",
          "name": "stdout",
          "text": [
            "samples shape: (39433, 12, 2)\n",
            "targets shape: (39433,)\n"
          ]
        }
      ]
    },
    {
      "cell_type": "markdown",
      "source": [
        "# Training and Evaluating"
      ],
      "metadata": {
        "id": "CJQTtaF0-Wi7"
      }
    },
    {
      "cell_type": "code",
      "source": [
        "inputs = keras.Input(shape=(sequence_length, Copy_raw_data.shape[-1]))\n",
        "x = layers.GRU(50, recurrent_dropout=0.25, return_sequences=True)(inputs)\n",
        "x = layers.GRU(100, recurrent_dropout=0.5, return_sequences=True)(x)\n",
        "x = layers.LSTM(32, recurrent_dropout=0.15, return_sequences=True)(x)\n",
        "x = layers.LSTM(16, recurrent_dropout=0.25) (x)\n",
        "x = layers.Dropout (.5) (x)\n",
        "outputs = layers.Dense(1)(x)\n",
        "model = keras.Model(inputs, outputs)\n",
        "callbacks = [\n",
        "keras.callbacks.ModelCheckpoint(\"predictor.keras\",\n",
        "save_best_only=True)\n",
        "]\n",
        "\n",
        "model.compile(optimizer=keras.optimizers.RMSprop(learning_rate=5e-3), loss=\"mse\", metrics=[\"mae\"])\n",
        "history = model.fit(train_dataset,\n",
        "epochs=750,\n",
        "validation_data=val_dataset,\n",
        "callbacks=callbacks)\n",
        "model = keras.models.load_model(\"predictor.keras\")\n",
        "print(f\"Test MAE: {model.evaluate(test_dataset)[1]:.2f}\")\n",
        "\n",
        "model.summary()"
      ],
      "metadata": {
        "colab": {
          "base_uri": "https://localhost:8080/"
        },
        "id": "uBY847Ld-sNx",
        "outputId": "ec887919-5cc1-46c2-ae33-a0511018702a"
      },
      "execution_count": null,
      "outputs": [
        {
          "output_type": "stream",
          "name": "stdout",
          "text": [
            "WARNING:tensorflow:Layer gru will not use cuDNN kernels since it doesn't meet the criteria. It will use a generic GPU kernel as fallback when running on GPU.\n",
            "WARNING:tensorflow:Layer gru_1 will not use cuDNN kernels since it doesn't meet the criteria. It will use a generic GPU kernel as fallback when running on GPU.\n",
            "WARNING:tensorflow:Layer lstm will not use cuDNN kernels since it doesn't meet the criteria. It will use a generic GPU kernel as fallback when running on GPU.\n",
            "WARNING:tensorflow:Layer lstm_1 will not use cuDNN kernels since it doesn't meet the criteria. It will use a generic GPU kernel as fallback when running on GPU.\n",
            "Epoch 1/750\n",
            "1/1 [==============================] - 14s 14s/step - loss: 1.0151 - mae: 0.8343 - val_loss: 1.2126 - val_mae: 0.8680\n",
            "Epoch 2/750\n",
            "1/1 [==============================] - 4s 4s/step - loss: 1.1581 - mae: 0.8598 - val_loss: 1.0830 - val_mae: 0.8590\n",
            "Epoch 3/750\n",
            "1/1 [==============================] - 4s 4s/step - loss: 1.1550 - mae: 0.8954 - val_loss: 0.9804 - val_mae: 0.7925\n",
            "Epoch 4/750\n",
            "1/1 [==============================] - 4s 4s/step - loss: 0.9547 - mae: 0.7995 - val_loss: 0.9486 - val_mae: 0.7808\n",
            "Epoch 5/750\n",
            "1/1 [==============================] - 4s 4s/step - loss: 0.9124 - mae: 0.7793 - val_loss: 0.9398 - val_mae: 0.7583\n",
            "Epoch 6/750\n",
            "1/1 [==============================] - 4s 4s/step - loss: 0.8871 - mae: 0.7539 - val_loss: 0.9106 - val_mae: 0.7580\n",
            "Epoch 7/750\n",
            "1/1 [==============================] - 4s 4s/step - loss: 0.8668 - mae: 0.7515 - val_loss: 0.8658 - val_mae: 0.7279\n",
            "Epoch 8/750\n",
            "1/1 [==============================] - 4s 4s/step - loss: 0.8495 - mae: 0.7363 - val_loss: 0.8084 - val_mae: 0.7198\n",
            "Epoch 9/750\n",
            "1/1 [==============================] - 4s 4s/step - loss: 0.8009 - mae: 0.7272 - val_loss: 0.9694 - val_mae: 0.7744\n",
            "Epoch 10/750\n",
            "1/1 [==============================] - 4s 4s/step - loss: 0.8814 - mae: 0.7419 - val_loss: 0.8282 - val_mae: 0.7552\n",
            "Epoch 11/750\n",
            "1/1 [==============================] - 4s 4s/step - loss: 0.8285 - mae: 0.7703 - val_loss: 0.7090 - val_mae: 0.6614\n",
            "Epoch 12/750\n",
            "1/1 [==============================] - 4s 4s/step - loss: 0.6886 - mae: 0.6602 - val_loss: 0.7032 - val_mae: 0.6678\n",
            "Epoch 13/750\n",
            "1/1 [==============================] - 4s 4s/step - loss: 0.7022 - mae: 0.6743 - val_loss: 0.9448 - val_mae: 0.7116\n",
            "Epoch 14/750\n",
            "1/1 [==============================] - 4s 4s/step - loss: 0.9131 - mae: 0.7159 - val_loss: 0.7377 - val_mae: 0.6813\n",
            "Epoch 15/750\n",
            "1/1 [==============================] - 4s 4s/step - loss: 0.7162 - mae: 0.6834 - val_loss: 0.6167 - val_mae: 0.6170\n",
            "Epoch 16/750\n",
            "1/1 [==============================] - 4s 4s/step - loss: 0.5982 - mae: 0.6177 - val_loss: 0.5463 - val_mae: 0.5843\n",
            "Epoch 17/750\n",
            "1/1 [==============================] - 4s 4s/step - loss: 0.5421 - mae: 0.5933 - val_loss: 0.4760 - val_mae: 0.5390\n",
            "Epoch 18/750\n",
            "1/1 [==============================] - 4s 4s/step - loss: 0.4940 - mae: 0.5577 - val_loss: 0.4237 - val_mae: 0.5219\n",
            "Epoch 19/750\n",
            "1/1 [==============================] - 4s 4s/step - loss: 0.4546 - mae: 0.5462 - val_loss: 0.5098 - val_mae: 0.5163\n",
            "Epoch 20/750\n",
            "1/1 [==============================] - 4s 4s/step - loss: 0.5478 - mae: 0.5575 - val_loss: 0.7286 - val_mae: 0.7196\n",
            "Epoch 21/750\n",
            "1/1 [==============================] - 4s 4s/step - loss: 0.7394 - mae: 0.7170 - val_loss: 0.6221 - val_mae: 0.6062\n",
            "Epoch 22/750\n",
            "1/1 [==============================] - 4s 4s/step - loss: 0.6508 - mae: 0.6421 - val_loss: 0.6196 - val_mae: 0.6201\n",
            "Epoch 23/750\n",
            "1/1 [==============================] - 4s 4s/step - loss: 0.6152 - mae: 0.6160 - val_loss: 0.4621 - val_mae: 0.5183\n",
            "Epoch 24/750\n",
            "1/1 [==============================] - 4s 4s/step - loss: 0.4650 - mae: 0.5375 - val_loss: 0.4098 - val_mae: 0.4939\n",
            "Epoch 25/750\n",
            "1/1 [==============================] - 4s 4s/step - loss: 0.4394 - mae: 0.5169 - val_loss: 0.3344 - val_mae: 0.4404\n",
            "Epoch 26/750\n",
            "1/1 [==============================] - 4s 4s/step - loss: 0.3769 - mae: 0.4866 - val_loss: 0.3414 - val_mae: 0.4467\n",
            "Epoch 27/750\n",
            "1/1 [==============================] - 4s 4s/step - loss: 0.3844 - mae: 0.4822 - val_loss: 0.2896 - val_mae: 0.4136\n",
            "Epoch 28/750\n",
            "1/1 [==============================] - 4s 4s/step - loss: 0.3661 - mae: 0.4829 - val_loss: 0.4299 - val_mae: 0.5111\n",
            "Epoch 29/750\n",
            "1/1 [==============================] - 4s 4s/step - loss: 0.4563 - mae: 0.5309 - val_loss: 0.2763 - val_mae: 0.4122\n",
            "Epoch 30/750\n",
            "1/1 [==============================] - 4s 4s/step - loss: 0.3486 - mae: 0.4719 - val_loss: 0.2924 - val_mae: 0.4102\n",
            "Epoch 31/750\n",
            "1/1 [==============================] - 4s 4s/step - loss: 0.3407 - mae: 0.4611 - val_loss: 0.3122 - val_mae: 0.4477\n",
            "Epoch 32/750\n",
            "1/1 [==============================] - 4s 4s/step - loss: 0.3762 - mae: 0.4906 - val_loss: 0.5805 - val_mae: 0.5529\n",
            "Epoch 33/750\n",
            "1/1 [==============================] - 4s 4s/step - loss: 0.6249 - mae: 0.5872 - val_loss: 0.5031 - val_mae: 0.5669\n",
            "Epoch 34/750\n",
            "1/1 [==============================] - 4s 4s/step - loss: 0.5209 - mae: 0.5798 - val_loss: 0.2934 - val_mae: 0.4271\n",
            "Epoch 35/750\n",
            "1/1 [==============================] - 4s 4s/step - loss: 0.3459 - mae: 0.4669 - val_loss: 0.2305 - val_mae: 0.3705\n",
            "Epoch 36/750\n",
            "1/1 [==============================] - 4s 4s/step - loss: 0.2928 - mae: 0.4284 - val_loss: 0.2090 - val_mae: 0.3503\n",
            "Epoch 37/750\n",
            "1/1 [==============================] - 4s 4s/step - loss: 0.2726 - mae: 0.4083 - val_loss: 0.1990 - val_mae: 0.3452\n",
            "Epoch 38/750\n",
            "1/1 [==============================] - 4s 4s/step - loss: 0.2877 - mae: 0.4293 - val_loss: 0.3198 - val_mae: 0.4495\n",
            "Epoch 39/750\n",
            "1/1 [==============================] - 4s 4s/step - loss: 0.3673 - mae: 0.4826 - val_loss: 0.2553 - val_mae: 0.4012\n",
            "Epoch 40/750\n",
            "1/1 [==============================] - 4s 4s/step - loss: 0.3502 - mae: 0.4811 - val_loss: 0.2748 - val_mae: 0.4028\n",
            "Epoch 41/750\n",
            "1/1 [==============================] - 4s 4s/step - loss: 0.3154 - mae: 0.4350 - val_loss: 0.1570 - val_mae: 0.3028\n",
            "Epoch 42/750\n",
            "1/1 [==============================] - 4s 4s/step - loss: 0.2492 - mae: 0.3935 - val_loss: 0.1848 - val_mae: 0.3224\n",
            "Epoch 43/750\n",
            "1/1 [==============================] - 4s 4s/step - loss: 0.2469 - mae: 0.3813 - val_loss: 0.1614 - val_mae: 0.3116\n",
            "Epoch 44/750\n",
            "1/1 [==============================] - 4s 4s/step - loss: 0.2599 - mae: 0.4034 - val_loss: 0.3160 - val_mae: 0.4159\n",
            "Epoch 45/750\n",
            "1/1 [==============================] - 4s 4s/step - loss: 0.3556 - mae: 0.4563 - val_loss: 0.1990 - val_mae: 0.3533\n",
            "Epoch 46/750\n",
            "1/1 [==============================] - 4s 4s/step - loss: 0.2872 - mae: 0.4268 - val_loss: 0.2503 - val_mae: 0.3614\n",
            "Epoch 47/750\n",
            "1/1 [==============================] - 4s 4s/step - loss: 0.3156 - mae: 0.4234 - val_loss: 0.1833 - val_mae: 0.3392\n",
            "Epoch 48/750\n",
            "1/1 [==============================] - 4s 4s/step - loss: 0.2509 - mae: 0.3940 - val_loss: 0.1740 - val_mae: 0.3110\n",
            "Epoch 49/750\n",
            "1/1 [==============================] - 4s 4s/step - loss: 0.2686 - mae: 0.3999 - val_loss: 0.2904 - val_mae: 0.4150\n",
            "Epoch 50/750\n",
            "1/1 [==============================] - 4s 4s/step - loss: 0.3355 - mae: 0.4493 - val_loss: 0.1573 - val_mae: 0.2991\n",
            "Epoch 51/750\n",
            "1/1 [==============================] - 4s 4s/step - loss: 0.2382 - mae: 0.3796 - val_loss: 0.1536 - val_mae: 0.3069\n",
            "Epoch 52/750\n",
            "1/1 [==============================] - 4s 4s/step - loss: 0.2330 - mae: 0.3784 - val_loss: 0.1411 - val_mae: 0.2825\n",
            "Epoch 53/750\n",
            "1/1 [==============================] - 4s 4s/step - loss: 0.2333 - mae: 0.3748 - val_loss: 0.1686 - val_mae: 0.3279\n",
            "Epoch 54/750\n",
            "1/1 [==============================] - 4s 4s/step - loss: 0.2457 - mae: 0.3900 - val_loss: 0.2350 - val_mae: 0.3727\n",
            "Epoch 55/750\n",
            "1/1 [==============================] - 4s 4s/step - loss: 0.3101 - mae: 0.4436 - val_loss: 0.2900 - val_mae: 0.4147\n",
            "Epoch 56/750\n",
            "1/1 [==============================] - 4s 4s/step - loss: 0.3492 - mae: 0.4558 - val_loss: 0.2304 - val_mae: 0.3410\n",
            "Epoch 57/750\n",
            "1/1 [==============================] - 4s 4s/step - loss: 0.2806 - mae: 0.3979 - val_loss: 0.1378 - val_mae: 0.2883\n",
            "Epoch 58/750\n",
            "1/1 [==============================] - 4s 4s/step - loss: 0.2270 - mae: 0.3772 - val_loss: 0.1779 - val_mae: 0.3156\n",
            "Epoch 59/750\n",
            "1/1 [==============================] - 4s 4s/step - loss: 0.2369 - mae: 0.3727 - val_loss: 0.1347 - val_mae: 0.2778\n",
            "Epoch 60/750\n",
            "1/1 [==============================] - 4s 4s/step - loss: 0.2416 - mae: 0.3839 - val_loss: 0.2773 - val_mae: 0.4029\n",
            "Epoch 61/750\n",
            "1/1 [==============================] - 4s 4s/step - loss: 0.3163 - mae: 0.4324 - val_loss: 0.1317 - val_mae: 0.2834\n",
            "Epoch 62/750\n",
            "1/1 [==============================] - 4s 4s/step - loss: 0.2303 - mae: 0.3804 - val_loss: 0.1983 - val_mae: 0.3449\n",
            "Epoch 63/750\n",
            "1/1 [==============================] - 4s 4s/step - loss: 0.2557 - mae: 0.4011 - val_loss: 0.1259 - val_mae: 0.2780\n",
            "Epoch 64/750\n",
            "1/1 [==============================] - 4s 4s/step - loss: 0.2185 - mae: 0.3697 - val_loss: 0.1538 - val_mae: 0.2970\n",
            "Epoch 65/750\n",
            "1/1 [==============================] - 4s 4s/step - loss: 0.2206 - mae: 0.3671 - val_loss: 0.1325 - val_mae: 0.2895\n",
            "Epoch 66/750\n",
            "1/1 [==============================] - 4s 4s/step - loss: 0.2222 - mae: 0.3714 - val_loss: 0.2334 - val_mae: 0.3573\n",
            "Epoch 67/750\n",
            "1/1 [==============================] - 4s 4s/step - loss: 0.3120 - mae: 0.4310 - val_loss: 0.2121 - val_mae: 0.3559\n",
            "Epoch 68/750\n",
            "1/1 [==============================] - 4s 4s/step - loss: 0.2743 - mae: 0.4055 - val_loss: 0.1365 - val_mae: 0.2738\n",
            "Epoch 69/750\n",
            "1/1 [==============================] - 4s 4s/step - loss: 0.2237 - mae: 0.3649 - val_loss: 0.1587 - val_mae: 0.3124\n",
            "Epoch 70/750\n",
            "1/1 [==============================] - 4s 4s/step - loss: 0.2256 - mae: 0.3706 - val_loss: 0.1143 - val_mae: 0.2534\n",
            "Epoch 71/750\n",
            "1/1 [==============================] - 4s 4s/step - loss: 0.2149 - mae: 0.3579 - val_loss: 0.1951 - val_mae: 0.3382\n",
            "Epoch 72/750\n",
            "1/1 [==============================] - 4s 4s/step - loss: 0.2520 - mae: 0.3868 - val_loss: 0.1115 - val_mae: 0.2532\n",
            "Epoch 73/750\n",
            "1/1 [==============================] - 4s 4s/step - loss: 0.2117 - mae: 0.3611 - val_loss: 0.1589 - val_mae: 0.3094\n",
            "Epoch 74/750\n",
            "1/1 [==============================] - 4s 4s/step - loss: 0.2259 - mae: 0.3677 - val_loss: 0.1110 - val_mae: 0.2542\n",
            "Epoch 75/750\n",
            "1/1 [==============================] - 4s 4s/step - loss: 0.2083 - mae: 0.3595 - val_loss: 0.1345 - val_mae: 0.2822\n",
            "Epoch 76/750\n",
            "1/1 [==============================] - 4s 4s/step - loss: 0.2067 - mae: 0.3533 - val_loss: 0.1000 - val_mae: 0.2411\n",
            "Epoch 77/750\n",
            "1/1 [==============================] - 4s 4s/step - loss: 0.1935 - mae: 0.3442 - val_loss: 0.1161 - val_mae: 0.2690\n",
            "Epoch 78/750\n",
            "1/1 [==============================] - 4s 4s/step - loss: 0.2037 - mae: 0.3541 - val_loss: 0.2138 - val_mae: 0.3471\n",
            "Epoch 79/750\n",
            "1/1 [==============================] - 4s 4s/step - loss: 0.2776 - mae: 0.4138 - val_loss: 0.2263 - val_mae: 0.3604\n",
            "Epoch 80/750\n",
            "1/1 [==============================] - 4s 4s/step - loss: 0.3037 - mae: 0.4234 - val_loss: 0.2059 - val_mae: 0.3287\n",
            "Epoch 81/750\n",
            "1/1 [==============================] - 4s 4s/step - loss: 0.2565 - mae: 0.3837 - val_loss: 0.1174 - val_mae: 0.2619\n",
            "Epoch 82/750\n",
            "1/1 [==============================] - 4s 4s/step - loss: 0.2001 - mae: 0.3485 - val_loss: 0.1382 - val_mae: 0.2737\n",
            "Epoch 83/750\n",
            "1/1 [==============================] - 4s 4s/step - loss: 0.2027 - mae: 0.3447 - val_loss: 0.1038 - val_mae: 0.2464\n",
            "Epoch 84/750\n",
            "1/1 [==============================] - 4s 4s/step - loss: 0.2026 - mae: 0.3514 - val_loss: 0.1972 - val_mae: 0.3519\n",
            "Epoch 85/750\n",
            "1/1 [==============================] - 4s 4s/step - loss: 0.2476 - mae: 0.3937 - val_loss: 0.1021 - val_mae: 0.2463\n",
            "Epoch 86/750\n",
            "1/1 [==============================] - 4s 4s/step - loss: 0.2043 - mae: 0.3567 - val_loss: 0.1481 - val_mae: 0.3008\n",
            "Epoch 87/750\n",
            "1/1 [==============================] - 4s 4s/step - loss: 0.2129 - mae: 0.3621 - val_loss: 0.0933 - val_mae: 0.2386\n",
            "Epoch 88/750\n",
            "1/1 [==============================] - 4s 4s/step - loss: 0.1895 - mae: 0.3434 - val_loss: 0.1355 - val_mae: 0.2807\n",
            "Epoch 89/750\n",
            "1/1 [==============================] - 4s 4s/step - loss: 0.1986 - mae: 0.3471 - val_loss: 0.1079 - val_mae: 0.2582\n",
            "Epoch 90/750\n",
            "1/1 [==============================] - 4s 4s/step - loss: 0.1917 - mae: 0.3430 - val_loss: 0.1737 - val_mae: 0.3091\n",
            "Epoch 91/750\n",
            "1/1 [==============================] - 4s 4s/step - loss: 0.2365 - mae: 0.3751 - val_loss: 0.1491 - val_mae: 0.3060\n",
            "Epoch 92/750\n",
            "1/1 [==============================] - 4s 4s/step - loss: 0.2230 - mae: 0.3690 - val_loss: 0.1504 - val_mae: 0.2902\n",
            "Epoch 93/750\n",
            "1/1 [==============================] - 4s 4s/step - loss: 0.2342 - mae: 0.3744 - val_loss: 0.1791 - val_mae: 0.3286\n",
            "Epoch 94/750\n",
            "1/1 [==============================] - 4s 4s/step - loss: 0.2452 - mae: 0.3841 - val_loss: 0.1657 - val_mae: 0.3030\n",
            "Epoch 95/750\n",
            "1/1 [==============================] - 4s 4s/step - loss: 0.2574 - mae: 0.3968 - val_loss: 0.1957 - val_mae: 0.3308\n",
            "Epoch 96/750\n",
            "1/1 [==============================] - 4s 4s/step - loss: 0.2500 - mae: 0.3823 - val_loss: 0.0826 - val_mae: 0.2163\n",
            "Epoch 97/750\n",
            "1/1 [==============================] - 4s 4s/step - loss: 0.1681 - mae: 0.3193 - val_loss: 0.0853 - val_mae: 0.2219\n",
            "Epoch 98/750\n",
            "1/1 [==============================] - 4s 4s/step - loss: 0.1613 - mae: 0.3111 - val_loss: 0.0739 - val_mae: 0.2067\n",
            "Epoch 99/750\n",
            "1/1 [==============================] - 4s 4s/step - loss: 0.1624 - mae: 0.3131 - val_loss: 0.0998 - val_mae: 0.2444\n",
            "Epoch 100/750\n",
            "1/1 [==============================] - 4s 4s/step - loss: 0.1722 - mae: 0.3226 - val_loss: 0.0961 - val_mae: 0.2396\n",
            "Epoch 101/750\n",
            "1/1 [==============================] - 4s 4s/step - loss: 0.1930 - mae: 0.3444 - val_loss: 0.2227 - val_mae: 0.3529\n",
            "Epoch 102/750\n",
            "1/1 [==============================] - 4s 4s/step - loss: 0.2720 - mae: 0.4030 - val_loss: 0.1192 - val_mae: 0.2713\n",
            "Epoch 103/750\n",
            "1/1 [==============================] - 4s 4s/step - loss: 0.2006 - mae: 0.3526 - val_loss: 0.1261 - val_mae: 0.2632\n",
            "Epoch 104/750\n",
            "1/1 [==============================] - 4s 4s/step - loss: 0.1920 - mae: 0.3359 - val_loss: 0.1070 - val_mae: 0.2562\n",
            "Epoch 105/750\n",
            "1/1 [==============================] - 4s 4s/step - loss: 0.1843 - mae: 0.3352 - val_loss: 0.1219 - val_mae: 0.2552\n",
            "Epoch 106/750\n",
            "1/1 [==============================] - 4s 4s/step - loss: 0.1985 - mae: 0.3410 - val_loss: 0.1332 - val_mae: 0.2890\n",
            "Epoch 107/750\n",
            "1/1 [==============================] - 4s 4s/step - loss: 0.1975 - mae: 0.3476 - val_loss: 0.1371 - val_mae: 0.2860\n",
            "Epoch 108/750\n",
            "1/1 [==============================] - 4s 4s/step - loss: 0.2191 - mae: 0.3710 - val_loss: 0.1600 - val_mae: 0.3125\n",
            "Epoch 109/750\n",
            "1/1 [==============================] - 4s 4s/step - loss: 0.2215 - mae: 0.3673 - val_loss: 0.0937 - val_mae: 0.2298\n",
            "Epoch 110/750\n",
            "1/1 [==============================] - 4s 4s/step - loss: 0.1856 - mae: 0.3342 - val_loss: 0.1101 - val_mae: 0.2511\n",
            "Epoch 111/750\n",
            "1/1 [==============================] - 4s 4s/step - loss: 0.1855 - mae: 0.3344 - val_loss: 0.0944 - val_mae: 0.2319\n",
            "Epoch 112/750\n",
            "1/1 [==============================] - 4s 4s/step - loss: 0.1832 - mae: 0.3322 - val_loss: 0.1195 - val_mae: 0.2580\n",
            "Epoch 113/750\n",
            "1/1 [==============================] - 4s 4s/step - loss: 0.1961 - mae: 0.3407 - val_loss: 0.1495 - val_mae: 0.2957\n",
            "Epoch 114/750\n",
            "1/1 [==============================] - 4s 4s/step - loss: 0.2206 - mae: 0.3622 - val_loss: 0.1374 - val_mae: 0.2671\n",
            "Epoch 115/750\n",
            "1/1 [==============================] - 4s 4s/step - loss: 0.2074 - mae: 0.3447 - val_loss: 0.1005 - val_mae: 0.2472\n",
            "Epoch 116/750\n",
            "1/1 [==============================] - 4s 4s/step - loss: 0.1741 - mae: 0.3259 - val_loss: 0.0866 - val_mae: 0.2234\n",
            "Epoch 117/750\n",
            "1/1 [==============================] - 4s 4s/step - loss: 0.1695 - mae: 0.3203 - val_loss: 0.1416 - val_mae: 0.2974\n",
            "Epoch 118/750\n",
            "1/1 [==============================] - 4s 4s/step - loss: 0.2031 - mae: 0.3549 - val_loss: 0.0866 - val_mae: 0.2281\n",
            "Epoch 119/750\n",
            "1/1 [==============================] - 4s 4s/step - loss: 0.1832 - mae: 0.3362 - val_loss: 0.1698 - val_mae: 0.3289\n",
            "Epoch 120/750\n",
            "1/1 [==============================] - 4s 4s/step - loss: 0.2222 - mae: 0.3739 - val_loss: 0.1146 - val_mae: 0.2542\n",
            "Epoch 121/750\n",
            "1/1 [==============================] - 4s 4s/step - loss: 0.2097 - mae: 0.3541 - val_loss: 0.1276 - val_mae: 0.2650\n",
            "Epoch 122/750\n",
            "1/1 [==============================] - 4s 4s/step - loss: 0.1966 - mae: 0.3400 - val_loss: 0.0927 - val_mae: 0.2337\n",
            "Epoch 123/750\n",
            "1/1 [==============================] - 4s 4s/step - loss: 0.1826 - mae: 0.3353 - val_loss: 0.1483 - val_mae: 0.2869\n",
            "Epoch 124/750\n",
            "1/1 [==============================] - 4s 4s/step - loss: 0.2026 - mae: 0.3441 - val_loss: 0.0883 - val_mae: 0.2316\n",
            "Epoch 125/750\n",
            "1/1 [==============================] - 4s 4s/step - loss: 0.1735 - mae: 0.3274 - val_loss: 0.1122 - val_mae: 0.2530\n",
            "Epoch 126/750\n",
            "1/1 [==============================] - 4s 4s/step - loss: 0.1787 - mae: 0.3270 - val_loss: 0.0980 - val_mae: 0.2454\n",
            "Epoch 127/750\n",
            "1/1 [==============================] - 4s 4s/step - loss: 0.1722 - mae: 0.3246 - val_loss: 0.1266 - val_mae: 0.2687\n",
            "Epoch 128/750\n",
            "1/1 [==============================] - 4s 4s/step - loss: 0.1928 - mae: 0.3417 - val_loss: 0.1479 - val_mae: 0.3150\n",
            "Epoch 129/750\n",
            "1/1 [==============================] - 4s 4s/step - loss: 0.2147 - mae: 0.3711 - val_loss: 0.1847 - val_mae: 0.3231\n",
            "Epoch 130/750\n",
            "1/1 [==============================] - 4s 4s/step - loss: 0.2650 - mae: 0.4031 - val_loss: 0.1408 - val_mae: 0.2785\n",
            "Epoch 131/750\n",
            "1/1 [==============================] - 4s 4s/step - loss: 0.2026 - mae: 0.3437 - val_loss: 0.0769 - val_mae: 0.2113\n",
            "Epoch 132/750\n",
            "1/1 [==============================] - 4s 4s/step - loss: 0.1664 - mae: 0.3180 - val_loss: 0.0976 - val_mae: 0.2396\n",
            "Epoch 133/750\n",
            "1/1 [==============================] - 4s 4s/step - loss: 0.1651 - mae: 0.3130 - val_loss: 0.0726 - val_mae: 0.2035\n",
            "Epoch 134/750\n",
            "1/1 [==============================] - 4s 4s/step - loss: 0.1560 - mae: 0.3046 - val_loss: 0.0941 - val_mae: 0.2350\n",
            "Epoch 135/750\n",
            "1/1 [==============================] - 4s 4s/step - loss: 0.1640 - mae: 0.3122 - val_loss: 0.0795 - val_mae: 0.2114\n",
            "Epoch 136/750\n",
            "1/1 [==============================] - 4s 4s/step - loss: 0.1609 - mae: 0.3092 - val_loss: 0.0935 - val_mae: 0.2340\n",
            "Epoch 137/750\n",
            "1/1 [==============================] - 4s 4s/step - loss: 0.1657 - mae: 0.3147 - val_loss: 0.0954 - val_mae: 0.2300\n",
            "Epoch 138/750\n",
            "1/1 [==============================] - 4s 4s/step - loss: 0.1683 - mae: 0.3147 - val_loss: 0.0833 - val_mae: 0.2208\n",
            "Epoch 139/750\n",
            "1/1 [==============================] - 4s 4s/step - loss: 0.1679 - mae: 0.3184 - val_loss: 0.1273 - val_mae: 0.2660\n",
            "Epoch 140/750\n",
            "1/1 [==============================] - 4s 4s/step - loss: 0.1891 - mae: 0.3328 - val_loss: 0.1003 - val_mae: 0.2342\n",
            "Epoch 141/750\n",
            "1/1 [==============================] - 4s 4s/step - loss: 0.1964 - mae: 0.3422 - val_loss: 0.1730 - val_mae: 0.3096\n",
            "Epoch 142/750\n",
            "1/1 [==============================] - 4s 4s/step - loss: 0.2234 - mae: 0.3575 - val_loss: 0.0725 - val_mae: 0.2025\n",
            "Epoch 143/750\n",
            "1/1 [==============================] - 4s 4s/step - loss: 0.1569 - mae: 0.3092 - val_loss: 0.1046 - val_mae: 0.2456\n",
            "Epoch 144/750\n",
            "1/1 [==============================] - 4s 4s/step - loss: 0.1702 - mae: 0.3201 - val_loss: 0.0923 - val_mae: 0.2385\n",
            "Epoch 145/750\n",
            "1/1 [==============================] - 4s 4s/step - loss: 0.1746 - mae: 0.3302 - val_loss: 0.1405 - val_mae: 0.2806\n",
            "Epoch 146/750\n",
            "1/1 [==============================] - 4s 4s/step - loss: 0.2033 - mae: 0.3540 - val_loss: 0.1222 - val_mae: 0.2791\n",
            "Epoch 147/750\n",
            "1/1 [==============================] - 4s 4s/step - loss: 0.1903 - mae: 0.3466 - val_loss: 0.2290 - val_mae: 0.3687\n",
            "Epoch 148/750\n",
            "1/1 [==============================] - 4s 4s/step - loss: 0.2846 - mae: 0.4290 - val_loss: 0.1684 - val_mae: 0.3050\n",
            "Epoch 149/750\n",
            "1/1 [==============================] - 4s 4s/step - loss: 0.2236 - mae: 0.3586 - val_loss: 0.0888 - val_mae: 0.2231\n",
            "Epoch 150/750\n",
            "1/1 [==============================] - 4s 4s/step - loss: 0.1659 - mae: 0.3158 - val_loss: 0.0825 - val_mae: 0.2143\n",
            "Epoch 151/750\n",
            "1/1 [==============================] - 4s 4s/step - loss: 0.1544 - mae: 0.3030 - val_loss: 0.0810 - val_mae: 0.2137\n",
            "Epoch 152/750\n",
            "1/1 [==============================] - 4s 4s/step - loss: 0.1581 - mae: 0.3068 - val_loss: 0.0974 - val_mae: 0.2380\n",
            "Epoch 153/750\n",
            "1/1 [==============================] - 4s 4s/step - loss: 0.1655 - mae: 0.3146 - val_loss: 0.0978 - val_mae: 0.2334\n",
            "Epoch 154/750\n",
            "1/1 [==============================] - 4s 4s/step - loss: 0.1720 - mae: 0.3170 - val_loss: 0.0977 - val_mae: 0.2449\n",
            "Epoch 155/750\n",
            "1/1 [==============================] - 4s 4s/step - loss: 0.1652 - mae: 0.3163 - val_loss: 0.0835 - val_mae: 0.2172\n",
            "Epoch 156/750\n",
            "1/1 [==============================] - 4s 4s/step - loss: 0.1575 - mae: 0.3059 - val_loss: 0.1068 - val_mae: 0.2580\n",
            "Epoch 157/750\n",
            "1/1 [==============================] - 4s 4s/step - loss: 0.1702 - mae: 0.3225 - val_loss: 0.1120 - val_mae: 0.2548\n",
            "Epoch 158/750\n",
            "1/1 [==============================] - 4s 4s/step - loss: 0.1931 - mae: 0.3438 - val_loss: 0.1228 - val_mae: 0.2683\n",
            "Epoch 159/750\n",
            "1/1 [==============================] - 4s 4s/step - loss: 0.1884 - mae: 0.3386 - val_loss: 0.0797 - val_mae: 0.2126\n",
            "Epoch 160/750\n",
            "1/1 [==============================] - 4s 4s/step - loss: 0.1605 - mae: 0.3112 - val_loss: 0.0720 - val_mae: 0.1998\n",
            "Epoch 161/750\n",
            "1/1 [==============================] - 4s 4s/step - loss: 0.1429 - mae: 0.2907 - val_loss: 0.0597 - val_mae: 0.1819\n",
            "Epoch 162/750\n",
            "1/1 [==============================] - 4s 4s/step - loss: 0.1391 - mae: 0.2869 - val_loss: 0.0649 - val_mae: 0.1894\n",
            "Epoch 163/750\n",
            "1/1 [==============================] - 4s 4s/step - loss: 0.1401 - mae: 0.2880 - val_loss: 0.0672 - val_mae: 0.1934\n",
            "Epoch 164/750\n",
            "1/1 [==============================] - 4s 4s/step - loss: 0.1444 - mae: 0.2922 - val_loss: 0.0884 - val_mae: 0.2220\n",
            "Epoch 165/750\n",
            "1/1 [==============================] - 4s 4s/step - loss: 0.1635 - mae: 0.3107 - val_loss: 0.1130 - val_mae: 0.2619\n",
            "Epoch 166/750\n",
            "1/1 [==============================] - 4s 4s/step - loss: 0.1861 - mae: 0.3368 - val_loss: 0.1769 - val_mae: 0.3085\n",
            "Epoch 167/750\n",
            "1/1 [==============================] - 4s 4s/step - loss: 0.2306 - mae: 0.3682 - val_loss: 0.0780 - val_mae: 0.2159\n",
            "Epoch 168/750\n",
            "1/1 [==============================] - 4s 4s/step - loss: 0.1651 - mae: 0.3176 - val_loss: 0.1078 - val_mae: 0.2468\n",
            "Epoch 169/750\n",
            "1/1 [==============================] - 4s 4s/step - loss: 0.1708 - mae: 0.3160 - val_loss: 0.0706 - val_mae: 0.2048\n",
            "Epoch 170/750\n",
            "1/1 [==============================] - 4s 4s/step - loss: 0.1621 - mae: 0.3147 - val_loss: 0.1212 - val_mae: 0.2704\n",
            "Epoch 171/750\n",
            "1/1 [==============================] - 4s 4s/step - loss: 0.1757 - mae: 0.3216 - val_loss: 0.0655 - val_mae: 0.1969\n",
            "Epoch 172/750\n",
            "1/1 [==============================] - 4s 4s/step - loss: 0.1524 - mae: 0.3053 - val_loss: 0.0965 - val_mae: 0.2389\n",
            "Epoch 173/750\n",
            "1/1 [==============================] - 4s 4s/step - loss: 0.1547 - mae: 0.3021 - val_loss: 0.0600 - val_mae: 0.1844\n",
            "Epoch 174/750\n",
            "1/1 [==============================] - 4s 4s/step - loss: 0.1441 - mae: 0.2932 - val_loss: 0.0920 - val_mae: 0.2289\n",
            "Epoch 175/750\n",
            "1/1 [==============================] - 4s 4s/step - loss: 0.1528 - mae: 0.2982 - val_loss: 0.0712 - val_mae: 0.1978\n",
            "Epoch 176/750\n",
            "1/1 [==============================] - 4s 4s/step - loss: 0.1571 - mae: 0.3062 - val_loss: 0.1346 - val_mae: 0.2814\n",
            "Epoch 177/750\n",
            "1/1 [==============================] - 4s 4s/step - loss: 0.1872 - mae: 0.3334 - val_loss: 0.1079 - val_mae: 0.2527\n",
            "Epoch 178/750\n",
            "1/1 [==============================] - 4s 4s/step - loss: 0.1876 - mae: 0.3414 - val_loss: 0.1084 - val_mae: 0.2639\n",
            "Epoch 179/750\n",
            "1/1 [==============================] - 4s 4s/step - loss: 0.1726 - mae: 0.3273 - val_loss: 0.1593 - val_mae: 0.3006\n",
            "Epoch 180/750\n",
            "1/1 [==============================] - 4s 4s/step - loss: 0.2177 - mae: 0.3629 - val_loss: 0.1423 - val_mae: 0.2872\n",
            "Epoch 181/750\n",
            "1/1 [==============================] - 4s 4s/step - loss: 0.2048 - mae: 0.3490 - val_loss: 0.0908 - val_mae: 0.2185\n",
            "Epoch 182/750\n",
            "1/1 [==============================] - 4s 4s/step - loss: 0.1595 - mae: 0.3044 - val_loss: 0.0661 - val_mae: 0.1928\n",
            "Epoch 183/750\n",
            "1/1 [==============================] - 4s 4s/step - loss: 0.1454 - mae: 0.2948 - val_loss: 0.0850 - val_mae: 0.2153\n",
            "Epoch 184/750\n",
            "1/1 [==============================] - 4s 4s/step - loss: 0.1504 - mae: 0.2959 - val_loss: 0.0666 - val_mae: 0.1952\n",
            "Epoch 185/750\n",
            "1/1 [==============================] - 4s 4s/step - loss: 0.1441 - mae: 0.2940 - val_loss: 0.0921 - val_mae: 0.2258\n",
            "Epoch 186/750\n",
            "1/1 [==============================] - 4s 4s/step - loss: 0.1538 - mae: 0.3007 - val_loss: 0.0670 - val_mae: 0.1993\n",
            "Epoch 187/750\n",
            "1/1 [==============================] - 4s 4s/step - loss: 0.1460 - mae: 0.2982 - val_loss: 0.0881 - val_mae: 0.2234\n",
            "Epoch 188/750\n",
            "1/1 [==============================] - 4s 4s/step - loss: 0.1505 - mae: 0.2983 - val_loss: 0.0649 - val_mae: 0.1974\n",
            "Epoch 189/750\n",
            "1/1 [==============================] - 4s 4s/step - loss: 0.1446 - mae: 0.2979 - val_loss: 0.0940 - val_mae: 0.2345\n",
            "Epoch 190/750\n",
            "1/1 [==============================] - 4s 4s/step - loss: 0.1534 - mae: 0.3034 - val_loss: 0.0707 - val_mae: 0.2044\n",
            "Epoch 191/750\n",
            "1/1 [==============================] - 4s 4s/step - loss: 0.1527 - mae: 0.3044 - val_loss: 0.1026 - val_mae: 0.2416\n",
            "Epoch 192/750\n",
            "1/1 [==============================] - 4s 4s/step - loss: 0.1718 - mae: 0.3206 - val_loss: 0.0781 - val_mae: 0.2160\n",
            "Epoch 193/750\n",
            "1/1 [==============================] - 4s 4s/step - loss: 0.1483 - mae: 0.3025 - val_loss: 0.1002 - val_mae: 0.2357\n",
            "Epoch 194/750\n",
            "1/1 [==============================] - 4s 4s/step - loss: 0.1744 - mae: 0.3230 - val_loss: 0.1342 - val_mae: 0.2813\n",
            "Epoch 195/750\n",
            "1/1 [==============================] - 4s 4s/step - loss: 0.1875 - mae: 0.3344 - val_loss: 0.1027 - val_mae: 0.2394\n",
            "Epoch 196/750\n",
            "1/1 [==============================] - 4s 4s/step - loss: 0.1760 - mae: 0.3207 - val_loss: 0.1028 - val_mae: 0.2548\n",
            "Epoch 197/750\n",
            "1/1 [==============================] - 4s 4s/step - loss: 0.1639 - mae: 0.3168 - val_loss: 0.0702 - val_mae: 0.1992\n",
            "Epoch 198/750\n",
            "1/1 [==============================] - 4s 4s/step - loss: 0.1449 - mae: 0.2929 - val_loss: 0.0770 - val_mae: 0.2118\n",
            "Epoch 199/750\n",
            "1/1 [==============================] - 4s 4s/step - loss: 0.1455 - mae: 0.2946 - val_loss: 0.0638 - val_mae: 0.1840\n",
            "Epoch 200/750\n",
            "1/1 [==============================] - 4s 4s/step - loss: 0.1432 - mae: 0.2885 - val_loss: 0.0835 - val_mae: 0.2121\n",
            "Epoch 201/750\n",
            "1/1 [==============================] - 4s 4s/step - loss: 0.1502 - mae: 0.2947 - val_loss: 0.0605 - val_mae: 0.1805\n",
            "Epoch 202/750\n",
            "1/1 [==============================] - 4s 4s/step - loss: 0.1416 - mae: 0.2892 - val_loss: 0.0971 - val_mae: 0.2330\n",
            "Epoch 203/750\n",
            "1/1 [==============================] - 4s 4s/step - loss: 0.1547 - mae: 0.3001 - val_loss: 0.0802 - val_mae: 0.2141\n",
            "Epoch 204/750\n",
            "1/1 [==============================] - 4s 4s/step - loss: 0.1606 - mae: 0.3139 - val_loss: 0.0991 - val_mae: 0.2367\n",
            "Epoch 205/750\n",
            "1/1 [==============================] - 4s 4s/step - loss: 0.1628 - mae: 0.3093 - val_loss: 0.0593 - val_mae: 0.1865\n",
            "Epoch 206/750\n",
            "1/1 [==============================] - 4s 4s/step - loss: 0.1353 - mae: 0.2854 - val_loss: 0.0753 - val_mae: 0.2022\n",
            "Epoch 207/750\n",
            "1/1 [==============================] - 4s 4s/step - loss: 0.1407 - mae: 0.2868 - val_loss: 0.0777 - val_mae: 0.2231\n",
            "Epoch 208/750\n",
            "1/1 [==============================] - 4s 4s/step - loss: 0.1506 - mae: 0.3038 - val_loss: 0.1382 - val_mae: 0.2783\n",
            "Epoch 209/750\n",
            "1/1 [==============================] - 4s 4s/step - loss: 0.1939 - mae: 0.3461 - val_loss: 0.0795 - val_mae: 0.2192\n",
            "Epoch 210/750\n",
            "1/1 [==============================] - 4s 4s/step - loss: 0.1515 - mae: 0.3071 - val_loss: 0.0714 - val_mae: 0.1969\n",
            "Epoch 211/750\n",
            "1/1 [==============================] - 4s 4s/step - loss: 0.1426 - mae: 0.2910 - val_loss: 0.0744 - val_mae: 0.2124\n",
            "Epoch 212/750\n",
            "1/1 [==============================] - 4s 4s/step - loss: 0.1401 - mae: 0.2926 - val_loss: 0.0913 - val_mae: 0.2213\n",
            "Epoch 213/750\n",
            "1/1 [==============================] - 4s 4s/step - loss: 0.1595 - mae: 0.3054 - val_loss: 0.1068 - val_mae: 0.2441\n",
            "Epoch 214/750\n",
            "1/1 [==============================] - 4s 4s/step - loss: 0.1638 - mae: 0.3083 - val_loss: 0.0815 - val_mae: 0.2071\n",
            "Epoch 215/750\n",
            "1/1 [==============================] - 4s 4s/step - loss: 0.1654 - mae: 0.3075 - val_loss: 0.1270 - val_mae: 0.2692\n",
            "Epoch 216/750\n",
            "1/1 [==============================] - 4s 4s/step - loss: 0.1824 - mae: 0.3293 - val_loss: 0.0641 - val_mae: 0.1883\n",
            "Epoch 217/750\n",
            "1/1 [==============================] - 4s 4s/step - loss: 0.1460 - mae: 0.2930 - val_loss: 0.0952 - val_mae: 0.2359\n",
            "Epoch 218/750\n",
            "1/1 [==============================] - 4s 4s/step - loss: 0.1511 - mae: 0.2976 - val_loss: 0.0638 - val_mae: 0.1903\n",
            "Epoch 219/750\n",
            "1/1 [==============================] - 4s 4s/step - loss: 0.1451 - mae: 0.2924 - val_loss: 0.0928 - val_mae: 0.2352\n",
            "Epoch 220/750\n",
            "1/1 [==============================] - 4s 4s/step - loss: 0.1495 - mae: 0.2974 - val_loss: 0.0662 - val_mae: 0.1911\n",
            "Epoch 221/750\n",
            "1/1 [==============================] - 4s 4s/step - loss: 0.1377 - mae: 0.2846 - val_loss: 0.0672 - val_mae: 0.1999\n",
            "Epoch 222/750\n",
            "1/1 [==============================] - 4s 4s/step - loss: 0.1337 - mae: 0.2833 - val_loss: 0.0691 - val_mae: 0.1945\n",
            "Epoch 223/750\n",
            "1/1 [==============================] - 4s 4s/step - loss: 0.1361 - mae: 0.2821 - val_loss: 0.0630 - val_mae: 0.1933\n",
            "Epoch 224/750\n",
            "1/1 [==============================] - 4s 4s/step - loss: 0.1400 - mae: 0.2902 - val_loss: 0.1091 - val_mae: 0.2457\n",
            "Epoch 225/750\n",
            "1/1 [==============================] - 4s 4s/step - loss: 0.1615 - mae: 0.3076 - val_loss: 0.0706 - val_mae: 0.2023\n",
            "Epoch 226/750\n",
            "1/1 [==============================] - 4s 4s/step - loss: 0.1577 - mae: 0.3074 - val_loss: 0.1162 - val_mae: 0.2595\n",
            "Epoch 227/750\n",
            "1/1 [==============================] - 4s 4s/step - loss: 0.1667 - mae: 0.3132 - val_loss: 0.0582 - val_mae: 0.1834\n",
            "Epoch 228/750\n",
            "1/1 [==============================] - 4s 4s/step - loss: 0.1386 - mae: 0.2891 - val_loss: 0.0796 - val_mae: 0.2153\n",
            "Epoch 229/750\n",
            "1/1 [==============================] - 4s 4s/step - loss: 0.1434 - mae: 0.2926 - val_loss: 0.0745 - val_mae: 0.2109\n",
            "Epoch 230/750\n",
            "1/1 [==============================] - 4s 4s/step - loss: 0.1404 - mae: 0.2955 - val_loss: 0.1075 - val_mae: 0.2474\n",
            "Epoch 231/750\n",
            "1/1 [==============================] - 4s 4s/step - loss: 0.1721 - mae: 0.3260 - val_loss: 0.1063 - val_mae: 0.2428\n",
            "Epoch 232/750\n",
            "1/1 [==============================] - 4s 4s/step - loss: 0.1663 - mae: 0.3122 - val_loss: 0.0881 - val_mae: 0.2183\n",
            "Epoch 233/750\n",
            "1/1 [==============================] - 4s 4s/step - loss: 0.1662 - mae: 0.3115 - val_loss: 0.1097 - val_mae: 0.2608\n",
            "Epoch 234/750\n",
            "1/1 [==============================] - 4s 4s/step - loss: 0.1631 - mae: 0.3144 - val_loss: 0.0767 - val_mae: 0.2083\n",
            "Epoch 235/750\n",
            "1/1 [==============================] - 4s 4s/step - loss: 0.1452 - mae: 0.2937 - val_loss: 0.0807 - val_mae: 0.2230\n",
            "Epoch 236/750\n",
            "1/1 [==============================] - 4s 4s/step - loss: 0.1440 - mae: 0.2943 - val_loss: 0.0609 - val_mae: 0.1822\n",
            "Epoch 237/750\n",
            "1/1 [==============================] - 4s 4s/step - loss: 0.1335 - mae: 0.2787 - val_loss: 0.0681 - val_mae: 0.2007\n",
            "Epoch 238/750\n",
            "1/1 [==============================] - 4s 4s/step - loss: 0.1316 - mae: 0.2784 - val_loss: 0.0601 - val_mae: 0.1811\n",
            "Epoch 239/750\n",
            "1/1 [==============================] - 4s 4s/step - loss: 0.1325 - mae: 0.2792 - val_loss: 0.0782 - val_mae: 0.2090\n",
            "Epoch 240/750\n",
            "1/1 [==============================] - 4s 4s/step - loss: 0.1383 - mae: 0.2831 - val_loss: 0.0688 - val_mae: 0.1943\n",
            "Epoch 241/750\n",
            "1/1 [==============================] - 4s 4s/step - loss: 0.1414 - mae: 0.2894 - val_loss: 0.0775 - val_mae: 0.2127\n",
            "Epoch 242/750\n",
            "1/1 [==============================] - 4s 4s/step - loss: 0.1365 - mae: 0.2855 - val_loss: 0.0701 - val_mae: 0.1988\n",
            "Epoch 243/750\n",
            "1/1 [==============================] - 4s 4s/step - loss: 0.1403 - mae: 0.2909 - val_loss: 0.0784 - val_mae: 0.2102\n",
            "Epoch 244/750\n",
            "1/1 [==============================] - 4s 4s/step - loss: 0.1390 - mae: 0.2849 - val_loss: 0.0632 - val_mae: 0.1853\n",
            "Epoch 245/750\n",
            "1/1 [==============================] - 4s 4s/step - loss: 0.1355 - mae: 0.2823 - val_loss: 0.0772 - val_mae: 0.2103\n",
            "Epoch 246/750\n",
            "1/1 [==============================] - 4s 4s/step - loss: 0.1382 - mae: 0.2863 - val_loss: 0.0872 - val_mae: 0.2191\n",
            "Epoch 247/750\n",
            "1/1 [==============================] - 4s 4s/step - loss: 0.1544 - mae: 0.3010 - val_loss: 0.0829 - val_mae: 0.2245\n",
            "Epoch 248/750\n",
            "1/1 [==============================] - 4s 4s/step - loss: 0.1493 - mae: 0.3010 - val_loss: 0.0689 - val_mae: 0.1956\n",
            "Epoch 249/750\n",
            "1/1 [==============================] - 4s 4s/step - loss: 0.1363 - mae: 0.2836 - val_loss: 0.0642 - val_mae: 0.1908\n",
            "Epoch 250/750\n",
            "1/1 [==============================] - 4s 4s/step - loss: 0.1357 - mae: 0.2836 - val_loss: 0.0797 - val_mae: 0.1988\n",
            "Epoch 251/750\n",
            "1/1 [==============================] - 4s 4s/step - loss: 0.1435 - mae: 0.2847 - val_loss: 0.0709 - val_mae: 0.1954\n",
            "Epoch 252/750\n",
            "1/1 [==============================] - 4s 4s/step - loss: 0.1596 - mae: 0.3057 - val_loss: 0.1414 - val_mae: 0.2929\n",
            "Epoch 253/750\n",
            "1/1 [==============================] - 4s 4s/step - loss: 0.1902 - mae: 0.3383 - val_loss: 0.0599 - val_mae: 0.1857\n",
            "Epoch 254/750\n",
            "1/1 [==============================] - 4s 4s/step - loss: 0.1390 - mae: 0.2887 - val_loss: 0.0939 - val_mae: 0.2318\n",
            "Epoch 255/750\n",
            "1/1 [==============================] - 4s 4s/step - loss: 0.1541 - mae: 0.3029 - val_loss: 0.0661 - val_mae: 0.2005\n",
            "Epoch 256/750\n",
            "1/1 [==============================] - 4s 4s/step - loss: 0.1425 - mae: 0.2960 - val_loss: 0.0893 - val_mae: 0.2226\n",
            "Epoch 257/750\n",
            "1/1 [==============================] - 4s 4s/step - loss: 0.1481 - mae: 0.2955 - val_loss: 0.0593 - val_mae: 0.1884\n",
            "Epoch 258/750\n",
            "1/1 [==============================] - 4s 4s/step - loss: 0.1299 - mae: 0.2808 - val_loss: 0.0664 - val_mae: 0.1893\n",
            "Epoch 259/750\n",
            "1/1 [==============================] - 4s 4s/step - loss: 0.1352 - mae: 0.2821 - val_loss: 0.0932 - val_mae: 0.2393\n",
            "Epoch 260/750\n",
            "1/1 [==============================] - 4s 4s/step - loss: 0.1447 - mae: 0.2964 - val_loss: 0.0976 - val_mae: 0.2322\n",
            "Epoch 261/750\n",
            "1/1 [==============================] - 4s 4s/step - loss: 0.1673 - mae: 0.3153 - val_loss: 0.1042 - val_mae: 0.2466\n",
            "Epoch 262/750\n",
            "1/1 [==============================] - 4s 4s/step - loss: 0.1602 - mae: 0.3061 - val_loss: 0.0615 - val_mae: 0.1836\n",
            "Epoch 263/750\n",
            "1/1 [==============================] - 4s 4s/step - loss: 0.1376 - mae: 0.2822 - val_loss: 0.0871 - val_mae: 0.2195\n",
            "Epoch 264/750\n",
            "1/1 [==============================] - 4s 4s/step - loss: 0.1477 - mae: 0.2936 - val_loss: 0.0553 - val_mae: 0.1712\n",
            "Epoch 265/750\n",
            "1/1 [==============================] - 4s 4s/step - loss: 0.1299 - mae: 0.2746 - val_loss: 0.0688 - val_mae: 0.1946\n",
            "Epoch 266/750\n",
            "1/1 [==============================] - 4s 4s/step - loss: 0.1304 - mae: 0.2743 - val_loss: 0.0486 - val_mae: 0.1599\n",
            "Epoch 267/750\n",
            "1/1 [==============================] - 4s 4s/step - loss: 0.1232 - mae: 0.2671 - val_loss: 0.0635 - val_mae: 0.1886\n",
            "Epoch 268/750\n",
            "1/1 [==============================] - 4s 4s/step - loss: 0.1240 - mae: 0.2685 - val_loss: 0.0515 - val_mae: 0.1683\n",
            "Epoch 269/750\n",
            "1/1 [==============================] - 4s 4s/step - loss: 0.1259 - mae: 0.2723 - val_loss: 0.0746 - val_mae: 0.2075\n",
            "Epoch 270/750\n",
            "1/1 [==============================] - 4s 4s/step - loss: 0.1335 - mae: 0.2819 - val_loss: 0.0629 - val_mae: 0.1902\n",
            "Epoch 271/750\n",
            "1/1 [==============================] - 4s 4s/step - loss: 0.1331 - mae: 0.2837 - val_loss: 0.0631 - val_mae: 0.1895\n",
            "Epoch 272/750\n",
            "1/1 [==============================] - 4s 4s/step - loss: 0.1270 - mae: 0.2739 - val_loss: 0.0562 - val_mae: 0.1769\n",
            "Epoch 273/750\n",
            "1/1 [==============================] - 4s 4s/step - loss: 0.1247 - mae: 0.2706 - val_loss: 0.0753 - val_mae: 0.2017\n",
            "Epoch 274/750\n",
            "1/1 [==============================] - 4s 4s/step - loss: 0.1367 - mae: 0.2790 - val_loss: 0.0876 - val_mae: 0.2121\n",
            "Epoch 275/750\n",
            "1/1 [==============================] - 4s 4s/step - loss: 0.1539 - mae: 0.2985 - val_loss: 0.1031 - val_mae: 0.2539\n",
            "Epoch 276/750\n",
            "1/1 [==============================] - 4s 4s/step - loss: 0.1594 - mae: 0.3129 - val_loss: 0.1002 - val_mae: 0.2364\n",
            "Epoch 277/750\n",
            "1/1 [==============================] - 4s 4s/step - loss: 0.1651 - mae: 0.3134 - val_loss: 0.0802 - val_mae: 0.2231\n",
            "Epoch 278/750\n",
            "1/1 [==============================] - 4s 4s/step - loss: 0.1427 - mae: 0.2931 - val_loss: 0.0608 - val_mae: 0.1792\n",
            "Epoch 279/750\n",
            "1/1 [==============================] - 4s 4s/step - loss: 0.1261 - mae: 0.2712 - val_loss: 0.0549 - val_mae: 0.1799\n",
            "Epoch 280/750\n",
            "1/1 [==============================] - 4s 4s/step - loss: 0.1237 - mae: 0.2716 - val_loss: 0.0805 - val_mae: 0.2107\n",
            "Epoch 281/750\n",
            "1/1 [==============================] - 4s 4s/step - loss: 0.1382 - mae: 0.2848 - val_loss: 0.0688 - val_mae: 0.1966\n",
            "Epoch 282/750\n",
            "1/1 [==============================] - 4s 4s/step - loss: 0.1549 - mae: 0.3030 - val_loss: 0.1358 - val_mae: 0.2868\n",
            "Epoch 283/750\n",
            "1/1 [==============================] - 4s 4s/step - loss: 0.1817 - mae: 0.3295 - val_loss: 0.0547 - val_mae: 0.1739\n",
            "Epoch 284/750\n",
            "1/1 [==============================] - 4s 4s/step - loss: 0.1341 - mae: 0.2823 - val_loss: 0.0733 - val_mae: 0.2006\n",
            "Epoch 285/750\n",
            "1/1 [==============================] - 4s 4s/step - loss: 0.1323 - mae: 0.2763 - val_loss: 0.0516 - val_mae: 0.1696\n",
            "Epoch 286/750\n",
            "1/1 [==============================] - 4s 4s/step - loss: 0.1218 - mae: 0.2698 - val_loss: 0.0587 - val_mae: 0.1784\n",
            "Epoch 287/750\n",
            "1/1 [==============================] - 4s 4s/step - loss: 0.1197 - mae: 0.2622 - val_loss: 0.0519 - val_mae: 0.1708\n",
            "Epoch 288/750\n",
            "1/1 [==============================] - 4s 4s/step - loss: 0.1182 - mae: 0.2649 - val_loss: 0.0595 - val_mae: 0.1782\n",
            "Epoch 289/750\n",
            "1/1 [==============================] - 4s 4s/step - loss: 0.1240 - mae: 0.2671 - val_loss: 0.0669 - val_mae: 0.1976\n",
            "Epoch 290/750\n",
            "1/1 [==============================] - 4s 4s/step - loss: 0.1287 - mae: 0.2764 - val_loss: 0.0767 - val_mae: 0.2024\n",
            "Epoch 291/750\n",
            "1/1 [==============================] - 4s 4s/step - loss: 0.1421 - mae: 0.2878 - val_loss: 0.0874 - val_mae: 0.2316\n",
            "Epoch 292/750\n",
            "1/1 [==============================] - 4s 4s/step - loss: 0.1460 - mae: 0.2943 - val_loss: 0.0848 - val_mae: 0.2155\n",
            "Epoch 293/750\n",
            "1/1 [==============================] - 4s 4s/step - loss: 0.1589 - mae: 0.3061 - val_loss: 0.1264 - val_mae: 0.2715\n",
            "Epoch 294/750\n",
            "1/1 [==============================] - 4s 4s/step - loss: 0.1792 - mae: 0.3240 - val_loss: 0.0831 - val_mae: 0.2168\n",
            "Epoch 295/750\n",
            "1/1 [==============================] - 4s 4s/step - loss: 0.1621 - mae: 0.3118 - val_loss: 0.0686 - val_mae: 0.2008\n",
            "Epoch 296/750\n",
            "1/1 [==============================] - 4s 4s/step - loss: 0.1294 - mae: 0.2772 - val_loss: 0.0459 - val_mae: 0.1557\n",
            "Epoch 297/750\n",
            "1/1 [==============================] - 4s 4s/step - loss: 0.1170 - mae: 0.2618 - val_loss: 0.0596 - val_mae: 0.1860\n",
            "Epoch 298/750\n",
            "1/1 [==============================] - 4s 4s/step - loss: 0.1182 - mae: 0.2633 - val_loss: 0.0446 - val_mae: 0.1520\n",
            "Epoch 299/750\n",
            "1/1 [==============================] - 4s 4s/step - loss: 0.1185 - mae: 0.2614 - val_loss: 0.0718 - val_mae: 0.2026\n",
            "Epoch 300/750\n",
            "1/1 [==============================] - 4s 4s/step - loss: 0.1264 - mae: 0.2699 - val_loss: 0.0464 - val_mae: 0.1574\n",
            "Epoch 301/750\n",
            "1/1 [==============================] - 4s 4s/step - loss: 0.1223 - mae: 0.2662 - val_loss: 0.0795 - val_mae: 0.2196\n",
            "Epoch 302/750\n",
            "1/1 [==============================] - 4s 4s/step - loss: 0.1324 - mae: 0.2792 - val_loss: 0.0547 - val_mae: 0.1755\n",
            "Epoch 303/750\n",
            "1/1 [==============================] - 4s 4s/step - loss: 0.1344 - mae: 0.2818 - val_loss: 0.0795 - val_mae: 0.2181\n",
            "Epoch 304/750\n",
            "1/1 [==============================] - 4s 4s/step - loss: 0.1385 - mae: 0.2853 - val_loss: 0.0502 - val_mae: 0.1675\n",
            "Epoch 305/750\n",
            "1/1 [==============================] - 4s 4s/step - loss: 0.1247 - mae: 0.2746 - val_loss: 0.0607 - val_mae: 0.1834\n",
            "Epoch 306/750\n",
            "1/1 [==============================] - 4s 4s/step - loss: 0.1203 - mae: 0.2635 - val_loss: 0.0439 - val_mae: 0.1563\n",
            "Epoch 307/750\n",
            "1/1 [==============================] - 4s 4s/step - loss: 0.1154 - mae: 0.2619 - val_loss: 0.0629 - val_mae: 0.1818\n",
            "Epoch 308/750\n",
            "1/1 [==============================] - 4s 4s/step - loss: 0.1207 - mae: 0.2618 - val_loss: 0.0518 - val_mae: 0.1673\n",
            "Epoch 309/750\n",
            "1/1 [==============================] - 4s 4s/step - loss: 0.1280 - mae: 0.2741 - val_loss: 0.0917 - val_mae: 0.2188\n",
            "Epoch 310/750\n",
            "1/1 [==============================] - 4s 4s/step - loss: 0.1456 - mae: 0.2866 - val_loss: 0.0696 - val_mae: 0.1937\n",
            "Epoch 311/750\n",
            "1/1 [==============================] - 4s 4s/step - loss: 0.1447 - mae: 0.2939 - val_loss: 0.0875 - val_mae: 0.2260\n",
            "Epoch 312/750\n",
            "1/1 [==============================] - 4s 4s/step - loss: 0.1452 - mae: 0.2919 - val_loss: 0.0572 - val_mae: 0.1746\n",
            "Epoch 313/750\n",
            "1/1 [==============================] - 4s 4s/step - loss: 0.1296 - mae: 0.2747 - val_loss: 0.0785 - val_mae: 0.2039\n",
            "Epoch 314/750\n",
            "1/1 [==============================] - 4s 4s/step - loss: 0.1386 - mae: 0.2849 - val_loss: 0.0943 - val_mae: 0.2521\n",
            "Epoch 315/750\n",
            "1/1 [==============================] - 4s 4s/step - loss: 0.1588 - mae: 0.3118 - val_loss: 0.1270 - val_mae: 0.2734\n",
            "Epoch 316/750\n",
            "1/1 [==============================] - 4s 4s/step - loss: 0.1903 - mae: 0.3434 - val_loss: 0.0931 - val_mae: 0.2429\n",
            "Epoch 317/750\n",
            "1/1 [==============================] - 4s 4s/step - loss: 0.1467 - mae: 0.2982 - val_loss: 0.0479 - val_mae: 0.1596\n",
            "Epoch 318/750\n",
            "1/1 [==============================] - 4s 4s/step - loss: 0.1212 - mae: 0.2652 - val_loss: 0.0623 - val_mae: 0.1900\n",
            "Epoch 319/750\n",
            "1/1 [==============================] - 4s 4s/step - loss: 0.1205 - mae: 0.2666 - val_loss: 0.0462 - val_mae: 0.1562\n",
            "Epoch 320/750\n",
            "1/1 [==============================] - 4s 4s/step - loss: 0.1177 - mae: 0.2597 - val_loss: 0.0681 - val_mae: 0.1934\n",
            "Epoch 321/750\n",
            "1/1 [==============================] - 4s 4s/step - loss: 0.1258 - mae: 0.2684 - val_loss: 0.0500 - val_mae: 0.1629\n",
            "Epoch 322/750\n",
            "1/1 [==============================] - 4s 4s/step - loss: 0.1200 - mae: 0.2630 - val_loss: 0.0633 - val_mae: 0.1866\n",
            "Epoch 323/750\n",
            "1/1 [==============================] - 4s 4s/step - loss: 0.1205 - mae: 0.2634 - val_loss: 0.0506 - val_mae: 0.1635\n",
            "Epoch 324/750\n",
            "1/1 [==============================] - 4s 4s/step - loss: 0.1209 - mae: 0.2636 - val_loss: 0.0635 - val_mae: 0.1902\n",
            "Epoch 325/750\n",
            "1/1 [==============================] - 4s 4s/step - loss: 0.1234 - mae: 0.2665 - val_loss: 0.0608 - val_mae: 0.1807\n",
            "Epoch 326/750\n",
            "1/1 [==============================] - 4s 4s/step - loss: 0.1300 - mae: 0.2751 - val_loss: 0.0781 - val_mae: 0.2199\n",
            "Epoch 327/750\n",
            "1/1 [==============================] - 4s 4s/step - loss: 0.1345 - mae: 0.2826 - val_loss: 0.0789 - val_mae: 0.2103\n",
            "Epoch 328/750\n",
            "1/1 [==============================] - 4s 4s/step - loss: 0.1428 - mae: 0.2939 - val_loss: 0.0714 - val_mae: 0.2128\n",
            "Epoch 329/750\n",
            "1/1 [==============================] - 4s 4s/step - loss: 0.1317 - mae: 0.2850 - val_loss: 0.0741 - val_mae: 0.2038\n",
            "Epoch 330/750\n",
            "1/1 [==============================] - 4s 4s/step - loss: 0.1382 - mae: 0.2871 - val_loss: 0.0607 - val_mae: 0.1818\n",
            "Epoch 331/750\n",
            "1/1 [==============================] - 4s 4s/step - loss: 0.1283 - mae: 0.2744 - val_loss: 0.0708 - val_mae: 0.2004\n",
            "Epoch 332/750\n",
            "1/1 [==============================] - 4s 4s/step - loss: 0.1369 - mae: 0.2825 - val_loss: 0.0540 - val_mae: 0.1708\n",
            "Epoch 333/750\n",
            "1/1 [==============================] - 4s 4s/step - loss: 0.1212 - mae: 0.2678 - val_loss: 0.0592 - val_mae: 0.1858\n",
            "Epoch 334/750\n",
            "1/1 [==============================] - 4s 4s/step - loss: 0.1183 - mae: 0.2618 - val_loss: 0.0495 - val_mae: 0.1650\n",
            "Epoch 335/750\n",
            "1/1 [==============================] - 4s 4s/step - loss: 0.1191 - mae: 0.2649 - val_loss: 0.0792 - val_mae: 0.2186\n",
            "Epoch 336/750\n",
            "1/1 [==============================] - 4s 4s/step - loss: 0.1365 - mae: 0.2842 - val_loss: 0.0820 - val_mae: 0.2061\n",
            "Epoch 337/750\n",
            "1/1 [==============================] - 4s 4s/step - loss: 0.1602 - mae: 0.3043 - val_loss: 0.1138 - val_mae: 0.2429\n",
            "Epoch 338/750\n",
            "1/1 [==============================] - 4s 4s/step - loss: 0.1639 - mae: 0.3004 - val_loss: 0.0557 - val_mae: 0.1737\n",
            "Epoch 339/750\n",
            "1/1 [==============================] - 4s 4s/step - loss: 0.1320 - mae: 0.2793 - val_loss: 0.0849 - val_mae: 0.2158\n",
            "Epoch 340/750\n",
            "1/1 [==============================] - 4s 4s/step - loss: 0.1355 - mae: 0.2793 - val_loss: 0.0487 - val_mae: 0.1648\n",
            "Epoch 341/750\n",
            "1/1 [==============================] - 4s 4s/step - loss: 0.1202 - mae: 0.2673 - val_loss: 0.0551 - val_mae: 0.1712\n",
            "Epoch 342/750\n",
            "1/1 [==============================] - 4s 4s/step - loss: 0.1163 - mae: 0.2581 - val_loss: 0.0471 - val_mae: 0.1624\n",
            "Epoch 343/750\n",
            "1/1 [==============================] - 4s 4s/step - loss: 0.1122 - mae: 0.2562 - val_loss: 0.0531 - val_mae: 0.1670\n",
            "Epoch 344/750\n",
            "1/1 [==============================] - 4s 4s/step - loss: 0.1191 - mae: 0.2615 - val_loss: 0.0755 - val_mae: 0.2149\n",
            "Epoch 345/750\n",
            "1/1 [==============================] - 4s 4s/step - loss: 0.1344 - mae: 0.2826 - val_loss: 0.0932 - val_mae: 0.2301\n",
            "Epoch 346/750\n",
            "1/1 [==============================] - 4s 4s/step - loss: 0.1582 - mae: 0.3056 - val_loss: 0.0945 - val_mae: 0.2458\n",
            "Epoch 347/750\n",
            "1/1 [==============================] - 4s 4s/step - loss: 0.1463 - mae: 0.2973 - val_loss: 0.0566 - val_mae: 0.1784\n",
            "Epoch 348/750\n",
            "1/1 [==============================] - 4s 4s/step - loss: 0.1239 - mae: 0.2713 - val_loss: 0.0608 - val_mae: 0.1894\n",
            "Epoch 349/750\n",
            "1/1 [==============================] - 4s 4s/step - loss: 0.1219 - mae: 0.2676 - val_loss: 0.0579 - val_mae: 0.1809\n",
            "Epoch 350/750\n",
            "1/1 [==============================] - 4s 4s/step - loss: 0.1257 - mae: 0.2737 - val_loss: 0.0579 - val_mae: 0.1801\n",
            "Epoch 351/750\n",
            "1/1 [==============================] - 4s 4s/step - loss: 0.1233 - mae: 0.2677 - val_loss: 0.0580 - val_mae: 0.1811\n",
            "Epoch 352/750\n",
            "1/1 [==============================] - 4s 4s/step - loss: 0.1245 - mae: 0.2705 - val_loss: 0.0532 - val_mae: 0.1709\n",
            "Epoch 353/750\n",
            "1/1 [==============================] - 4s 4s/step - loss: 0.1178 - mae: 0.2629 - val_loss: 0.0561 - val_mae: 0.1751\n",
            "Epoch 354/750\n",
            "1/1 [==============================] - 4s 4s/step - loss: 0.1226 - mae: 0.2641 - val_loss: 0.0586 - val_mae: 0.1778\n",
            "Epoch 355/750\n",
            "1/1 [==============================] - 4s 4s/step - loss: 0.1226 - mae: 0.2658 - val_loss: 0.0596 - val_mae: 0.1763\n",
            "Epoch 356/750\n",
            "1/1 [==============================] - 4s 4s/step - loss: 0.1265 - mae: 0.2693 - val_loss: 0.0680 - val_mae: 0.1940\n",
            "Epoch 357/750\n",
            "1/1 [==============================] - 4s 4s/step - loss: 0.1224 - mae: 0.2687 - val_loss: 0.0616 - val_mae: 0.1826\n",
            "Epoch 358/750\n",
            "1/1 [==============================] - 4s 4s/step - loss: 0.1288 - mae: 0.2740 - val_loss: 0.0831 - val_mae: 0.2246\n",
            "Epoch 359/750\n",
            "1/1 [==============================] - 4s 4s/step - loss: 0.1364 - mae: 0.2824 - val_loss: 0.0538 - val_mae: 0.1744\n",
            "Epoch 360/750\n",
            "1/1 [==============================] - 4s 4s/step - loss: 0.1255 - mae: 0.2701 - val_loss: 0.0789 - val_mae: 0.2157\n",
            "Epoch 361/750\n",
            "1/1 [==============================] - 4s 4s/step - loss: 0.1331 - mae: 0.2794 - val_loss: 0.0486 - val_mae: 0.1627\n",
            "Epoch 362/750\n",
            "1/1 [==============================] - 4s 4s/step - loss: 0.1250 - mae: 0.2693 - val_loss: 0.0815 - val_mae: 0.2139\n",
            "Epoch 363/750\n",
            "1/1 [==============================] - 4s 4s/step - loss: 0.1338 - mae: 0.2748 - val_loss: 0.0476 - val_mae: 0.1617\n",
            "Epoch 364/750\n",
            "1/1 [==============================] - 4s 4s/step - loss: 0.1227 - mae: 0.2686 - val_loss: 0.0760 - val_mae: 0.2069\n",
            "Epoch 365/750\n",
            "1/1 [==============================] - 4s 4s/step - loss: 0.1251 - mae: 0.2683 - val_loss: 0.0518 - val_mae: 0.1725\n",
            "Epoch 366/750\n",
            "1/1 [==============================] - 4s 4s/step - loss: 0.1264 - mae: 0.2717 - val_loss: 0.0756 - val_mae: 0.2048\n",
            "Epoch 367/750\n",
            "1/1 [==============================] - 4s 4s/step - loss: 0.1326 - mae: 0.2778 - val_loss: 0.0615 - val_mae: 0.1850\n",
            "Epoch 368/750\n",
            "1/1 [==============================] - 4s 4s/step - loss: 0.1257 - mae: 0.2740 - val_loss: 0.0667 - val_mae: 0.1882\n",
            "Epoch 369/750\n",
            "1/1 [==============================] - 4s 4s/step - loss: 0.1299 - mae: 0.2748 - val_loss: 0.0594 - val_mae: 0.1926\n",
            "Epoch 370/750\n",
            "1/1 [==============================] - 4s 4s/step - loss: 0.1194 - mae: 0.2686 - val_loss: 0.0595 - val_mae: 0.1829\n",
            "Epoch 371/750\n",
            "1/1 [==============================] - 4s 4s/step - loss: 0.1210 - mae: 0.2664 - val_loss: 0.0633 - val_mae: 0.2019\n",
            "Epoch 372/750\n",
            "1/1 [==============================] - 4s 4s/step - loss: 0.1220 - mae: 0.2701 - val_loss: 0.0638 - val_mae: 0.1871\n",
            "Epoch 373/750\n",
            "1/1 [==============================] - 4s 4s/step - loss: 0.1308 - mae: 0.2769 - val_loss: 0.0775 - val_mae: 0.2154\n",
            "Epoch 374/750\n",
            "1/1 [==============================] - 4s 4s/step - loss: 0.1372 - mae: 0.2866 - val_loss: 0.0697 - val_mae: 0.1944\n",
            "Epoch 375/750\n",
            "1/1 [==============================] - 4s 4s/step - loss: 0.1405 - mae: 0.2843 - val_loss: 0.0763 - val_mae: 0.1982\n",
            "Epoch 376/750\n",
            "1/1 [==============================] - 4s 4s/step - loss: 0.1351 - mae: 0.2754 - val_loss: 0.0478 - val_mae: 0.1600\n",
            "Epoch 377/750\n",
            "1/1 [==============================] - 4s 4s/step - loss: 0.1183 - mae: 0.2630 - val_loss: 0.0588 - val_mae: 0.1805\n",
            "Epoch 378/750\n",
            "1/1 [==============================] - 4s 4s/step - loss: 0.1163 - mae: 0.2591 - val_loss: 0.0465 - val_mae: 0.1595\n",
            "Epoch 379/750\n",
            "1/1 [==============================] - 4s 4s/step - loss: 0.1177 - mae: 0.2626 - val_loss: 0.0675 - val_mae: 0.2003\n",
            "Epoch 380/750\n",
            "1/1 [==============================] - 4s 4s/step - loss: 0.1215 - mae: 0.2659 - val_loss: 0.0493 - val_mae: 0.1661\n",
            "Epoch 381/750\n",
            "1/1 [==============================] - 4s 4s/step - loss: 0.1201 - mae: 0.2641 - val_loss: 0.0703 - val_mae: 0.2042\n",
            "Epoch 382/750\n",
            "1/1 [==============================] - 4s 4s/step - loss: 0.1243 - mae: 0.2690 - val_loss: 0.0440 - val_mae: 0.1553\n",
            "Epoch 383/750\n",
            "1/1 [==============================] - 4s 4s/step - loss: 0.1149 - mae: 0.2581 - val_loss: 0.0599 - val_mae: 0.1840\n",
            "Epoch 384/750\n",
            "1/1 [==============================] - 4s 4s/step - loss: 0.1161 - mae: 0.2578 - val_loss: 0.0474 - val_mae: 0.1601\n",
            "Epoch 385/750\n",
            "1/1 [==============================] - 4s 4s/step - loss: 0.1177 - mae: 0.2595 - val_loss: 0.0735 - val_mae: 0.1968\n",
            "Epoch 386/750\n",
            "1/1 [==============================] - 4s 4s/step - loss: 0.1274 - mae: 0.2669 - val_loss: 0.0539 - val_mae: 0.1715\n",
            "Epoch 387/750\n",
            "1/1 [==============================] - 4s 4s/step - loss: 0.1288 - mae: 0.2745 - val_loss: 0.0704 - val_mae: 0.2011\n",
            "Epoch 388/750\n",
            "1/1 [==============================] - 4s 4s/step - loss: 0.1288 - mae: 0.2744 - val_loss: 0.0561 - val_mae: 0.1739\n",
            "Epoch 389/750\n",
            "1/1 [==============================] - 4s 4s/step - loss: 0.1243 - mae: 0.2712 - val_loss: 0.0582 - val_mae: 0.1846\n",
            "Epoch 390/750\n",
            "1/1 [==============================] - 4s 4s/step - loss: 0.1205 - mae: 0.2661 - val_loss: 0.0458 - val_mae: 0.1578\n",
            "Epoch 391/750\n",
            "1/1 [==============================] - 4s 4s/step - loss: 0.1117 - mae: 0.2571 - val_loss: 0.0499 - val_mae: 0.1601\n",
            "Epoch 392/750\n",
            "1/1 [==============================] - 4s 4s/step - loss: 0.1115 - mae: 0.2518 - val_loss: 0.0420 - val_mae: 0.1528\n",
            "Epoch 393/750\n",
            "1/1 [==============================] - 4s 4s/step - loss: 0.1102 - mae: 0.2542 - val_loss: 0.0589 - val_mae: 0.1772\n",
            "Epoch 394/750\n",
            "1/1 [==============================] - 4s 4s/step - loss: 0.1167 - mae: 0.2573 - val_loss: 0.0633 - val_mae: 0.1961\n",
            "Epoch 395/750\n",
            "1/1 [==============================] - 4s 4s/step - loss: 0.1361 - mae: 0.2847 - val_loss: 0.1228 - val_mae: 0.2563\n",
            "Epoch 396/750\n",
            "1/1 [==============================] - 4s 4s/step - loss: 0.1720 - mae: 0.3206 - val_loss: 0.0534 - val_mae: 0.1741\n",
            "Epoch 397/750\n",
            "1/1 [==============================] - 4s 4s/step - loss: 0.1196 - mae: 0.2680 - val_loss: 0.0515 - val_mae: 0.1682\n",
            "Epoch 398/750\n",
            "1/1 [==============================] - 4s 4s/step - loss: 0.1195 - mae: 0.2633 - val_loss: 0.0605 - val_mae: 0.1833\n",
            "Epoch 399/750\n",
            "1/1 [==============================] - 4s 4s/step - loss: 0.1182 - mae: 0.2630 - val_loss: 0.0634 - val_mae: 0.1845\n",
            "Epoch 400/750\n",
            "1/1 [==============================] - 4s 4s/step - loss: 0.1244 - mae: 0.2697 - val_loss: 0.0763 - val_mae: 0.2180\n",
            "Epoch 401/750\n",
            "1/1 [==============================] - 4s 4s/step - loss: 0.1305 - mae: 0.2788 - val_loss: 0.0703 - val_mae: 0.1952\n",
            "Epoch 402/750\n",
            "1/1 [==============================] - 4s 4s/step - loss: 0.1426 - mae: 0.2853 - val_loss: 0.0954 - val_mae: 0.2310\n",
            "Epoch 403/750\n",
            "1/1 [==============================] - 4s 4s/step - loss: 0.1497 - mae: 0.2924 - val_loss: 0.0491 - val_mae: 0.1617\n",
            "Epoch 404/750\n",
            "1/1 [==============================] - 4s 4s/step - loss: 0.1186 - mae: 0.2616 - val_loss: 0.0543 - val_mae: 0.1762\n",
            "Epoch 405/750\n",
            "1/1 [==============================] - 4s 4s/step - loss: 0.1138 - mae: 0.2576 - val_loss: 0.0418 - val_mae: 0.1492\n",
            "Epoch 406/750\n",
            "1/1 [==============================] - 4s 4s/step - loss: 0.1088 - mae: 0.2501 - val_loss: 0.0494 - val_mae: 0.1706\n",
            "Epoch 407/750\n",
            "1/1 [==============================] - 4s 4s/step - loss: 0.1084 - mae: 0.2515 - val_loss: 0.0441 - val_mae: 0.1548\n",
            "Epoch 408/750\n",
            "1/1 [==============================] - 4s 4s/step - loss: 0.1104 - mae: 0.2532 - val_loss: 0.0563 - val_mae: 0.1807\n",
            "Epoch 409/750\n",
            "1/1 [==============================] - 4s 4s/step - loss: 0.1149 - mae: 0.2591 - val_loss: 0.0543 - val_mae: 0.1729\n",
            "Epoch 410/750\n",
            "1/1 [==============================] - 4s 4s/step - loss: 0.1180 - mae: 0.2621 - val_loss: 0.0617 - val_mae: 0.1874\n",
            "Epoch 411/750\n",
            "1/1 [==============================] - 4s 4s/step - loss: 0.1205 - mae: 0.2663 - val_loss: 0.0739 - val_mae: 0.1985\n",
            "Epoch 412/750\n",
            "1/1 [==============================] - 4s 4s/step - loss: 0.1347 - mae: 0.2798 - val_loss: 0.0572 - val_mae: 0.1785\n",
            "Epoch 413/750\n",
            "1/1 [==============================] - 4s 4s/step - loss: 0.1231 - mae: 0.2674 - val_loss: 0.0546 - val_mae: 0.1706\n",
            "Epoch 414/750\n",
            "1/1 [==============================] - 4s 4s/step - loss: 0.1213 - mae: 0.2640 - val_loss: 0.0486 - val_mae: 0.1652\n",
            "Epoch 415/750\n",
            "1/1 [==============================] - 4s 4s/step - loss: 0.1101 - mae: 0.2537 - val_loss: 0.0467 - val_mae: 0.1579\n",
            "Epoch 416/750\n",
            "1/1 [==============================] - 4s 4s/step - loss: 0.1111 - mae: 0.2538 - val_loss: 0.0544 - val_mae: 0.1790\n",
            "Epoch 417/750\n",
            "1/1 [==============================] - 4s 4s/step - loss: 0.1119 - mae: 0.2545 - val_loss: 0.0490 - val_mae: 0.1642\n",
            "Epoch 418/750\n",
            "1/1 [==============================] - 4s 4s/step - loss: 0.1200 - mae: 0.2615 - val_loss: 0.0914 - val_mae: 0.2317\n",
            "Epoch 419/750\n",
            "1/1 [==============================] - 4s 4s/step - loss: 0.1400 - mae: 0.2854 - val_loss: 0.0482 - val_mae: 0.1624\n",
            "Epoch 420/750\n",
            "1/1 [==============================] - 4s 4s/step - loss: 0.1250 - mae: 0.2700 - val_loss: 0.0864 - val_mae: 0.2307\n",
            "Epoch 421/750\n",
            "1/1 [==============================] - 4s 4s/step - loss: 0.1403 - mae: 0.2864 - val_loss: 0.0465 - val_mae: 0.1591\n",
            "Epoch 422/750\n",
            "1/1 [==============================] - 4s 4s/step - loss: 0.1201 - mae: 0.2637 - val_loss: 0.0664 - val_mae: 0.1953\n",
            "Epoch 423/750\n",
            "1/1 [==============================] - 4s 4s/step - loss: 0.1223 - mae: 0.2646 - val_loss: 0.0643 - val_mae: 0.1871\n",
            "Epoch 424/750\n",
            "1/1 [==============================] - 4s 4s/step - loss: 0.1318 - mae: 0.2774 - val_loss: 0.0816 - val_mae: 0.2010\n",
            "Epoch 425/750\n",
            "1/1 [==============================] - 4s 4s/step - loss: 0.1366 - mae: 0.2752 - val_loss: 0.0506 - val_mae: 0.1704\n",
            "Epoch 426/750\n",
            "1/1 [==============================] - 4s 4s/step - loss: 0.1192 - mae: 0.2655 - val_loss: 0.0669 - val_mae: 0.1898\n",
            "Epoch 427/750\n",
            "1/1 [==============================] - 4s 4s/step - loss: 0.1201 - mae: 0.2631 - val_loss: 0.0481 - val_mae: 0.1679\n",
            "Epoch 428/750\n",
            "1/1 [==============================] - 4s 4s/step - loss: 0.1138 - mae: 0.2595 - val_loss: 0.0570 - val_mae: 0.1739\n",
            "Epoch 429/750\n",
            "1/1 [==============================] - 4s 4s/step - loss: 0.1155 - mae: 0.2582 - val_loss: 0.0526 - val_mae: 0.1766\n",
            "Epoch 430/750\n",
            "1/1 [==============================] - 4s 4s/step - loss: 0.1144 - mae: 0.2593 - val_loss: 0.0571 - val_mae: 0.1752\n",
            "Epoch 431/750\n",
            "1/1 [==============================] - 4s 4s/step - loss: 0.1223 - mae: 0.2667 - val_loss: 0.0666 - val_mae: 0.2049\n",
            "Epoch 432/750\n",
            "1/1 [==============================] - 4s 4s/step - loss: 0.1229 - mae: 0.2707 - val_loss: 0.0665 - val_mae: 0.1929\n",
            "Epoch 433/750\n",
            "1/1 [==============================] - 4s 4s/step - loss: 0.1347 - mae: 0.2826 - val_loss: 0.0781 - val_mae: 0.2200\n",
            "Epoch 434/750\n",
            "1/1 [==============================] - 4s 4s/step - loss: 0.1311 - mae: 0.2802 - val_loss: 0.0580 - val_mae: 0.1781\n",
            "Epoch 435/750\n",
            "1/1 [==============================] - 4s 4s/step - loss: 0.1270 - mae: 0.2701 - val_loss: 0.0570 - val_mae: 0.1846\n",
            "Epoch 436/750\n",
            "1/1 [==============================] - 4s 4s/step - loss: 0.1188 - mae: 0.2638 - val_loss: 0.0462 - val_mae: 0.1547\n",
            "Epoch 437/750\n",
            "1/1 [==============================] - 4s 4s/step - loss: 0.1105 - mae: 0.2498 - val_loss: 0.0461 - val_mae: 0.1623\n",
            "Epoch 438/750\n",
            "1/1 [==============================] - 4s 4s/step - loss: 0.1067 - mae: 0.2481 - val_loss: 0.0396 - val_mae: 0.1447\n",
            "Epoch 439/750\n",
            "1/1 [==============================] - 4s 4s/step - loss: 0.1070 - mae: 0.2458 - val_loss: 0.0513 - val_mae: 0.1676\n",
            "Epoch 440/750\n",
            "1/1 [==============================] - 4s 4s/step - loss: 0.1077 - mae: 0.2490 - val_loss: 0.0502 - val_mae: 0.1622\n",
            "Epoch 441/750\n",
            "1/1 [==============================] - 4s 4s/step - loss: 0.1154 - mae: 0.2563 - val_loss: 0.0644 - val_mae: 0.1903\n",
            "Epoch 442/750\n",
            "1/1 [==============================] - 4s 4s/step - loss: 0.1190 - mae: 0.2623 - val_loss: 0.0593 - val_mae: 0.1788\n",
            "Epoch 443/750\n",
            "1/1 [==============================] - 4s 4s/step - loss: 0.1227 - mae: 0.2674 - val_loss: 0.0626 - val_mae: 0.1922\n",
            "Epoch 444/750\n",
            "1/1 [==============================] - 4s 4s/step - loss: 0.1245 - mae: 0.2681 - val_loss: 0.0501 - val_mae: 0.1651\n",
            "Epoch 445/750\n",
            "1/1 [==============================] - 4s 4s/step - loss: 0.1179 - mae: 0.2622 - val_loss: 0.0566 - val_mae: 0.1833\n",
            "Epoch 446/750\n",
            "1/1 [==============================] - 4s 4s/step - loss: 0.1126 - mae: 0.2536 - val_loss: 0.0394 - val_mae: 0.1455\n",
            "Epoch 447/750\n",
            "1/1 [==============================] - 4s 4s/step - loss: 0.1104 - mae: 0.2518 - val_loss: 0.0716 - val_mae: 0.2066\n",
            "Epoch 448/750\n",
            "1/1 [==============================] - 4s 4s/step - loss: 0.1218 - mae: 0.2634 - val_loss: 0.0449 - val_mae: 0.1533\n",
            "Epoch 449/750\n",
            "1/1 [==============================] - 4s 4s/step - loss: 0.1223 - mae: 0.2647 - val_loss: 0.0812 - val_mae: 0.2229\n",
            "Epoch 450/750\n",
            "1/1 [==============================] - 4s 4s/step - loss: 0.1299 - mae: 0.2733 - val_loss: 0.0417 - val_mae: 0.1499\n",
            "Epoch 451/750\n",
            "1/1 [==============================] - 4s 4s/step - loss: 0.1133 - mae: 0.2565 - val_loss: 0.0594 - val_mae: 0.1841\n",
            "Epoch 452/750\n",
            "1/1 [==============================] - 4s 4s/step - loss: 0.1160 - mae: 0.2566 - val_loss: 0.0532 - val_mae: 0.1707\n",
            "Epoch 453/750\n",
            "1/1 [==============================] - 4s 4s/step - loss: 0.1174 - mae: 0.2629 - val_loss: 0.0728 - val_mae: 0.1945\n",
            "Epoch 454/750\n",
            "1/1 [==============================] - 4s 4s/step - loss: 0.1313 - mae: 0.2757 - val_loss: 0.0585 - val_mae: 0.1940\n",
            "Epoch 455/750\n",
            "1/1 [==============================] - 4s 4s/step - loss: 0.1197 - mae: 0.2692 - val_loss: 0.0624 - val_mae: 0.1884\n",
            "Epoch 456/750\n",
            "1/1 [==============================] - 4s 4s/step - loss: 0.1219 - mae: 0.2670 - val_loss: 0.0526 - val_mae: 0.1861\n",
            "Epoch 457/750\n",
            "1/1 [==============================] - 4s 4s/step - loss: 0.1158 - mae: 0.2636 - val_loss: 0.0558 - val_mae: 0.1742\n",
            "Epoch 458/750\n",
            "1/1 [==============================] - 4s 4s/step - loss: 0.1186 - mae: 0.2623 - val_loss: 0.0516 - val_mae: 0.1758\n",
            "Epoch 459/750\n",
            "1/1 [==============================] - 4s 4s/step - loss: 0.1130 - mae: 0.2589 - val_loss: 0.0574 - val_mae: 0.1756\n",
            "Epoch 460/750\n",
            "1/1 [==============================] - 4s 4s/step - loss: 0.1217 - mae: 0.2643 - val_loss: 0.0722 - val_mae: 0.1929\n",
            "Epoch 461/750\n",
            "1/1 [==============================] - 4s 4s/step - loss: 0.1274 - mae: 0.2669 - val_loss: 0.0524 - val_mae: 0.1670\n",
            "Epoch 462/750\n",
            "1/1 [==============================] - 4s 4s/step - loss: 0.1198 - mae: 0.2627 - val_loss: 0.0572 - val_mae: 0.1806\n",
            "Epoch 463/750\n",
            "1/1 [==============================] - 4s 4s/step - loss: 0.1128 - mae: 0.2557 - val_loss: 0.0422 - val_mae: 0.1498\n",
            "Epoch 464/750\n",
            "1/1 [==============================] - 4s 4s/step - loss: 0.1111 - mae: 0.2519 - val_loss: 0.0593 - val_mae: 0.1899\n",
            "Epoch 465/750\n",
            "1/1 [==============================] - 4s 4s/step - loss: 0.1144 - mae: 0.2568 - val_loss: 0.0437 - val_mae: 0.1529\n",
            "Epoch 466/750\n",
            "1/1 [==============================] - 4s 4s/step - loss: 0.1122 - mae: 0.2540 - val_loss: 0.0663 - val_mae: 0.1973\n",
            "Epoch 467/750\n",
            "1/1 [==============================] - 4s 4s/step - loss: 0.1181 - mae: 0.2612 - val_loss: 0.0443 - val_mae: 0.1540\n",
            "Epoch 468/750\n",
            "1/1 [==============================] - 4s 4s/step - loss: 0.1113 - mae: 0.2526 - val_loss: 0.0547 - val_mae: 0.1775\n",
            "Epoch 469/750\n",
            "1/1 [==============================] - 4s 4s/step - loss: 0.1123 - mae: 0.2541 - val_loss: 0.0500 - val_mae: 0.1646\n",
            "Epoch 470/750\n",
            "1/1 [==============================] - 4s 4s/step - loss: 0.1140 - mae: 0.2572 - val_loss: 0.0563 - val_mae: 0.1757\n",
            "Epoch 471/750\n",
            "1/1 [==============================] - 4s 4s/step - loss: 0.1165 - mae: 0.2588 - val_loss: 0.0525 - val_mae: 0.1705\n",
            "Epoch 472/750\n",
            "1/1 [==============================] - 4s 4s/step - loss: 0.1167 - mae: 0.2606 - val_loss: 0.0445 - val_mae: 0.1537\n",
            "Epoch 473/750\n",
            "1/1 [==============================] - 4s 4s/step - loss: 0.1098 - mae: 0.2517 - val_loss: 0.0494 - val_mae: 0.1704\n",
            "Epoch 474/750\n",
            "1/1 [==============================] - 4s 4s/step - loss: 0.1098 - mae: 0.2522 - val_loss: 0.0420 - val_mae: 0.1481\n",
            "Epoch 475/750\n",
            "1/1 [==============================] - 4s 4s/step - loss: 0.1107 - mae: 0.2532 - val_loss: 0.0731 - val_mae: 0.2141\n",
            "Epoch 476/750\n",
            "1/1 [==============================] - 4s 4s/step - loss: 0.1256 - mae: 0.2707 - val_loss: 0.0683 - val_mae: 0.1812\n",
            "Epoch 477/750\n",
            "1/1 [==============================] - 4s 4s/step - loss: 0.1420 - mae: 0.2835 - val_loss: 0.0896 - val_mae: 0.2158\n",
            "Epoch 478/750\n",
            "1/1 [==============================] - 4s 4s/step - loss: 0.1388 - mae: 0.2767 - val_loss: 0.0459 - val_mae: 0.1585\n",
            "Epoch 479/750\n",
            "1/1 [==============================] - 4s 4s/step - loss: 0.1186 - mae: 0.2642 - val_loss: 0.0673 - val_mae: 0.1986\n",
            "Epoch 480/750\n",
            "1/1 [==============================] - 4s 4s/step - loss: 0.1209 - mae: 0.2661 - val_loss: 0.0409 - val_mae: 0.1512\n",
            "Epoch 481/750\n",
            "1/1 [==============================] - 4s 4s/step - loss: 0.1109 - mae: 0.2548 - val_loss: 0.0520 - val_mae: 0.1721\n",
            "Epoch 482/750\n",
            "1/1 [==============================] - 4s 4s/step - loss: 0.1104 - mae: 0.2525 - val_loss: 0.0465 - val_mae: 0.1637\n",
            "Epoch 483/750\n",
            "1/1 [==============================] - 4s 4s/step - loss: 0.1109 - mae: 0.2544 - val_loss: 0.0679 - val_mae: 0.1923\n",
            "Epoch 484/750\n",
            "1/1 [==============================] - 4s 4s/step - loss: 0.1274 - mae: 0.2741 - val_loss: 0.0695 - val_mae: 0.2114\n",
            "Epoch 485/750\n",
            "1/1 [==============================] - 4s 4s/step - loss: 0.1277 - mae: 0.2773 - val_loss: 0.0694 - val_mae: 0.1959\n",
            "Epoch 486/750\n",
            "1/1 [==============================] - 4s 4s/step - loss: 0.1332 - mae: 0.2791 - val_loss: 0.0642 - val_mae: 0.2001\n",
            "Epoch 487/750\n",
            "1/1 [==============================] - 4s 4s/step - loss: 0.1211 - mae: 0.2671 - val_loss: 0.0470 - val_mae: 0.1581\n",
            "Epoch 488/750\n",
            "1/1 [==============================] - 4s 4s/step - loss: 0.1126 - mae: 0.2537 - val_loss: 0.0556 - val_mae: 0.1824\n",
            "Epoch 489/750\n",
            "1/1 [==============================] - 4s 4s/step - loss: 0.1104 - mae: 0.2537 - val_loss: 0.0411 - val_mae: 0.1475\n",
            "Epoch 490/750\n",
            "1/1 [==============================] - 4s 4s/step - loss: 0.1077 - mae: 0.2478 - val_loss: 0.0484 - val_mae: 0.1691\n",
            "Epoch 491/750\n",
            "1/1 [==============================] - 4s 4s/step - loss: 0.1069 - mae: 0.2478 - val_loss: 0.0375 - val_mae: 0.1414\n",
            "Epoch 492/750\n",
            "1/1 [==============================] - 4s 4s/step - loss: 0.1048 - mae: 0.2440 - val_loss: 0.0495 - val_mae: 0.1699\n",
            "Epoch 493/750\n",
            "1/1 [==============================] - 4s 4s/step - loss: 0.1055 - mae: 0.2460 - val_loss: 0.0423 - val_mae: 0.1505\n",
            "Epoch 494/750\n",
            "1/1 [==============================] - 4s 4s/step - loss: 0.1096 - mae: 0.2497 - val_loss: 0.0600 - val_mae: 0.1820\n",
            "Epoch 495/750\n",
            "1/1 [==============================] - 4s 4s/step - loss: 0.1158 - mae: 0.2559 - val_loss: 0.0523 - val_mae: 0.1670\n",
            "Epoch 496/750\n",
            "1/1 [==============================] - 4s 4s/step - loss: 0.1176 - mae: 0.2603 - val_loss: 0.0631 - val_mae: 0.1849\n",
            "Epoch 497/750\n",
            "1/1 [==============================] - 4s 4s/step - loss: 0.1211 - mae: 0.2611 - val_loss: 0.0497 - val_mae: 0.1674\n",
            "Epoch 498/750\n",
            "1/1 [==============================] - 4s 4s/step - loss: 0.1195 - mae: 0.2649 - val_loss: 0.0532 - val_mae: 0.1793\n",
            "Epoch 499/750\n",
            "1/1 [==============================] - 4s 4s/step - loss: 0.1129 - mae: 0.2571 - val_loss: 0.0513 - val_mae: 0.1666\n",
            "Epoch 500/750\n",
            "1/1 [==============================] - 4s 4s/step - loss: 0.1145 - mae: 0.2577 - val_loss: 0.0495 - val_mae: 0.1711\n",
            "Epoch 501/750\n",
            "1/1 [==============================] - 4s 4s/step - loss: 0.1119 - mae: 0.2559 - val_loss: 0.0486 - val_mae: 0.1607\n",
            "Epoch 502/750\n",
            "1/1 [==============================] - 4s 4s/step - loss: 0.1134 - mae: 0.2524 - val_loss: 0.0441 - val_mae: 0.1568\n",
            "Epoch 503/750\n",
            "1/1 [==============================] - 4s 4s/step - loss: 0.1102 - mae: 0.2506 - val_loss: 0.0469 - val_mae: 0.1597\n",
            "Epoch 504/750\n",
            "1/1 [==============================] - 4s 4s/step - loss: 0.1099 - mae: 0.2490 - val_loss: 0.0518 - val_mae: 0.1639\n",
            "Epoch 505/750\n",
            "1/1 [==============================] - 4s 4s/step - loss: 0.1142 - mae: 0.2552 - val_loss: 0.0735 - val_mae: 0.1980\n",
            "Epoch 506/750\n",
            "1/1 [==============================] - 4s 4s/step - loss: 0.1319 - mae: 0.2739 - val_loss: 0.0504 - val_mae: 0.1671\n",
            "Epoch 507/750\n",
            "1/1 [==============================] - 4s 4s/step - loss: 0.1193 - mae: 0.2658 - val_loss: 0.0632 - val_mae: 0.1884\n",
            "Epoch 508/750\n",
            "1/1 [==============================] - 4s 4s/step - loss: 0.1228 - mae: 0.2666 - val_loss: 0.0444 - val_mae: 0.1624\n",
            "Epoch 509/750\n",
            "1/1 [==============================] - 4s 4s/step - loss: 0.1093 - mae: 0.2543 - val_loss: 0.0565 - val_mae: 0.1774\n",
            "Epoch 510/750\n",
            "1/1 [==============================] - 4s 4s/step - loss: 0.1145 - mae: 0.2576 - val_loss: 0.0592 - val_mae: 0.1878\n",
            "Epoch 511/750\n",
            "1/1 [==============================] - 4s 4s/step - loss: 0.1212 - mae: 0.2681 - val_loss: 0.0605 - val_mae: 0.1760\n",
            "Epoch 512/750\n",
            "1/1 [==============================] - 4s 4s/step - loss: 0.1174 - mae: 0.2559 - val_loss: 0.0394 - val_mae: 0.1490\n",
            "Epoch 513/750\n",
            "1/1 [==============================] - 4s 4s/step - loss: 0.1065 - mae: 0.2491 - val_loss: 0.0542 - val_mae: 0.1757\n",
            "Epoch 514/750\n",
            "1/1 [==============================] - 4s 4s/step - loss: 0.1097 - mae: 0.2496 - val_loss: 0.0407 - val_mae: 0.1480\n",
            "Epoch 515/750\n",
            "1/1 [==============================] - 4s 4s/step - loss: 0.1108 - mae: 0.2539 - val_loss: 0.0619 - val_mae: 0.1935\n",
            "Epoch 516/750\n",
            "1/1 [==============================] - 4s 4s/step - loss: 0.1140 - mae: 0.2557 - val_loss: 0.0383 - val_mae: 0.1408\n",
            "Epoch 517/750\n",
            "1/1 [==============================] - 4s 4s/step - loss: 0.1107 - mae: 0.2508 - val_loss: 0.0640 - val_mae: 0.1949\n",
            "Epoch 518/750\n",
            "1/1 [==============================] - 4s 4s/step - loss: 0.1140 - mae: 0.2536 - val_loss: 0.0414 - val_mae: 0.1506\n",
            "Epoch 519/750\n",
            "1/1 [==============================] - 4s 4s/step - loss: 0.1129 - mae: 0.2533 - val_loss: 0.0761 - val_mae: 0.2159\n",
            "Epoch 520/750\n",
            "1/1 [==============================] - 4s 4s/step - loss: 0.1282 - mae: 0.2735 - val_loss: 0.0677 - val_mae: 0.1900\n",
            "Epoch 521/750\n",
            "1/1 [==============================] - 4s 4s/step - loss: 0.1287 - mae: 0.2726 - val_loss: 0.0661 - val_mae: 0.2038\n",
            "Epoch 522/750\n",
            "1/1 [==============================] - 4s 4s/step - loss: 0.1235 - mae: 0.2709 - val_loss: 0.0542 - val_mae: 0.1710\n",
            "Epoch 523/750\n",
            "1/1 [==============================] - 4s 4s/step - loss: 0.1191 - mae: 0.2626 - val_loss: 0.0501 - val_mae: 0.1746\n",
            "Epoch 524/750\n",
            "1/1 [==============================] - 4s 4s/step - loss: 0.1113 - mae: 0.2562 - val_loss: 0.0506 - val_mae: 0.1658\n",
            "Epoch 525/750\n",
            "1/1 [==============================] - 4s 4s/step - loss: 0.1113 - mae: 0.2524 - val_loss: 0.0440 - val_mae: 0.1591\n",
            "Epoch 526/750\n",
            "1/1 [==============================] - 4s 4s/step - loss: 0.1076 - mae: 0.2501 - val_loss: 0.0462 - val_mae: 0.1602\n",
            "Epoch 527/750\n",
            "1/1 [==============================] - 4s 4s/step - loss: 0.1078 - mae: 0.2477 - val_loss: 0.0424 - val_mae: 0.1511\n",
            "Epoch 528/750\n",
            "1/1 [==============================] - 4s 4s/step - loss: 0.1063 - mae: 0.2451 - val_loss: 0.0449 - val_mae: 0.1594\n",
            "Epoch 529/750\n",
            "1/1 [==============================] - 4s 4s/step - loss: 0.1059 - mae: 0.2464 - val_loss: 0.0453 - val_mae: 0.1527\n",
            "Epoch 530/750\n",
            "1/1 [==============================] - 4s 4s/step - loss: 0.1054 - mae: 0.2435 - val_loss: 0.0437 - val_mae: 0.1561\n",
            "Epoch 531/750\n",
            "1/1 [==============================] - 4s 4s/step - loss: 0.1073 - mae: 0.2489 - val_loss: 0.0500 - val_mae: 0.1591\n",
            "Epoch 532/750\n",
            "1/1 [==============================] - 4s 4s/step - loss: 0.1096 - mae: 0.2476 - val_loss: 0.0479 - val_mae: 0.1613\n",
            "Epoch 533/750\n",
            "1/1 [==============================] - 4s 4s/step - loss: 0.1090 - mae: 0.2507 - val_loss: 0.0494 - val_mae: 0.1617\n",
            "Epoch 534/750\n",
            "1/1 [==============================] - 4s 4s/step - loss: 0.1097 - mae: 0.2498 - val_loss: 0.0514 - val_mae: 0.1661\n",
            "Epoch 535/750\n",
            "1/1 [==============================] - 4s 4s/step - loss: 0.1132 - mae: 0.2549 - val_loss: 0.0559 - val_mae: 0.1832\n",
            "Epoch 536/750\n",
            "1/1 [==============================] - 4s 4s/step - loss: 0.1146 - mae: 0.2607 - val_loss: 0.0492 - val_mae: 0.1648\n",
            "Epoch 537/750\n",
            "1/1 [==============================] - 4s 4s/step - loss: 0.1146 - mae: 0.2568 - val_loss: 0.0562 - val_mae: 0.1885\n",
            "Epoch 538/750\n",
            "1/1 [==============================] - 4s 4s/step - loss: 0.1133 - mae: 0.2584 - val_loss: 0.0456 - val_mae: 0.1575\n",
            "Epoch 539/750\n",
            "1/1 [==============================] - 4s 4s/step - loss: 0.1110 - mae: 0.2496 - val_loss: 0.0555 - val_mae: 0.1866\n",
            "Epoch 540/750\n",
            "1/1 [==============================] - 4s 4s/step - loss: 0.1102 - mae: 0.2541 - val_loss: 0.0479 - val_mae: 0.1610\n",
            "Epoch 541/750\n",
            "1/1 [==============================] - 4s 4s/step - loss: 0.1149 - mae: 0.2554 - val_loss: 0.0893 - val_mae: 0.2272\n",
            "Epoch 542/750\n",
            "1/1 [==============================] - 4s 4s/step - loss: 0.1386 - mae: 0.2817 - val_loss: 0.0531 - val_mae: 0.1650\n",
            "Epoch 543/750\n",
            "1/1 [==============================] - 4s 4s/step - loss: 0.1245 - mae: 0.2645 - val_loss: 0.0573 - val_mae: 0.1813\n",
            "Epoch 544/750\n",
            "1/1 [==============================] - 4s 4s/step - loss: 0.1152 - mae: 0.2572 - val_loss: 0.0381 - val_mae: 0.1404\n",
            "Epoch 545/750\n",
            "1/1 [==============================] - 4s 4s/step - loss: 0.1047 - mae: 0.2426 - val_loss: 0.0484 - val_mae: 0.1634\n",
            "Epoch 546/750\n",
            "1/1 [==============================] - 4s 4s/step - loss: 0.1065 - mae: 0.2438 - val_loss: 0.0331 - val_mae: 0.1320\n",
            "Epoch 547/750\n",
            "1/1 [==============================] - 4s 4s/step - loss: 0.1005 - mae: 0.2390 - val_loss: 0.0423 - val_mae: 0.1568\n",
            "Epoch 548/750\n",
            "1/1 [==============================] - 4s 4s/step - loss: 0.1009 - mae: 0.2382 - val_loss: 0.0323 - val_mae: 0.1309\n",
            "Epoch 549/750\n",
            "1/1 [==============================] - 4s 4s/step - loss: 0.1027 - mae: 0.2414 - val_loss: 0.0610 - val_mae: 0.1934\n",
            "Epoch 550/750\n",
            "1/1 [==============================] - 4s 4s/step - loss: 0.1121 - mae: 0.2526 - val_loss: 0.0431 - val_mae: 0.1563\n",
            "Epoch 551/750\n",
            "1/1 [==============================] - 4s 4s/step - loss: 0.1199 - mae: 0.2630 - val_loss: 0.0725 - val_mae: 0.2071\n",
            "Epoch 552/750\n",
            "1/1 [==============================] - 4s 4s/step - loss: 0.1274 - mae: 0.2714 - val_loss: 0.0465 - val_mae: 0.1601\n",
            "Epoch 553/750\n",
            "1/1 [==============================] - 4s 4s/step - loss: 0.1110 - mae: 0.2559 - val_loss: 0.0612 - val_mae: 0.1796\n",
            "Epoch 554/750\n",
            "1/1 [==============================] - 4s 4s/step - loss: 0.1206 - mae: 0.2621 - val_loss: 0.0572 - val_mae: 0.1860\n",
            "Epoch 555/750\n",
            "1/1 [==============================] - 4s 4s/step - loss: 0.1146 - mae: 0.2593 - val_loss: 0.0656 - val_mae: 0.1862\n",
            "Epoch 556/750\n",
            "1/1 [==============================] - 4s 4s/step - loss: 0.1234 - mae: 0.2678 - val_loss: 0.0668 - val_mae: 0.1991\n",
            "Epoch 557/750\n",
            "1/1 [==============================] - 4s 4s/step - loss: 0.1230 - mae: 0.2663 - val_loss: 0.0411 - val_mae: 0.1487\n",
            "Epoch 558/750\n",
            "1/1 [==============================] - 4s 4s/step - loss: 0.1091 - mae: 0.2507 - val_loss: 0.0593 - val_mae: 0.1866\n",
            "Epoch 559/750\n",
            "1/1 [==============================] - 4s 4s/step - loss: 0.1128 - mae: 0.2555 - val_loss: 0.0460 - val_mae: 0.1556\n",
            "Epoch 560/750\n",
            "1/1 [==============================] - 4s 4s/step - loss: 0.1129 - mae: 0.2538 - val_loss: 0.0566 - val_mae: 0.1812\n",
            "Epoch 561/750\n",
            "1/1 [==============================] - 4s 4s/step - loss: 0.1129 - mae: 0.2544 - val_loss: 0.0400 - val_mae: 0.1457\n",
            "Epoch 562/750\n",
            "1/1 [==============================] - 4s 4s/step - loss: 0.1045 - mae: 0.2448 - val_loss: 0.0465 - val_mae: 0.1617\n",
            "Epoch 563/750\n",
            "1/1 [==============================] - 4s 4s/step - loss: 0.1047 - mae: 0.2434 - val_loss: 0.0412 - val_mae: 0.1467\n",
            "Epoch 564/750\n",
            "1/1 [==============================] - 4s 4s/step - loss: 0.1032 - mae: 0.2404 - val_loss: 0.0437 - val_mae: 0.1568\n",
            "Epoch 565/750\n",
            "1/1 [==============================] - 4s 4s/step - loss: 0.1042 - mae: 0.2434 - val_loss: 0.0431 - val_mae: 0.1491\n",
            "Epoch 566/750\n",
            "1/1 [==============================] - 4s 4s/step - loss: 0.1051 - mae: 0.2427 - val_loss: 0.0500 - val_mae: 0.1680\n",
            "Epoch 567/750\n",
            "1/1 [==============================] - 4s 4s/step - loss: 0.1075 - mae: 0.2488 - val_loss: 0.0520 - val_mae: 0.1649\n",
            "Epoch 568/750\n",
            "1/1 [==============================] - 4s 4s/step - loss: 0.1135 - mae: 0.2543 - val_loss: 0.0501 - val_mae: 0.1729\n",
            "Epoch 569/750\n",
            "1/1 [==============================] - 4s 4s/step - loss: 0.1114 - mae: 0.2544 - val_loss: 0.0539 - val_mae: 0.1704\n",
            "Epoch 570/750\n",
            "1/1 [==============================] - 4s 4s/step - loss: 0.1138 - mae: 0.2569 - val_loss: 0.0450 - val_mae: 0.1603\n",
            "Epoch 571/750\n",
            "1/1 [==============================] - 4s 4s/step - loss: 0.1075 - mae: 0.2482 - val_loss: 0.0441 - val_mae: 0.1532\n",
            "Epoch 572/750\n",
            "1/1 [==============================] - 4s 4s/step - loss: 0.1039 - mae: 0.2429 - val_loss: 0.0384 - val_mae: 0.1457\n",
            "Epoch 573/750\n",
            "1/1 [==============================] - 4s 4s/step - loss: 0.1010 - mae: 0.2395 - val_loss: 0.0433 - val_mae: 0.1527\n",
            "Epoch 574/750\n",
            "1/1 [==============================] - 4s 4s/step - loss: 0.1028 - mae: 0.2422 - val_loss: 0.0453 - val_mae: 0.1609\n",
            "Epoch 575/750\n",
            "1/1 [==============================] - 4s 4s/step - loss: 0.1069 - mae: 0.2493 - val_loss: 0.0647 - val_mae: 0.1887\n",
            "Epoch 576/750\n",
            "1/1 [==============================] - 4s 4s/step - loss: 0.1198 - mae: 0.2624 - val_loss: 0.0487 - val_mae: 0.1660\n",
            "Epoch 577/750\n",
            "1/1 [==============================] - 4s 4s/step - loss: 0.1178 - mae: 0.2636 - val_loss: 0.0873 - val_mae: 0.2262\n",
            "Epoch 578/750\n",
            "1/1 [==============================] - 4s 4s/step - loss: 0.1323 - mae: 0.2771 - val_loss: 0.0441 - val_mae: 0.1554\n",
            "Epoch 579/750\n",
            "1/1 [==============================] - 4s 4s/step - loss: 0.1173 - mae: 0.2626 - val_loss: 0.0541 - val_mae: 0.1832\n",
            "Epoch 580/750\n",
            "1/1 [==============================] - 4s 4s/step - loss: 0.1096 - mae: 0.2501 - val_loss: 0.0379 - val_mae: 0.1382\n",
            "Epoch 581/750\n",
            "1/1 [==============================] - 4s 4s/step - loss: 0.1052 - mae: 0.2428 - val_loss: 0.0589 - val_mae: 0.1836\n",
            "Epoch 582/750\n",
            "1/1 [==============================] - 4s 4s/step - loss: 0.1120 - mae: 0.2497 - val_loss: 0.0339 - val_mae: 0.1335\n",
            "Epoch 583/750\n",
            "1/1 [==============================] - 4s 4s/step - loss: 0.1022 - mae: 0.2404 - val_loss: 0.0495 - val_mae: 0.1736\n",
            "Epoch 584/750\n",
            "1/1 [==============================] - 4s 4s/step - loss: 0.1044 - mae: 0.2441 - val_loss: 0.0440 - val_mae: 0.1551\n",
            "Epoch 585/750\n",
            "1/1 [==============================] - 4s 4s/step - loss: 0.1102 - mae: 0.2515 - val_loss: 0.0745 - val_mae: 0.2181\n",
            "Epoch 586/750\n",
            "1/1 [==============================] - 4s 4s/step - loss: 0.1268 - mae: 0.2737 - val_loss: 0.0712 - val_mae: 0.1940\n",
            "Epoch 587/750\n",
            "1/1 [==============================] - 4s 4s/step - loss: 0.1305 - mae: 0.2751 - val_loss: 0.0530 - val_mae: 0.1816\n",
            "Epoch 588/750\n",
            "1/1 [==============================] - 4s 4s/step - loss: 0.1120 - mae: 0.2554 - val_loss: 0.0417 - val_mae: 0.1482\n",
            "Epoch 589/750\n",
            "1/1 [==============================] - 4s 4s/step - loss: 0.1056 - mae: 0.2444 - val_loss: 0.0419 - val_mae: 0.1574\n",
            "Epoch 590/750\n",
            "1/1 [==============================] - 4s 4s/step - loss: 0.1011 - mae: 0.2413 - val_loss: 0.0382 - val_mae: 0.1430\n",
            "Epoch 591/750\n",
            "1/1 [==============================] - 4s 4s/step - loss: 0.1010 - mae: 0.2389 - val_loss: 0.0428 - val_mae: 0.1542\n",
            "Epoch 592/750\n",
            "1/1 [==============================] - 4s 4s/step - loss: 0.1012 - mae: 0.2408 - val_loss: 0.0449 - val_mae: 0.1591\n",
            "Epoch 593/750\n",
            "1/1 [==============================] - 4s 4s/step - loss: 0.1054 - mae: 0.2460 - val_loss: 0.0443 - val_mae: 0.1533\n",
            "Epoch 594/750\n",
            "1/1 [==============================] - 4s 4s/step - loss: 0.1051 - mae: 0.2450 - val_loss: 0.0495 - val_mae: 0.1693\n",
            "Epoch 595/750\n",
            "1/1 [==============================] - 4s 4s/step - loss: 0.1085 - mae: 0.2486 - val_loss: 0.0419 - val_mae: 0.1473\n",
            "Epoch 596/750\n",
            "1/1 [==============================] - 4s 4s/step - loss: 0.1060 - mae: 0.2450 - val_loss: 0.0467 - val_mae: 0.1640\n",
            "Epoch 597/750\n",
            "1/1 [==============================] - 4s 4s/step - loss: 0.1059 - mae: 0.2450 - val_loss: 0.0390 - val_mae: 0.1425\n",
            "Epoch 598/750\n",
            "1/1 [==============================] - 4s 4s/step - loss: 0.1049 - mae: 0.2440 - val_loss: 0.0492 - val_mae: 0.1648\n",
            "Epoch 599/750\n",
            "1/1 [==============================] - 4s 4s/step - loss: 0.1063 - mae: 0.2445 - val_loss: 0.0411 - val_mae: 0.1485\n",
            "Epoch 600/750\n",
            "1/1 [==============================] - 4s 4s/step - loss: 0.1055 - mae: 0.2462 - val_loss: 0.0479 - val_mae: 0.1640\n",
            "Epoch 601/750\n",
            "1/1 [==============================] - 4s 4s/step - loss: 0.1080 - mae: 0.2495 - val_loss: 0.0506 - val_mae: 0.1675\n",
            "Epoch 602/750\n",
            "1/1 [==============================] - 4s 4s/step - loss: 0.1117 - mae: 0.2542 - val_loss: 0.0491 - val_mae: 0.1643\n",
            "Epoch 603/750\n",
            "1/1 [==============================] - 4s 4s/step - loss: 0.1142 - mae: 0.2587 - val_loss: 0.0531 - val_mae: 0.1748\n",
            "Epoch 604/750\n",
            "1/1 [==============================] - 4s 4s/step - loss: 0.1104 - mae: 0.2507 - val_loss: 0.0387 - val_mae: 0.1472\n",
            "Epoch 605/750\n",
            "1/1 [==============================] - 4s 4s/step - loss: 0.1073 - mae: 0.2464 - val_loss: 0.0678 - val_mae: 0.2032\n",
            "Epoch 606/750\n",
            "1/1 [==============================] - 4s 4s/step - loss: 0.1169 - mae: 0.2588 - val_loss: 0.0452 - val_mae: 0.1591\n",
            "Epoch 607/750\n",
            "1/1 [==============================] - 4s 4s/step - loss: 0.1146 - mae: 0.2538 - val_loss: 0.0732 - val_mae: 0.2117\n",
            "Epoch 608/750\n",
            "1/1 [==============================] - 4s 4s/step - loss: 0.1270 - mae: 0.2724 - val_loss: 0.0754 - val_mae: 0.1862\n",
            "Epoch 609/750\n",
            "1/1 [==============================] - 4s 4s/step - loss: 0.1433 - mae: 0.2801 - val_loss: 0.0737 - val_mae: 0.1978\n",
            "Epoch 610/750\n",
            "1/1 [==============================] - 4s 4s/step - loss: 0.1272 - mae: 0.2657 - val_loss: 0.0390 - val_mae: 0.1455\n",
            "Epoch 611/750\n",
            "1/1 [==============================] - 4s 4s/step - loss: 0.1051 - mae: 0.2461 - val_loss: 0.0453 - val_mae: 0.1575\n",
            "Epoch 612/750\n",
            "1/1 [==============================] - 4s 4s/step - loss: 0.1032 - mae: 0.2415 - val_loss: 0.0423 - val_mae: 0.1527\n",
            "Epoch 613/750\n",
            "1/1 [==============================] - 4s 4s/step - loss: 0.1059 - mae: 0.2467 - val_loss: 0.0449 - val_mae: 0.1598\n",
            "Epoch 614/750\n",
            "1/1 [==============================] - 4s 4s/step - loss: 0.1055 - mae: 0.2456 - val_loss: 0.0473 - val_mae: 0.1611\n",
            "Epoch 615/750\n",
            "1/1 [==============================] - 4s 4s/step - loss: 0.1072 - mae: 0.2479 - val_loss: 0.0428 - val_mae: 0.1571\n",
            "Epoch 616/750\n",
            "1/1 [==============================] - 4s 4s/step - loss: 0.1054 - mae: 0.2462 - val_loss: 0.0511 - val_mae: 0.1657\n",
            "Epoch 617/750\n",
            "1/1 [==============================] - 4s 4s/step - loss: 0.1099 - mae: 0.2502 - val_loss: 0.0438 - val_mae: 0.1578\n",
            "Epoch 618/750\n",
            "1/1 [==============================] - 4s 4s/step - loss: 0.1085 - mae: 0.2510 - val_loss: 0.0549 - val_mae: 0.1715\n",
            "Epoch 619/750\n",
            "1/1 [==============================] - 4s 4s/step - loss: 0.1135 - mae: 0.2534 - val_loss: 0.0406 - val_mae: 0.1537\n",
            "Epoch 620/750\n",
            "1/1 [==============================] - 4s 4s/step - loss: 0.1040 - mae: 0.2463 - val_loss: 0.0440 - val_mae: 0.1544\n",
            "Epoch 621/750\n",
            "1/1 [==============================] - 4s 4s/step - loss: 0.1037 - mae: 0.2430 - val_loss: 0.0401 - val_mae: 0.1537\n",
            "Epoch 622/750\n",
            "1/1 [==============================] - 4s 4s/step - loss: 0.1030 - mae: 0.2435 - val_loss: 0.0455 - val_mae: 0.1579\n",
            "Epoch 623/750\n",
            "1/1 [==============================] - 4s 4s/step - loss: 0.1049 - mae: 0.2439 - val_loss: 0.0420 - val_mae: 0.1557\n",
            "Epoch 624/750\n",
            "1/1 [==============================] - 4s 4s/step - loss: 0.1062 - mae: 0.2469 - val_loss: 0.0523 - val_mae: 0.1682\n",
            "Epoch 625/750\n",
            "1/1 [==============================] - 4s 4s/step - loss: 0.1087 - mae: 0.2471 - val_loss: 0.0366 - val_mae: 0.1419\n",
            "Epoch 626/750\n",
            "1/1 [==============================] - 4s 4s/step - loss: 0.1018 - mae: 0.2418 - val_loss: 0.0470 - val_mae: 0.1639\n",
            "Epoch 627/750\n",
            "1/1 [==============================] - 4s 4s/step - loss: 0.1026 - mae: 0.2394 - val_loss: 0.0329 - val_mae: 0.1313\n",
            "Epoch 628/750\n",
            "1/1 [==============================] - 4s 4s/step - loss: 0.1017 - mae: 0.2406 - val_loss: 0.0550 - val_mae: 0.1841\n",
            "Epoch 629/750\n",
            "1/1 [==============================] - 4s 4s/step - loss: 0.1075 - mae: 0.2464 - val_loss: 0.0348 - val_mae: 0.1380\n",
            "Epoch 630/750\n",
            "1/1 [==============================] - 4s 4s/step - loss: 0.1068 - mae: 0.2460 - val_loss: 0.0628 - val_mae: 0.1956\n",
            "Epoch 631/750\n",
            "1/1 [==============================] - 4s 4s/step - loss: 0.1131 - mae: 0.2532 - val_loss: 0.0410 - val_mae: 0.1462\n",
            "Epoch 632/750\n",
            "1/1 [==============================] - 4s 4s/step - loss: 0.1080 - mae: 0.2477 - val_loss: 0.0634 - val_mae: 0.1935\n",
            "Epoch 633/750\n",
            "1/1 [==============================] - 4s 4s/step - loss: 0.1171 - mae: 0.2586 - val_loss: 0.0638 - val_mae: 0.1834\n",
            "Epoch 634/750\n",
            "1/1 [==============================] - 4s 4s/step - loss: 0.1217 - mae: 0.2641 - val_loss: 0.0554 - val_mae: 0.1896\n",
            "Epoch 635/750\n",
            "1/1 [==============================] - 4s 4s/step - loss: 0.1158 - mae: 0.2614 - val_loss: 0.0496 - val_mae: 0.1625\n",
            "Epoch 636/750\n",
            "1/1 [==============================] - 4s 4s/step - loss: 0.1152 - mae: 0.2572 - val_loss: 0.0514 - val_mae: 0.1785\n",
            "Epoch 637/750\n",
            "1/1 [==============================] - 4s 4s/step - loss: 0.1076 - mae: 0.2520 - val_loss: 0.0410 - val_mae: 0.1461\n",
            "Epoch 638/750\n",
            "1/1 [==============================] - 4s 4s/step - loss: 0.1026 - mae: 0.2404 - val_loss: 0.0398 - val_mae: 0.1522\n",
            "Epoch 639/750\n",
            "1/1 [==============================] - 4s 4s/step - loss: 0.1006 - mae: 0.2406 - val_loss: 0.0383 - val_mae: 0.1425\n",
            "Epoch 640/750\n",
            "1/1 [==============================] - 4s 4s/step - loss: 0.0997 - mae: 0.2366 - val_loss: 0.0452 - val_mae: 0.1525\n",
            "Epoch 641/750\n",
            "1/1 [==============================] - 4s 4s/step - loss: 0.1033 - mae: 0.2416 - val_loss: 0.0469 - val_mae: 0.1607\n",
            "Epoch 642/750\n",
            "1/1 [==============================] - 4s 4s/step - loss: 0.1048 - mae: 0.2442 - val_loss: 0.0426 - val_mae: 0.1478\n",
            "Epoch 643/750\n",
            "1/1 [==============================] - 4s 4s/step - loss: 0.1049 - mae: 0.2436 - val_loss: 0.0489 - val_mae: 0.1648\n",
            "Epoch 644/750\n",
            "1/1 [==============================] - 4s 4s/step - loss: 0.1090 - mae: 0.2494 - val_loss: 0.0396 - val_mae: 0.1442\n",
            "Epoch 645/750\n",
            "1/1 [==============================] - 4s 4s/step - loss: 0.1039 - mae: 0.2423 - val_loss: 0.0446 - val_mae: 0.1582\n",
            "Epoch 646/750\n",
            "1/1 [==============================] - 4s 4s/step - loss: 0.1023 - mae: 0.2416 - val_loss: 0.0349 - val_mae: 0.1339\n",
            "Epoch 647/750\n",
            "1/1 [==============================] - 4s 4s/step - loss: 0.0992 - mae: 0.2359 - val_loss: 0.0408 - val_mae: 0.1538\n",
            "Epoch 648/750\n",
            "1/1 [==============================] - 4s 4s/step - loss: 0.0978 - mae: 0.2357 - val_loss: 0.0334 - val_mae: 0.1296\n",
            "Epoch 649/750\n",
            "1/1 [==============================] - 4s 4s/step - loss: 0.0995 - mae: 0.2360 - val_loss: 0.0530 - val_mae: 0.1816\n",
            "Epoch 650/750\n",
            "1/1 [==============================] - 4s 4s/step - loss: 0.1076 - mae: 0.2476 - val_loss: 0.0461 - val_mae: 0.1519\n",
            "Epoch 651/750\n",
            "1/1 [==============================] - 4s 4s/step - loss: 0.1166 - mae: 0.2561 - val_loss: 0.0826 - val_mae: 0.2121\n",
            "Epoch 652/750\n",
            "1/1 [==============================] - 4s 4s/step - loss: 0.1319 - mae: 0.2688 - val_loss: 0.0375 - val_mae: 0.1411\n",
            "Epoch 653/750\n",
            "1/1 [==============================] - 4s 4s/step - loss: 0.1061 - mae: 0.2473 - val_loss: 0.0457 - val_mae: 0.1643\n",
            "Epoch 654/750\n",
            "1/1 [==============================] - 4s 4s/step - loss: 0.1014 - mae: 0.2383 - val_loss: 0.0317 - val_mae: 0.1291\n",
            "Epoch 655/750\n",
            "1/1 [==============================] - 4s 4s/step - loss: 0.0997 - mae: 0.2375 - val_loss: 0.0495 - val_mae: 0.1770\n",
            "Epoch 656/750\n",
            "1/1 [==============================] - 4s 4s/step - loss: 0.1054 - mae: 0.2465 - val_loss: 0.0549 - val_mae: 0.1749\n",
            "Epoch 657/750\n",
            "1/1 [==============================] - 4s 4s/step - loss: 0.1163 - mae: 0.2593 - val_loss: 0.0729 - val_mae: 0.2226\n",
            "Epoch 658/750\n",
            "1/1 [==============================] - 4s 4s/step - loss: 0.1289 - mae: 0.2790 - val_loss: 0.0770 - val_mae: 0.1989\n",
            "Epoch 659/750\n",
            "1/1 [==============================] - 4s 4s/step - loss: 0.1302 - mae: 0.2738 - val_loss: 0.0476 - val_mae: 0.1631\n",
            "Epoch 660/750\n",
            "1/1 [==============================] - 4s 4s/step - loss: 0.1105 - mae: 0.2525 - val_loss: 0.0351 - val_mae: 0.1381\n",
            "Epoch 661/750\n",
            "1/1 [==============================] - 4s 4s/step - loss: 0.0971 - mae: 0.2354 - val_loss: 0.0367 - val_mae: 0.1429\n",
            "Epoch 662/750\n",
            "1/1 [==============================] - 4s 4s/step - loss: 0.0978 - mae: 0.2361 - val_loss: 0.0378 - val_mae: 0.1441\n",
            "Epoch 663/750\n",
            "1/1 [==============================] - 4s 4s/step - loss: 0.0995 - mae: 0.2371 - val_loss: 0.0395 - val_mae: 0.1494\n",
            "Epoch 664/750\n",
            "1/1 [==============================] - 4s 4s/step - loss: 0.1005 - mae: 0.2418 - val_loss: 0.0418 - val_mae: 0.1520\n",
            "Epoch 665/750\n",
            "1/1 [==============================] - 4s 4s/step - loss: 0.1011 - mae: 0.2386 - val_loss: 0.0346 - val_mae: 0.1393\n",
            "Epoch 666/750\n",
            "1/1 [==============================] - 4s 4s/step - loss: 0.0988 - mae: 0.2377 - val_loss: 0.0451 - val_mae: 0.1585\n",
            "Epoch 667/750\n",
            "1/1 [==============================] - 4s 4s/step - loss: 0.1033 - mae: 0.2399 - val_loss: 0.0355 - val_mae: 0.1416\n",
            "Epoch 668/750\n",
            "1/1 [==============================] - 4s 4s/step - loss: 0.1035 - mae: 0.2429 - val_loss: 0.0467 - val_mae: 0.1611\n",
            "Epoch 669/750\n",
            "1/1 [==============================] - 4s 4s/step - loss: 0.1064 - mae: 0.2450 - val_loss: 0.0457 - val_mae: 0.1565\n",
            "Epoch 670/750\n",
            "1/1 [==============================] - 4s 4s/step - loss: 0.1079 - mae: 0.2458 - val_loss: 0.0413 - val_mae: 0.1479\n",
            "Epoch 671/750\n",
            "1/1 [==============================] - 4s 4s/step - loss: 0.1045 - mae: 0.2435 - val_loss: 0.0571 - val_mae: 0.1791\n",
            "Epoch 672/750\n",
            "1/1 [==============================] - 4s 4s/step - loss: 0.1069 - mae: 0.2464 - val_loss: 0.0384 - val_mae: 0.1409\n",
            "Epoch 673/750\n",
            "1/1 [==============================] - 4s 4s/step - loss: 0.1087 - mae: 0.2464 - val_loss: 0.0671 - val_mae: 0.2035\n",
            "Epoch 674/750\n",
            "1/1 [==============================] - 4s 4s/step - loss: 0.1153 - mae: 0.2581 - val_loss: 0.0427 - val_mae: 0.1496\n",
            "Epoch 675/750\n",
            "1/1 [==============================] - 4s 4s/step - loss: 0.1076 - mae: 0.2457 - val_loss: 0.0547 - val_mae: 0.1807\n",
            "Epoch 676/750\n",
            "1/1 [==============================] - 4s 4s/step - loss: 0.1098 - mae: 0.2513 - val_loss: 0.0437 - val_mae: 0.1522\n",
            "Epoch 677/750\n",
            "1/1 [==============================] - 4s 4s/step - loss: 0.1043 - mae: 0.2430 - val_loss: 0.0446 - val_mae: 0.1627\n",
            "Epoch 678/750\n",
            "1/1 [==============================] - 4s 4s/step - loss: 0.1062 - mae: 0.2477 - val_loss: 0.0516 - val_mae: 0.1663\n",
            "Epoch 679/750\n",
            "1/1 [==============================] - 4s 4s/step - loss: 0.1114 - mae: 0.2521 - val_loss: 0.0430 - val_mae: 0.1512\n",
            "Epoch 680/750\n",
            "1/1 [==============================] - 4s 4s/step - loss: 0.1050 - mae: 0.2444 - val_loss: 0.0454 - val_mae: 0.1598\n",
            "Epoch 681/750\n",
            "1/1 [==============================] - 4s 4s/step - loss: 0.1040 - mae: 0.2433 - val_loss: 0.0352 - val_mae: 0.1329\n",
            "Epoch 682/750\n",
            "1/1 [==============================] - 4s 4s/step - loss: 0.0996 - mae: 0.2363 - val_loss: 0.0409 - val_mae: 0.1560\n",
            "Epoch 683/750\n",
            "1/1 [==============================] - 4s 4s/step - loss: 0.0985 - mae: 0.2365 - val_loss: 0.0338 - val_mae: 0.1294\n",
            "Epoch 684/750\n",
            "1/1 [==============================] - 4s 4s/step - loss: 0.0978 - mae: 0.2335 - val_loss: 0.0396 - val_mae: 0.1544\n",
            "Epoch 685/750\n",
            "1/1 [==============================] - 4s 4s/step - loss: 0.0969 - mae: 0.2350 - val_loss: 0.0361 - val_mae: 0.1351\n",
            "Epoch 686/750\n",
            "1/1 [==============================] - 4s 4s/step - loss: 0.0988 - mae: 0.2355 - val_loss: 0.0428 - val_mae: 0.1589\n",
            "Epoch 687/750\n",
            "1/1 [==============================] - 4s 4s/step - loss: 0.1017 - mae: 0.2411 - val_loss: 0.0493 - val_mae: 0.1633\n",
            "Epoch 688/750\n",
            "1/1 [==============================] - 4s 4s/step - loss: 0.1113 - mae: 0.2541 - val_loss: 0.0558 - val_mae: 0.1777\n",
            "Epoch 689/750\n",
            "1/1 [==============================] - 4s 4s/step - loss: 0.1198 - mae: 0.2643 - val_loss: 0.0564 - val_mae: 0.1906\n",
            "Epoch 690/750\n",
            "1/1 [==============================] - 4s 4s/step - loss: 0.1176 - mae: 0.2638 - val_loss: 0.0758 - val_mae: 0.1975\n",
            "Epoch 691/750\n",
            "1/1 [==============================] - 4s 4s/step - loss: 0.1361 - mae: 0.2758 - val_loss: 0.0838 - val_mae: 0.2131\n",
            "Epoch 692/750\n",
            "1/1 [==============================] - 4s 4s/step - loss: 0.1351 - mae: 0.2759 - val_loss: 0.0392 - val_mae: 0.1459\n",
            "Epoch 693/750\n",
            "1/1 [==============================] - 4s 4s/step - loss: 0.1073 - mae: 0.2483 - val_loss: 0.0497 - val_mae: 0.1679\n",
            "Epoch 694/750\n",
            "1/1 [==============================] - 4s 4s/step - loss: 0.1050 - mae: 0.2431 - val_loss: 0.0337 - val_mae: 0.1357\n",
            "Epoch 695/750\n",
            "1/1 [==============================] - 4s 4s/step - loss: 0.1012 - mae: 0.2403 - val_loss: 0.0430 - val_mae: 0.1575\n",
            "Epoch 696/750\n",
            "1/1 [==============================] - 4s 4s/step - loss: 0.0992 - mae: 0.2355 - val_loss: 0.0308 - val_mae: 0.1281\n",
            "Epoch 697/750\n",
            "1/1 [==============================] - 4s 4s/step - loss: 0.0975 - mae: 0.2357 - val_loss: 0.0444 - val_mae: 0.1626\n",
            "Epoch 698/750\n",
            "1/1 [==============================] - 4s 4s/step - loss: 0.0997 - mae: 0.2366 - val_loss: 0.0315 - val_mae: 0.1279\n",
            "Epoch 699/750\n",
            "1/1 [==============================] - 4s 4s/step - loss: 0.0989 - mae: 0.2365 - val_loss: 0.0494 - val_mae: 0.1731\n",
            "Epoch 700/750\n",
            "1/1 [==============================] - 4s 4s/step - loss: 0.1029 - mae: 0.2413 - val_loss: 0.0321 - val_mae: 0.1284\n",
            "Epoch 701/750\n",
            "1/1 [==============================] - 4s 4s/step - loss: 0.1003 - mae: 0.2371 - val_loss: 0.0449 - val_mae: 0.1655\n",
            "Epoch 702/750\n",
            "1/1 [==============================] - 4s 4s/step - loss: 0.1006 - mae: 0.2388 - val_loss: 0.0312 - val_mae: 0.1256\n",
            "Epoch 703/750\n",
            "1/1 [==============================] - 4s 4s/step - loss: 0.0977 - mae: 0.2341 - val_loss: 0.0477 - val_mae: 0.1679\n",
            "Epoch 704/750\n",
            "1/1 [==============================] - 4s 4s/step - loss: 0.1007 - mae: 0.2372 - val_loss: 0.0387 - val_mae: 0.1420\n",
            "Epoch 705/750\n",
            "1/1 [==============================] - 4s 4s/step - loss: 0.1045 - mae: 0.2436 - val_loss: 0.0617 - val_mae: 0.1809\n",
            "Epoch 706/750\n",
            "1/1 [==============================] - 4s 4s/step - loss: 0.1174 - mae: 0.2584 - val_loss: 0.0532 - val_mae: 0.1850\n",
            "Epoch 707/750\n",
            "1/1 [==============================] - 4s 4s/step - loss: 0.1131 - mae: 0.2599 - val_loss: 0.0588 - val_mae: 0.1771\n",
            "Epoch 708/750\n",
            "1/1 [==============================] - 4s 4s/step - loss: 0.1171 - mae: 0.2597 - val_loss: 0.0493 - val_mae: 0.1812\n",
            "Epoch 709/750\n",
            "1/1 [==============================] - 4s 4s/step - loss: 0.1074 - mae: 0.2513 - val_loss: 0.0457 - val_mae: 0.1557\n",
            "Epoch 710/750\n",
            "1/1 [==============================] - 4s 4s/step - loss: 0.1066 - mae: 0.2461 - val_loss: 0.0502 - val_mae: 0.1716\n",
            "Epoch 711/750\n",
            "1/1 [==============================] - 4s 4s/step - loss: 0.1079 - mae: 0.2485 - val_loss: 0.0433 - val_mae: 0.1502\n",
            "Epoch 712/750\n",
            "1/1 [==============================] - 4s 4s/step - loss: 0.1071 - mae: 0.2451 - val_loss: 0.0472 - val_mae: 0.1619\n",
            "Epoch 713/750\n",
            "1/1 [==============================] - 4s 4s/step - loss: 0.1047 - mae: 0.2432 - val_loss: 0.0348 - val_mae: 0.1361\n",
            "Epoch 714/750\n",
            "1/1 [==============================] - 4s 4s/step - loss: 0.0973 - mae: 0.2337 - val_loss: 0.0391 - val_mae: 0.1490\n",
            "Epoch 715/750\n",
            "1/1 [==============================] - 4s 4s/step - loss: 0.0968 - mae: 0.2330 - val_loss: 0.0335 - val_mae: 0.1331\n",
            "Epoch 716/750\n",
            "1/1 [==============================] - 4s 4s/step - loss: 0.0970 - mae: 0.2326 - val_loss: 0.0391 - val_mae: 0.1486\n",
            "Epoch 717/750\n",
            "1/1 [==============================] - 4s 4s/step - loss: 0.0959 - mae: 0.2319 - val_loss: 0.0335 - val_mae: 0.1325\n",
            "Epoch 718/750\n",
            "1/1 [==============================] - 4s 4s/step - loss: 0.0977 - mae: 0.2337 - val_loss: 0.0457 - val_mae: 0.1611\n",
            "Epoch 719/750\n",
            "1/1 [==============================] - 4s 4s/step - loss: 0.1023 - mae: 0.2399 - val_loss: 0.0384 - val_mae: 0.1435\n",
            "Epoch 720/750\n",
            "1/1 [==============================] - 4s 4s/step - loss: 0.1036 - mae: 0.2428 - val_loss: 0.0544 - val_mae: 0.1785\n",
            "Epoch 721/750\n",
            "1/1 [==============================] - 4s 4s/step - loss: 0.1101 - mae: 0.2490 - val_loss: 0.0397 - val_mae: 0.1473\n",
            "Epoch 722/750\n",
            "1/1 [==============================] - 4s 4s/step - loss: 0.1021 - mae: 0.2423 - val_loss: 0.0440 - val_mae: 0.1625\n",
            "Epoch 723/750\n",
            "1/1 [==============================] - 4s 4s/step - loss: 0.1021 - mae: 0.2410 - val_loss: 0.0366 - val_mae: 0.1406\n",
            "Epoch 724/750\n",
            "1/1 [==============================] - 4s 4s/step - loss: 0.0974 - mae: 0.2351 - val_loss: 0.0357 - val_mae: 0.1424\n",
            "Epoch 725/750\n",
            "1/1 [==============================] - 4s 4s/step - loss: 0.0968 - mae: 0.2328 - val_loss: 0.0402 - val_mae: 0.1457\n",
            "Epoch 726/750\n",
            "1/1 [==============================] - 4s 4s/step - loss: 0.0986 - mae: 0.2349 - val_loss: 0.0388 - val_mae: 0.1489\n",
            "Epoch 727/750\n",
            "1/1 [==============================] - 4s 4s/step - loss: 0.1043 - mae: 0.2429 - val_loss: 0.0659 - val_mae: 0.1930\n",
            "Epoch 728/750\n",
            "1/1 [==============================] - 4s 4s/step - loss: 0.1179 - mae: 0.2603 - val_loss: 0.0457 - val_mae: 0.1610\n",
            "Epoch 729/750\n",
            "1/1 [==============================] - 4s 4s/step - loss: 0.1159 - mae: 0.2609 - val_loss: 0.0602 - val_mae: 0.1914\n",
            "Epoch 730/750\n",
            "1/1 [==============================] - 4s 4s/step - loss: 0.1146 - mae: 0.2565 - val_loss: 0.0361 - val_mae: 0.1370\n",
            "Epoch 731/750\n",
            "1/1 [==============================] - 4s 4s/step - loss: 0.0987 - mae: 0.2388 - val_loss: 0.0397 - val_mae: 0.1460\n",
            "Epoch 732/750\n",
            "1/1 [==============================] - 4s 4s/step - loss: 0.0986 - mae: 0.2329 - val_loss: 0.0365 - val_mae: 0.1457\n",
            "Epoch 733/750\n",
            "1/1 [==============================] - 4s 4s/step - loss: 0.0958 - mae: 0.2341 - val_loss: 0.0354 - val_mae: 0.1367\n",
            "Epoch 734/750\n",
            "1/1 [==============================] - 4s 4s/step - loss: 0.0970 - mae: 0.2341 - val_loss: 0.0442 - val_mae: 0.1680\n",
            "Epoch 735/750\n",
            "1/1 [==============================] - 4s 4s/step - loss: 0.1004 - mae: 0.2418 - val_loss: 0.0437 - val_mae: 0.1559\n",
            "Epoch 736/750\n",
            "1/1 [==============================] - 4s 4s/step - loss: 0.1055 - mae: 0.2450 - val_loss: 0.0647 - val_mae: 0.2058\n",
            "Epoch 737/750\n",
            "1/1 [==============================] - 4s 4s/step - loss: 0.1227 - mae: 0.2700 - val_loss: 0.0768 - val_mae: 0.2028\n",
            "Epoch 738/750\n",
            "1/1 [==============================] - 4s 4s/step - loss: 0.1346 - mae: 0.2789 - val_loss: 0.0595 - val_mae: 0.1808\n",
            "Epoch 739/750\n",
            "1/1 [==============================] - 4s 4s/step - loss: 0.1153 - mae: 0.2556 - val_loss: 0.0378 - val_mae: 0.1415\n",
            "Epoch 740/750\n",
            "1/1 [==============================] - 4s 4s/step - loss: 0.1032 - mae: 0.2429 - val_loss: 0.0418 - val_mae: 0.1547\n",
            "Epoch 741/750\n",
            "1/1 [==============================] - 4s 4s/step - loss: 0.0978 - mae: 0.2356 - val_loss: 0.0334 - val_mae: 0.1320\n",
            "Epoch 742/750\n",
            "1/1 [==============================] - 4s 4s/step - loss: 0.0958 - mae: 0.2323 - val_loss: 0.0396 - val_mae: 0.1539\n",
            "Epoch 743/750\n",
            "1/1 [==============================] - 4s 4s/step - loss: 0.0955 - mae: 0.2330 - val_loss: 0.0316 - val_mae: 0.1263\n",
            "Epoch 744/750\n",
            "1/1 [==============================] - 4s 4s/step - loss: 0.0966 - mae: 0.2323 - val_loss: 0.0416 - val_mae: 0.1576\n",
            "Epoch 745/750\n",
            "1/1 [==============================] - 4s 4s/step - loss: 0.0985 - mae: 0.2358 - val_loss: 0.0331 - val_mae: 0.1291\n",
            "Epoch 746/750\n",
            "1/1 [==============================] - 4s 4s/step - loss: 0.0979 - mae: 0.2327 - val_loss: 0.0451 - val_mae: 0.1645\n",
            "Epoch 747/750\n",
            "1/1 [==============================] - 4s 4s/step - loss: 0.0984 - mae: 0.2359 - val_loss: 0.0340 - val_mae: 0.1329\n",
            "Epoch 748/750\n",
            "1/1 [==============================] - 4s 4s/step - loss: 0.0988 - mae: 0.2347 - val_loss: 0.0511 - val_mae: 0.1758\n",
            "Epoch 749/750\n",
            "1/1 [==============================] - 4s 4s/step - loss: 0.1056 - mae: 0.2443 - val_loss: 0.0352 - val_mae: 0.1366\n",
            "Epoch 750/750\n",
            "1/1 [==============================] - 4s 4s/step - loss: 0.1028 - mae: 0.2404 - val_loss: 0.0488 - val_mae: 0.1719\n",
            "WARNING:tensorflow:Layer gru will not use cuDNN kernels since it doesn't meet the criteria. It will use a generic GPU kernel as fallback when running on GPU.\n",
            "WARNING:tensorflow:Layer gru_1 will not use cuDNN kernels since it doesn't meet the criteria. It will use a generic GPU kernel as fallback when running on GPU.\n",
            "WARNING:tensorflow:Layer lstm will not use cuDNN kernels since it doesn't meet the criteria. It will use a generic GPU kernel as fallback when running on GPU.\n",
            "WARNING:tensorflow:Layer lstm_1 will not use cuDNN kernels since it doesn't meet the criteria. It will use a generic GPU kernel as fallback when running on GPU.\n",
            "1/1 [==============================] - 2s 2s/step - loss: 0.0348 - mae: 0.1406\n",
            "Test MAE: 0.14\n",
            "Model: \"model\"\n",
            "_________________________________________________________________\n",
            " Layer (type)                Output Shape              Param #   \n",
            "=================================================================\n",
            " input_1 (InputLayer)        [(None, 12, 2)]           0         \n",
            "                                                                 \n",
            " gru (GRU)                   (None, 12, 50)            8100      \n",
            "                                                                 \n",
            " gru_1 (GRU)                 (None, 12, 100)           45600     \n",
            "                                                                 \n",
            " lstm (LSTM)                 (None, 12, 32)            17024     \n",
            "                                                                 \n",
            " lstm_1 (LSTM)               (None, 16)                3136      \n",
            "                                                                 \n",
            " dropout (Dropout)           (None, 16)                0         \n",
            "                                                                 \n",
            " dense (Dense)               (None, 1)                 17        \n",
            "                                                                 \n",
            "=================================================================\n",
            "Total params: 73,877\n",
            "Trainable params: 73,877\n",
            "Non-trainable params: 0\n",
            "_________________________________________________________________\n"
          ]
        }
      ]
    },
    {
      "cell_type": "markdown",
      "source": [
        "# Plotting Results"
      ],
      "metadata": {
        "id": "ipsDALgkAe1d"
      }
    },
    {
      "cell_type": "code",
      "source": [
        "acc = history.history[\"mae\"]\n",
        "val_acc = history.history[\"val_mae\"]\n",
        "loss = history.history[\"loss\"]\n",
        "val_loss = history.history[\"val_loss\"]\n",
        "epochs = range(1, len(acc) + 1)\n",
        "plt.plot(epochs, acc, \"bo\", label=\"Training MAE\")\n",
        "plt.plot(epochs, val_acc, \"g\", label=\"Validation MAE\")\n",
        "plt.title(\"Training and validation MAE\")\n",
        "plt.legend()\n",
        "plt.figure()\n",
        "plt.plot(epochs, loss, \"bo\", label=\"Training loss\")\n",
        "plt.plot(epochs, val_loss, \"g\", label=\"Validation loss\")\n",
        "plt.title(\"Training and validation loss\")\n",
        "plt.legend()\n",
        "plt.show()\n",
        "print(\"Final Training loss: \",history.history['loss'][-1],\"\\nFinal Training MAE: \", history.history['mae'][-1])\n",
        "print(\"Final Validation loss: \",history.history['val_loss'][-1],\"\\nFinal Validation MAE: \", history.history['val_mae'][-1])"
      ],
      "metadata": {
        "colab": {
          "base_uri": "https://localhost:8080/",
          "height": 614
        },
        "id": "09DuTLApAhsL",
        "outputId": "c01c6911-6aa0-4f96-c7eb-cb1902686035"
      },
      "execution_count": null,
      "outputs": [
        {
          "output_type": "display_data",
          "data": {
            "text/plain": [
              "<Figure size 432x288 with 1 Axes>"
            ],
            "image/png": "[encoded data removed]"
          },
          "metadata": {
            "needs_background": "light"
          }
        },
        {
          "output_type": "display_data",
          "data": {
            "text/plain": [
              "<Figure size 432x288 with 1 Axes>"
            ],
            "image/png": "[encoded data removed]"
          },
          "metadata": {
            "needs_background": "light"
          }
        },
        {
          "output_type": "stream",
          "name": "stdout",
          "text": [
            "Final Training loss:  0.10276700556278229 \n",
            "Final Training MAE:  0.24040523171424866\n",
            "Final Validation loss:  0.04883880168199539 \n",
            "Final Validation MAE:  0.17187492549419403\n"
          ]
        }
      ]
    },
    {
      "cell_type": "markdown",
      "source": [
        "# Comparing Predictions vs Targets"
      ],
      "metadata": {
        "id": "Gj-DILnqCJaw"
      }
    },
    {
      "cell_type": "code",
      "source": [
        "model = keras.models.load_model(\"predictor.keras\") # bringing the “best model”\n",
        "predictions = model.predict(test_dataset)\n",
        "model.evaluate(test_dataset)\n",
        "lenpred = len(predictions)\n",
        "plt.plot(range(lenpred), predictions, 'r')"
      ],
      "metadata": {
        "colab": {
          "base_uri": "https://localhost:8080/",
          "height": 389
        },
        "id": "Rg8qNjjtCTHW",
        "outputId": "745d6337-8a1f-45dc-e7f6-cc865340f427"
      },
      "execution_count": null,
      "outputs": [
        {
          "output_type": "stream",
          "name": "stdout",
          "text": [
            "WARNING:tensorflow:Layer gru will not use cuDNN kernels since it doesn't meet the criteria. It will use a generic GPU kernel as fallback when running on GPU.\n",
            "WARNING:tensorflow:Layer gru_1 will not use cuDNN kernels since it doesn't meet the criteria. It will use a generic GPU kernel as fallback when running on GPU.\n",
            "WARNING:tensorflow:Layer lstm will not use cuDNN kernels since it doesn't meet the criteria. It will use a generic GPU kernel as fallback when running on GPU.\n",
            "WARNING:tensorflow:Layer lstm_1 will not use cuDNN kernels since it doesn't meet the criteria. It will use a generic GPU kernel as fallback when running on GPU.\n",
            "1/1 [==============================] - 2s 2s/step - loss: 0.0348 - mae: 0.1406\n"
          ]
        },
        {
          "output_type": "execute_result",
          "data": {
            "text/plain": [
              "[<matplotlib.lines.Line2D at 0x7fe0a05268d0>]"
            ]
          },
          "metadata": {},
          "execution_count": 19
        },
        {
          "output_type": "display_data",
          "data": {
            "text/plain": [
              "<Figure size 432x288 with 1 Axes>"
            ],
            "image/png": "[encoded data removed]"
          },
          "metadata": {
            "needs_background": "light"
          }
        }
      ]
    },
    {
      "cell_type": "code",
      "source": [
        "# Retrieving and \"cropping\" the original targets\n",
        "org_targets = Copy_raw_data[num_train_samples + num_val_samples:,0] # targets for testing\n",
        "# We notice there are more \"original targets\" that predictions\n",
        "# We must \"crop\" the original targets on the left and on the right\n",
        "# Applying these left_ & right_ crops yields the midtargets, which\n",
        "# will be the same size as the predictions. It will possible to\n",
        "# overlay the 2 complete series or any corresponding parts of them\n",
        "left_crop = (sequence_length + horizon) * sampling_rate\n",
        "right_crop = ( (sequence_length - 1) * sampling_rate) - 1\n",
        "midtargets = org_targets[left_crop:-right_crop]\n",
        "print(\"midtargets shape:\", midtargets.shape)\n",
        "plt.plot(range(len(midtargets)), midtargets)\n",
        "# THIS IS IS THE PLOT OF SCALED-DOWN (NORMALIZED) TARGETS FOR THE TEST SET"
      ],
      "metadata": {
        "colab": {
          "base_uri": "https://localhost:8080/",
          "height": 300
        },
        "id": "Bkl3YAsOCatj",
        "outputId": "bbb54e58-84c2-4632-e15c-c57bb267dc32"
      },
      "execution_count": null,
      "outputs": [
        {
          "output_type": "stream",
          "name": "stdout",
          "text": [
            "midtargets shape: (19697,)\n"
          ]
        },
        {
          "output_type": "execute_result",
          "data": {
            "text/plain": [
              "[<matplotlib.lines.Line2D at 0x7fe0a108fb90>]"
            ]
          },
          "metadata": {},
          "execution_count": 20
        },
        {
          "output_type": "display_data",
          "data": {
            "text/plain": [
              "<Figure size 432x288 with 1 Axes>"
            ],
            "image/png": "[encoded data removed]"
          },
          "metadata": {
            "needs_background": "light"
          }
        }
      ]
    },
    {
      "cell_type": "code",
      "source": [
        "# Now overlay plot of predictions and targets in the same interval\n",
        "plt.plot(predictions[6000:6500], \"r\", label=\"PREDICTIONS\")\n",
        "plt.plot(midtargets[6000:6500], \"b\", label=\"TARGETS\")\n",
        "plt.title(\"PREDICTIONS (in red) and TARGETS (in blue)\")\n",
        "plt.legend()\n",
        "plt.show()"
      ],
      "metadata": {
        "colab": {
          "base_uri": "https://localhost:8080/",
          "height": 281
        },
        "id": "QW5yi78TFwXO",
        "outputId": "38ebafa7-5b00-47be-8e25-6c2eaa2cd73e"
      },
      "execution_count": null,
      "outputs": [
        {
          "output_type": "display_data",
          "data": {
            "text/plain": [
              "<Figure size 432x288 with 1 Axes>"
            ],
            "image/png": "[encoded data removed]"
          },
          "metadata": {
            "needs_background": "light"
          }
        }
      ]
    },
    {
      "cell_type": "markdown",
      "source": [
        "# Denormalizing Data"
      ],
      "metadata": {
        "id": "YGmWf_M5R8iv"
      }
    },
    {
      "cell_type": "code",
      "source": [
        "# De normalizing the data\n",
        "EFFpredictions1 = np.asarray(predictions * std[0])\n",
        "EFFpredictions2 = EFFpredictions1.flatten()\n",
        "\n",
        "MEANV = (np.ones(lenpred,)) * mean[0]\n",
        "\n",
        "EFFpredictions = EFFpredictions2 + MEANV\n",
        "print(EFFpredictions.shape)\n",
        "\n",
        "EFFmidtargets1 = np.asarray(midtargets * std[0])\n",
        "EFFmidtargets2 = EFFmidtargets1.flatten()\n",
        "\n",
        "MEANV = (np.ones(lenpred,)) * mean[0]\n",
        "\n",
        "EFFmidtargets = EFFmidtargets2 + MEANV\n",
        "print(EFFpredictions.shape)\n",
        "\n",
        "plt.plot(range(lenpred), EFFpredictions, 'r')\n",
        "plt.show"
      ],
      "metadata": {
        "colab": {
          "base_uri": "https://localhost:8080/",
          "height": 317
        },
        "id": "eTd75L0IR_IG",
        "outputId": "8279b354-98c2-45ec-cf50-730fe545a068"
      },
      "execution_count": null,
      "outputs": [
        {
          "output_type": "stream",
          "name": "stdout",
          "text": [
            "(19697,)\n",
            "(19697,)\n"
          ]
        },
        {
          "output_type": "execute_result",
          "data": {
            "text/plain": [
              "<function matplotlib.pyplot.show>"
            ]
          },
          "metadata": {},
          "execution_count": 22
        },
        {
          "output_type": "display_data",
          "data": {
            "text/plain": [
              "<Figure size 432x288 with 1 Axes>"
            ],
            "image/png": "[encoded data removed]"
          },
          "metadata": {
            "needs_background": "light"
          }
        }
      ]
    },
    {
      "cell_type": "code",
      "source": [
        "plt.plot(range(lenpred), EFFmidtargets, 'b')\n",
        "plt.show"
      ],
      "metadata": {
        "colab": {
          "base_uri": "https://localhost:8080/",
          "height": 282
        },
        "id": "m7Lkwi-I02QP",
        "outputId": "4aaaf7f7-69fa-44fb-87d1-f2f36b6579ec"
      },
      "execution_count": null,
      "outputs": [
        {
          "output_type": "execute_result",
          "data": {
            "text/plain": [
              "<function matplotlib.pyplot.show>"
            ]
          },
          "metadata": {},
          "execution_count": 23
        },
        {
          "output_type": "display_data",
          "data": {
            "text/plain": [
              "<Figure size 432x288 with 1 Axes>"
            ],
            "image/png": "[encoded data removed]"
          },
          "metadata": {
            "needs_background": "light"
          }
        }
      ]
    },
    {
      "cell_type": "code",
      "source": [
        "plt.plot(EFFpredictions[6000:6500], \"r\", label=\"PREDICTIONS\")\n",
        "plt.plot(EFFmidtargets[6000:6500], \"b\", label=\"TARGETS\")\n",
        "plt.title(\"PREDICTIONS (in red) and TARGETS (in blue)\")\n",
        "plt.legend()\n",
        "plt.show()"
      ],
      "metadata": {
        "colab": {
          "base_uri": "https://localhost:8080/",
          "height": 281
        },
        "id": "D8p8Y5nZ075k",
        "outputId": "ce439101-b56b-458d-bd50-b12eb7db523c"
      },
      "execution_count": null,
      "outputs": [
        {
          "output_type": "display_data",
          "data": {
            "text/plain": [
              "<Figure size 432x288 with 1 Axes>"
            ],
            "image/png": "[encoded data removed]"
          },
          "metadata": {
            "needs_background": "light"
          }
        }
      ]
    },
    {
      "cell_type": "code",
      "source": [
        "EFFECTIVE_MAE = np.mean(np.abs(EFFpredictions - EFFmidtargets))\n",
        "print(f'EFFECTIVE real-scale MAE: {EFFECTIVE_MAE:.2f}')\n",
        "PMAE = (EFFECTIVE_MAE /  (EFFmidtargets.max() - EFFmidtargets.min())) * 100\n",
        "print(PMAE)"
      ],
      "metadata": {
        "colab": {
          "base_uri": "https://localhost:8080/"
        },
        "id": "GTWmFqM6SJwW",
        "outputId": "79a7acda-bc6e-4162-8446-85aa25739cca"
      },
      "execution_count": null,
      "outputs": [
        {
          "output_type": "stream",
          "name": "stdout",
          "text": [
            "EFFECTIVE real-scale MAE: 144.76\n",
            "4.461068025316224\n"
          ]
        }
      ]
    }
  ]
}